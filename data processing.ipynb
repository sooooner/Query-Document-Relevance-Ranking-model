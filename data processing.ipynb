{
 "cells": [
  {
   "cell_type": "code",
   "execution_count": 1,
   "metadata": {
    "ExecuteTime": {
     "end_time": "2020-08-01T10:22:37.272321Z",
     "start_time": "2020-08-01T10:22:30.116422Z"
    }
   },
   "outputs": [],
   "source": [
    "import numpy as np\n",
    "import pandas as pd\n",
    "from nltk.corpus import stopwords\n",
    "from gensim.models import Word2Vec\n",
    "from ast import literal_eval\n",
    "from sklearn.feature_extraction import text\n",
    "from tqdm.notebook import tqdm"
   ]
  },
  {
   "cell_type": "markdown",
   "metadata": {},
   "source": [
    "### data load"
   ]
  },
  {
   "cell_type": "code",
   "execution_count": 3,
   "metadata": {
    "ExecuteTime": {
     "end_time": "2020-08-01T08:42:31.378846Z",
     "start_time": "2020-08-01T08:42:31.137986Z"
    }
   },
   "outputs": [],
   "source": [
    "train = pd.read_csv('./data/preprocess_train.csv').fillna('')\n",
    "test = pd.read_csv('./data/preprocess_test.csv').fillna('')"
   ]
  },
  {
   "cell_type": "code",
   "execution_count": 4,
   "metadata": {},
   "outputs": [],
   "source": [
    "test_df = train.copy()"
   ]
  },
  {
   "cell_type": "markdown",
   "metadata": {},
   "source": [
    "### generate_pairwise_dataset"
   ]
  },
  {
   "cell_type": "code",
   "execution_count": 6,
   "metadata": {},
   "outputs": [],
   "source": [
    "def generate_pairwise_dataset(df):\n",
    "    columns = ['query_preprocessed', \n",
    "               'product_title_preprocessed_P', \n",
    "               'product_title_preprocessed_N', \n",
    "               'median_relevance_P', \n",
    "               'median_relevance_N']\n",
    "    \n",
    "    new_df = pd.DataFrame(columns=columns)\n",
    "    for query in tqdm(df['query_preprocessed'].unique()):\n",
    "        for positive in [4, 3, 2]:\n",
    "            try:\n",
    "                P_temp = df[df['query_preprocessed']==query].groupby('median_relevance').get_group(positive)\n",
    "                for negative in range(positive)[:0,-1]:\n",
    "                    try:\n",
    "                        N_temp = df[df['query_preprocessed']==query].groupby('median_relevance').get_group(negative)\n",
    "                        temp = pd.merge(P_temp, N_temp, how='inner', on='query_preprocessed',  suffixes=('_P', '_N'))[columns]\n",
    "                        new_df = pd.concat((new_df, temp))\n",
    "                    except:\n",
    "                        # 만족도가 없는구간 pass\n",
    "                        pass\n",
    "            except:\n",
    "                # 만족도가 없는구간 pass\n",
    "                pass\n",
    "    return new_df"
   ]
  },
  {
   "cell_type": "code",
   "execution_count": 7,
   "metadata": {},
   "outputs": [
    {
     "data": {
      "application/vnd.jupyter.widget-view+json": {
       "model_id": "1710389a44894a0085b2f52a022750bd",
       "version_major": 2,
       "version_minor": 0
      },
      "text/plain": [
       "HBox(children=(FloatProgress(value=0.0, max=261.0), HTML(value='')))"
      ]
     },
     "metadata": {},
     "output_type": "display_data"
    },
    {
     "name": "stdout",
     "output_type": "stream",
     "text": [
      "\n"
     ]
    }
   ],
   "source": [
    "new_df = generate_pairwise_dataset(train)"
   ]
  },
  {
   "cell_type": "markdown",
   "metadata": {},
   "source": [
    "### word2vec model train"
   ]
  },
  {
   "cell_type": "code",
   "execution_count": 8,
   "metadata": {
    "ExecuteTime": {
     "end_time": "2020-08-01T08:50:41.725754Z",
     "start_time": "2020-08-01T08:42:37.126554Z"
    }
   },
   "outputs": [],
   "source": [
    "sentences_train_eda = train_eda.apply(lambda x: (\"%s %s %s\" % (x['query_preprocessed'],\n",
    "                                                       x['product_title_preprocessed'],\n",
    "                                                       x['product_description_preprocessed'])).split(' '),\n",
    "                              axis=1)\n",
    "sentences_test = test.apply(lambda x: (\"%s %s %s\" % (x['query_preprocessed'],\n",
    "                                                     x['product_title_preprocessed'],\n",
    "                                                     x['product_description_preprocessed'])).split(' '),\n",
    "                            axis=1)\n",
    "sentences_train = train.apply(lambda x: (\"%s %s %s\" % (x['query_preprocessed'],\n",
    "                                                     x['product_title_preprocessed'],\n",
    "                                                     x['product_description_preprocessed'])).split(' '),\n",
    "                            axis=1)\n",
    "sentences = pd.concat((sentences_train, sentences_test, sentences_train_eda), axis=0)\n",
    "\n",
    "model = Word2Vec(sentences=sentences, size=100,window=4, min_count=1, workers=4, iter=100, sg=1)"
   ]
  },
  {
   "cell_type": "code",
   "execution_count": 9,
   "metadata": {},
   "outputs": [
    {
     "name": "stdout",
     "output_type": "stream",
     "text": [
      "queen: 0.5155\n"
     ]
    }
   ],
   "source": [
    "result  = model.wv.most_similar(positive=['woman', 'king'], negative=['man'])\n",
    "print(\"{}: {:.4f}\".format(*result[0]))"
   ]
  },
  {
   "cell_type": "markdown",
   "metadata": {},
   "source": [
    "## DRMM"
   ]
  },
  {
   "cell_type": "markdown",
   "metadata": {},
   "source": [
    "### generate sim hist for drmm"
   ]
  },
  {
   "cell_type": "code",
   "execution_count": 10,
   "metadata": {
    "ExecuteTime": {
     "end_time": "2020-07-30T07:53:55.722871Z",
     "start_time": "2020-07-30T07:53:55.699884Z"
    }
   },
   "outputs": [],
   "source": [
    "def q_D_hist(q, D, bins=30):\n",
    "    D = D.split(' ')\n",
    "    hist = np.ones((bins))\n",
    "    for d in D:\n",
    "        idx = 0\n",
    "        for i in range(bins):\n",
    "            if model.wv.similarity(q, d) >= (1/(bins))*i:\n",
    "                idx += 1\n",
    "        if idx==0:\n",
    "            hist[idx] += 1\n",
    "        else:\n",
    "            hist[idx-1] += 1\n",
    "    return list(np.log(hist))\n",
    "\n",
    "def Q_D_hist(Q, D):\n",
    "    Q = Q.split(' ')\n",
    "    hist_list = np.array(np.zeros(len(Q)), dtype=object)\n",
    "    for i, q in enumerate(Q):\n",
    "        hist_list[i] = q_D_hist(q, D, bins=30)\n",
    "    return list(hist_list)"
   ]
  },
  {
   "cell_type": "code",
   "execution_count": 11,
   "metadata": {
    "ExecuteTime": {
     "end_time": "2020-07-30T07:53:55.995714Z",
     "start_time": "2020-07-30T07:53:55.891775Z"
    }
   },
   "outputs": [],
   "source": [
    "query_sim = {}\n",
    "for Q in new_df['query_preprocessed'].unique():\n",
    "    query_sim[Q] = {}"
   ]
  },
  {
   "cell_type": "code",
   "execution_count": 13,
   "metadata": {
    "ExecuteTime": {
     "end_time": "2020-07-30T07:58:48.197003Z",
     "start_time": "2020-07-30T07:53:56.759276Z"
    }
   },
   "outputs": [
    {
     "data": {
      "application/vnd.jupyter.widget-view+json": {
       "model_id": "930893fc0680420ab729459f591e58d9",
       "version_major": 2,
       "version_minor": 0
      },
      "text/plain": [
       "HBox(children=(FloatProgress(value=1.0, bar_style='info', max=1.0), HTML(value='')))"
      ]
     },
     "metadata": {},
     "output_type": "display_data"
    },
    {
     "name": "stdout",
     "output_type": "stream",
     "text": [
      "\n"
     ]
    }
   ],
   "source": [
    "for _, row in tqdm(new_df[['query_preprocessed', 'product_title_preprocessed_P']].drop_duplicates().iterrows()):\n",
    "    query_sim[row['query_preprocessed']][row['product_title_preprocessed_P']] = Q_D_hist(row['query_preprocessed'], row['product_title_preprocessed_P'])"
   ]
  },
  {
   "cell_type": "code",
   "execution_count": 14,
   "metadata": {
    "ExecuteTime": {
     "end_time": "2020-07-30T08:01:03.527327Z",
     "start_time": "2020-07-30T07:58:49.434292Z"
    }
   },
   "outputs": [
    {
     "data": {
      "application/vnd.jupyter.widget-view+json": {
       "model_id": "4b113ebf79a84c62bc84cd096c4bff44",
       "version_major": 2,
       "version_minor": 0
      },
      "text/plain": [
       "HBox(children=(FloatProgress(value=1.0, bar_style='info', max=1.0), HTML(value='')))"
      ]
     },
     "metadata": {},
     "output_type": "display_data"
    },
    {
     "name": "stdout",
     "output_type": "stream",
     "text": [
      "\n"
     ]
    }
   ],
   "source": [
    "for _, row in tqdm(new_df[['query_preprocessed', 'product_title_preprocessed_N']].drop_duplicates().iterrows()):\n",
    "    query_sim[row['query_preprocessed']][row['product_title_preprocessed_N']] = Q_D_hist(row['query_preprocessed'], row['product_title_preprocessed_N'])"
   ]
  },
  {
   "cell_type": "code",
   "execution_count": 15,
   "metadata": {
    "ExecuteTime": {
     "end_time": "2020-08-01T08:50:41.908650Z",
     "start_time": "2020-08-01T08:50:41.884663Z"
    }
   },
   "outputs": [
    {
     "name": "stderr",
     "output_type": "stream",
     "text": [
      "C:\\Users\\kwon\\anaconda3\\lib\\site-packages\\tqdm\\std.py:658: FutureWarning: The Panel class is removed from pandas. Accessing it from the top-level namespace will also be removed in the next version\n",
      "  from pandas import Panel\n"
     ]
    }
   ],
   "source": [
    "tqdm.pandas()"
   ]
  },
  {
   "cell_type": "code",
   "execution_count": 16,
   "metadata": {
    "ExecuteTime": {
     "end_time": "2020-07-30T08:02:38.690705Z",
     "start_time": "2020-07-30T08:01:06.681516Z"
    }
   },
   "outputs": [
    {
     "data": {
      "application/vnd.jupyter.widget-view+json": {
       "model_id": "15887aa24d574c16bcbd2f8f22ed47b2",
       "version_major": 2,
       "version_minor": 0
      },
      "text/plain": [
       "HBox(children=(FloatProgress(value=0.0, max=54985.0), HTML(value='')))"
      ]
     },
     "metadata": {},
     "output_type": "display_data"
    },
    {
     "name": "stdout",
     "output_type": "stream",
     "text": [
      "\n"
     ]
    }
   ],
   "source": [
    "new_df['positive_hist'] = new_df.progress_apply(lambda x: query_sim[x['query_preprocessed']][x['product_title_preprocessed_P']], axis=1)"
   ]
  },
  {
   "cell_type": "code",
   "execution_count": 17,
   "metadata": {
    "ExecuteTime": {
     "end_time": "2020-07-30T08:03:04.074138Z",
     "start_time": "2020-07-30T08:02:40.745527Z"
    }
   },
   "outputs": [
    {
     "data": {
      "application/vnd.jupyter.widget-view+json": {
       "model_id": "8fff783441634269a09e0019a05ef243",
       "version_major": 2,
       "version_minor": 0
      },
      "text/plain": [
       "HBox(children=(FloatProgress(value=0.0, max=54985.0), HTML(value='')))"
      ]
     },
     "metadata": {},
     "output_type": "display_data"
    },
    {
     "name": "stdout",
     "output_type": "stream",
     "text": [
      "\n"
     ]
    }
   ],
   "source": [
    "new_df['negative_hist'] = new_df.progress_apply(lambda x: query_sim[x['query_preprocessed']][x['product_title_preprocessed_N']], axis=1)"
   ]
  },
  {
   "cell_type": "code",
   "execution_count": 43,
   "metadata": {},
   "outputs": [
    {
     "data": {
      "application/vnd.jupyter.widget-view+json": {
       "model_id": "af8fe20d112a4517803b3d3703a4e580",
       "version_major": 2,
       "version_minor": 0
      },
      "text/plain": [
       "HBox(children=(FloatProgress(value=0.0, max=10158.0), HTML(value='')))"
      ]
     },
     "metadata": {},
     "output_type": "display_data"
    },
    {
     "name": "stdout",
     "output_type": "stream",
     "text": [
      "\n"
     ]
    }
   ],
   "source": [
    "test_df['hist'] = test_df.progress_apply(lambda x: Q_D_hist(x['query_preprocessed'], x['product_title_preprocessed']), axis=1)"
   ]
  },
  {
   "cell_type": "markdown",
   "metadata": {},
   "source": [
    "### calculate query idf value"
   ]
  },
  {
   "cell_type": "code",
   "execution_count": 45,
   "metadata": {
    "ExecuteTime": {
     "end_time": "2020-07-30T08:03:19.487305Z",
     "start_time": "2020-07-30T08:03:16.815826Z"
    }
   },
   "outputs": [],
   "source": [
    "stop_words = text.ENGLISH_STOP_WORDS.union(['http', 'www', 'img', 'border', 'color', 'style', 'padding', 'table', 'font', '',\n",
    "                                            'thi', 'inch', 'ha', 'width', 'height', '0', '1', '2', '3', '4', '5', '6', '7', '8', '9'])\n",
    "stop_words = text.ENGLISH_STOP_WORDS.union(set(stopwords.words('english')))\n",
    "tf_sentences = list(train.apply(lambda x: (\"%s %s\"%(x['query_preprocessed'], x['product_title_preprocessed'])),  axis=1))\n",
    "tfv = text.TfidfVectorizer(min_df=7, max_features=None, strip_accents='unicode', analyzer='word', token_pattern=r'\\w{1,}',\n",
    "                           ngram_range=(1, 3), use_idf=True, smooth_idf=True, sublinear_tf=True,\n",
    "                           stop_words=stop_words).fit(tf_sentences)\n",
    "\n",
    "feature_names = tfv.get_feature_names()    "
   ]
  },
  {
   "cell_type": "code",
   "execution_count": 46,
   "metadata": {
    "ExecuteTime": {
     "end_time": "2020-07-30T08:03:21.137345Z",
     "start_time": "2020-07-30T08:03:21.130347Z"
    }
   },
   "outputs": [],
   "source": [
    "def get_ifidf_for_words(text):\n",
    "    tfidf_matrix= tfv.transform([text]).todense()\n",
    "    feature_index = tfidf_matrix[0,:].nonzero()[1]\n",
    "    tfidf_scores = zip([feature_names[i] for i in feature_index], [tfidf_matrix[0, x] for x in feature_index])\n",
    "    return dict(tfidf_scores)"
   ]
  },
  {
   "cell_type": "code",
   "execution_count": 47,
   "metadata": {
    "ExecuteTime": {
     "end_time": "2020-07-30T08:03:23.383053Z",
     "start_time": "2020-07-30T08:03:22.885340Z"
    }
   },
   "outputs": [
    {
     "data": {
      "application/vnd.jupyter.widget-view+json": {
       "model_id": "4bb13028da7d4aeea19c0b1b0879ac7b",
       "version_major": 2,
       "version_minor": 0
      },
      "text/plain": [
       "HBox(children=(FloatProgress(value=0.0, max=261.0), HTML(value='')))"
      ]
     },
     "metadata": {},
     "output_type": "display_data"
    },
    {
     "name": "stdout",
     "output_type": "stream",
     "text": [
      "\n"
     ]
    }
   ],
   "source": [
    "query_idf_dict = {}\n",
    "for query_sentences in tqdm(train['query_preprocessed'].unique()):\n",
    "    idf_dict = get_ifidf_for_words(query_sentences)\n",
    "    query_idf_dict[query_sentences] = [idf_dict[query_word] for query_word in query_sentences.split(' ')]"
   ]
  },
  {
   "cell_type": "code",
   "execution_count": 48,
   "metadata": {
    "ExecuteTime": {
     "end_time": "2020-07-30T08:03:54.596140Z",
     "start_time": "2020-07-30T08:03:25.058094Z"
    }
   },
   "outputs": [
    {
     "data": {
      "application/vnd.jupyter.widget-view+json": {
       "model_id": "862b7a26fd7b47bbb47f38a4de388432",
       "version_major": 2,
       "version_minor": 0
      },
      "text/plain": [
       "HBox(children=(FloatProgress(value=0.0, max=54985.0), HTML(value='')))"
      ]
     },
     "metadata": {},
     "output_type": "display_data"
    },
    {
     "name": "stdout",
     "output_type": "stream",
     "text": [
      "\n"
     ]
    },
    {
     "data": {
      "application/vnd.jupyter.widget-view+json": {
       "model_id": "a6c775e7849b435f9e0ee853a7a2d810",
       "version_major": 2,
       "version_minor": 0
      },
      "text/plain": [
       "HBox(children=(FloatProgress(value=0.0, max=54985.0), HTML(value='')))"
      ]
     },
     "metadata": {},
     "output_type": "display_data"
    },
    {
     "name": "stdout",
     "output_type": "stream",
     "text": [
      "\n"
     ]
    }
   ],
   "source": [
    "new_df['query_idf'] = new_df.progress_apply(lambda x: query_idf_dict[x['query_preprocessed']], axis=1)\n",
    "new_df['query_len'] = new_df.progress_apply(lambda x: len(x['query_preprocessed'].split(' ')), axis=1)"
   ]
  },
  {
   "cell_type": "code",
   "execution_count": 49,
   "metadata": {},
   "outputs": [
    {
     "data": {
      "application/vnd.jupyter.widget-view+json": {
       "model_id": "11e3d2f638e44cf3a6845f4da06308df",
       "version_major": 2,
       "version_minor": 0
      },
      "text/plain": [
       "HBox(children=(FloatProgress(value=0.0, max=10158.0), HTML(value='')))"
      ]
     },
     "metadata": {},
     "output_type": "display_data"
    },
    {
     "name": "stdout",
     "output_type": "stream",
     "text": [
      "\n"
     ]
    },
    {
     "data": {
      "application/vnd.jupyter.widget-view+json": {
       "model_id": "2bb2dd51d1644a92854c7d3bdfa6f1c9",
       "version_major": 2,
       "version_minor": 0
      },
      "text/plain": [
       "HBox(children=(FloatProgress(value=0.0, max=10158.0), HTML(value='')))"
      ]
     },
     "metadata": {},
     "output_type": "display_data"
    },
    {
     "name": "stdout",
     "output_type": "stream",
     "text": [
      "\n"
     ]
    }
   ],
   "source": [
    "test_df['query_idf'] = test_df.progress_apply(lambda x: query_idf_dict[x['query_preprocessed']], axis=1)\n",
    "test_df['query_len'] = test_df.progress_apply(lambda x: len(x['query_preprocessed'].split(' ')), axis=1)"
   ]
  },
  {
   "cell_type": "markdown",
   "metadata": {},
   "source": [
    "## PACCR"
   ]
  },
  {
   "cell_type": "markdown",
   "metadata": {},
   "source": [
    "### calculate hyperparameter for paccr"
   ]
  },
  {
   "cell_type": "code",
   "execution_count": 51,
   "metadata": {},
   "outputs": [],
   "source": [
    "query_sim = {}\n",
    "for Q in new_df['query_preprocessed'].unique():\n",
    "    query_sim[Q] = {}"
   ]
  },
  {
   "cell_type": "code",
   "execution_count": 52,
   "metadata": {},
   "outputs": [
    {
     "data": {
      "text/plain": [
       "6"
      ]
     },
     "execution_count": 52,
     "metadata": {},
     "output_type": "execute_result"
    }
   ],
   "source": [
    "lq = 0\n",
    "for t in new_df['query_preprocessed'].unique():\n",
    "    if lq < len(t.split(' ')):\n",
    "        lq = len(t.split(' '))\n",
    "lq"
   ]
  },
  {
   "cell_type": "code",
   "execution_count": 53,
   "metadata": {},
   "outputs": [],
   "source": [
    "len_sum = 0\n",
    "for t in new_df['product_title_preprocessed_P'].unique():\n",
    "    len_sum += len(t.split(' '))\n",
    "len_mean = len_sum/len(new_df['product_title_preprocessed_P'].unique())"
   ]
  },
  {
   "cell_type": "code",
   "execution_count": 54,
   "metadata": {},
   "outputs": [
    {
     "data": {
      "text/plain": [
       "8"
      ]
     },
     "execution_count": 54,
     "metadata": {},
     "output_type": "execute_result"
    }
   ],
   "source": [
    "len_sum = 0\n",
    "for t in new_df['product_title_preprocessed_N'].unique():\n",
    "    len_sum += len(t.split(' '))\n",
    "len_mean += len_sum/len(new_df['product_title_preprocessed_N'].unique())\n",
    "firstk = int(len_mean/2)\n",
    "firstk"
   ]
  },
  {
   "cell_type": "markdown",
   "metadata": {},
   "source": [
    "### generate sim matrix for paccr"
   ]
  },
  {
   "cell_type": "code",
   "execution_count": 55,
   "metadata": {},
   "outputs": [],
   "source": [
    "def q_D_matrix(q, D):\n",
    "    D = D.split(' ')\n",
    "    col = [0]*firstk\n",
    "    for i in range(7):\n",
    "        try:\n",
    "            col[i] = model.wv.similarity(q, D[i])\n",
    "        except:\n",
    "            col[i] = col[i]\n",
    "    return list(col)\n",
    "\n",
    "def Q_D_matrix(Q, D):\n",
    "    Q = Q.split(' ')\n",
    "    matrix = [[0]*firstk]*lq\n",
    "    for i, q in enumerate(Q):\n",
    "        matrix[i] = q_D_matrix(q, D)\n",
    "    return list(matrix)"
   ]
  },
  {
   "cell_type": "code",
   "execution_count": 56,
   "metadata": {},
   "outputs": [
    {
     "data": {
      "application/vnd.jupyter.widget-view+json": {
       "model_id": "e72acd375e9843919aa6a01c2c8c32fb",
       "version_major": 2,
       "version_minor": 0
      },
      "text/plain": [
       "HBox(children=(FloatProgress(value=1.0, bar_style='info', max=1.0), HTML(value='')))"
      ]
     },
     "metadata": {},
     "output_type": "display_data"
    },
    {
     "name": "stdout",
     "output_type": "stream",
     "text": [
      "\n"
     ]
    }
   ],
   "source": [
    "for _, row in tqdm(new_df[['query_preprocessed', 'product_title_preprocessed_P']].drop_duplicates().iterrows()):\n",
    "    query_sim[row['query_preprocessed']][row['product_title_preprocessed_P']] = Q_D_matrix(row['query_preprocessed'], row['product_title_preprocessed_P'])"
   ]
  },
  {
   "cell_type": "code",
   "execution_count": 57,
   "metadata": {},
   "outputs": [
    {
     "data": {
      "application/vnd.jupyter.widget-view+json": {
       "model_id": "1f389086cc4243d5b69cd13c370180ed",
       "version_major": 2,
       "version_minor": 0
      },
      "text/plain": [
       "HBox(children=(FloatProgress(value=1.0, bar_style='info', max=1.0), HTML(value='')))"
      ]
     },
     "metadata": {},
     "output_type": "display_data"
    },
    {
     "name": "stdout",
     "output_type": "stream",
     "text": [
      "\n"
     ]
    }
   ],
   "source": [
    "for _, row in tqdm(new_df[['query_preprocessed', 'product_title_preprocessed_N']].drop_duplicates().iterrows()):\n",
    "    query_sim[row['query_preprocessed']][row['product_title_preprocessed_N']] = Q_D_matrix(row['query_preprocessed'], row['product_title_preprocessed_N'])"
   ]
  },
  {
   "cell_type": "code",
   "execution_count": 58,
   "metadata": {},
   "outputs": [
    {
     "data": {
      "application/vnd.jupyter.widget-view+json": {
       "model_id": "faa5de424f054fada2793b4c4a3e2e7d",
       "version_major": 2,
       "version_minor": 0
      },
      "text/plain": [
       "HBox(children=(FloatProgress(value=0.0, max=54985.0), HTML(value='')))"
      ]
     },
     "metadata": {},
     "output_type": "display_data"
    },
    {
     "name": "stdout",
     "output_type": "stream",
     "text": [
      "\n"
     ]
    },
    {
     "data": {
      "application/vnd.jupyter.widget-view+json": {
       "model_id": "1e3a4df416cb40a5901e1c99e9358b17",
       "version_major": 2,
       "version_minor": 0
      },
      "text/plain": [
       "HBox(children=(FloatProgress(value=0.0, max=54985.0), HTML(value='')))"
      ]
     },
     "metadata": {},
     "output_type": "display_data"
    },
    {
     "name": "stdout",
     "output_type": "stream",
     "text": [
      "\n"
     ]
    }
   ],
   "source": [
    "new_df['negative_sim_matrix'] = new_df.progress_apply(lambda x: query_sim[x['query_preprocessed']][x['product_title_preprocessed_N']], axis=1)\n",
    "new_df['positive_sim_matrix'] = new_df.progress_apply(lambda x: query_sim[x['query_preprocessed']][x['product_title_preprocessed_P']], axis=1)"
   ]
  },
  {
   "cell_type": "code",
   "execution_count": 59,
   "metadata": {},
   "outputs": [
    {
     "data": {
      "application/vnd.jupyter.widget-view+json": {
       "model_id": "30363c39ab864325b50bc21d05c70eb0",
       "version_major": 2,
       "version_minor": 0
      },
      "text/plain": [
       "HBox(children=(FloatProgress(value=0.0, max=10158.0), HTML(value='')))"
      ]
     },
     "metadata": {},
     "output_type": "display_data"
    },
    {
     "name": "stdout",
     "output_type": "stream",
     "text": [
      "\n"
     ]
    }
   ],
   "source": [
    "test_df['sim_matrix'] = test_df.progress_apply(lambda x: Q_D_matrix(x['query_preprocessed'], x['product_title_preprocessed']), axis=1)"
   ]
  },
  {
   "cell_type": "markdown",
   "metadata": {},
   "source": [
    "### calculate softmax query idf value"
   ]
  },
  {
   "cell_type": "code",
   "execution_count": 61,
   "metadata": {},
   "outputs": [],
   "source": [
    "def idf_softmax(x, lq=6):\n",
    "    output = np.zeros(lq)\n",
    "    output[:len(x)] = x\n",
    "    output = np.exp(output) / np.sum(np.exp(output), axis=0)\n",
    "    return list(output)"
   ]
  },
  {
   "cell_type": "code",
   "execution_count": 62,
   "metadata": {},
   "outputs": [
    {
     "data": {
      "application/vnd.jupyter.widget-view+json": {
       "model_id": "2bf0294edd4d467c870a23c0902971bd",
       "version_major": 2,
       "version_minor": 0
      },
      "text/plain": [
       "HBox(children=(FloatProgress(value=0.0, max=54985.0), HTML(value='')))"
      ]
     },
     "metadata": {},
     "output_type": "display_data"
    },
    {
     "name": "stdout",
     "output_type": "stream",
     "text": [
      "\n"
     ]
    }
   ],
   "source": [
    "new_df['idf_softmax'] = new_df.progress_apply(lambda x: idf_softmax(x['query_idf']), axis=1)"
   ]
  },
  {
   "cell_type": "code",
   "execution_count": 63,
   "metadata": {},
   "outputs": [
    {
     "data": {
      "application/vnd.jupyter.widget-view+json": {
       "model_id": "ee0e764eeb6a416c945bf047f6af2aef",
       "version_major": 2,
       "version_minor": 0
      },
      "text/plain": [
       "HBox(children=(FloatProgress(value=0.0, max=10158.0), HTML(value='')))"
      ]
     },
     "metadata": {},
     "output_type": "display_data"
    },
    {
     "name": "stdout",
     "output_type": "stream",
     "text": [
      "\n"
     ]
    }
   ],
   "source": [
    "test_df['idf_softmax'] = test_df.progress_apply(lambda x: idf_softmax(x['query_idf']), axis=1)"
   ]
  },
  {
   "cell_type": "markdown",
   "metadata": {},
   "source": [
    "### Save DataFrmae"
   ]
  },
  {
   "cell_type": "code",
   "execution_count": null,
   "metadata": {},
   "outputs": [],
   "source": [
    "# new_df.to_csv('./data/paccr_drmm.csv', index=False)"
   ]
  },
  {
   "cell_type": "code",
   "execution_count": null,
   "metadata": {},
   "outputs": [],
   "source": [
    "# new_df.to_csv('./data/paccr_drmm_train.csv', index=False)"
   ]
  },
  {
   "cell_type": "code",
   "execution_count": 65,
   "metadata": {},
   "outputs": [],
   "source": [
    "new_df.to_csv('./data/paccr_drmm_.csv', index=False)"
   ]
  },
  {
   "cell_type": "code",
   "execution_count": 66,
   "metadata": {},
   "outputs": [],
   "source": [
    "test_df.to_csv('./data/paccr_drmm_test.csv', index=False)"
   ]
  }
 ],
 "metadata": {
  "kernelspec": {
   "display_name": "Python 3",
   "language": "python",
   "name": "python3"
  },
  "language_info": {
   "codemirror_mode": {
    "name": "ipython",
    "version": 3
   },
   "file_extension": ".py",
   "mimetype": "text/x-python",
   "name": "python",
   "nbconvert_exporter": "python",
   "pygments_lexer": "ipython3",
   "version": "3.7.6"
  },
  "toc": {
   "base_numbering": 1,
   "nav_menu": {
    "height": "12px",
    "width": "160px"
   },
   "number_sections": false,
   "sideBar": true,
   "skip_h1_title": false,
   "title_cell": "Table of Contents",
   "title_sidebar": "Contents",
   "toc_cell": false,
   "toc_position": {},
   "toc_section_display": true,
   "toc_window_display": false
  },
  "varInspector": {
   "cols": {
    "lenName": 16,
    "lenType": 16,
    "lenVar": 40
   },
   "kernels_config": {
    "python": {
     "delete_cmd_postfix": "",
     "delete_cmd_prefix": "del ",
     "library": "var_list.py",
     "varRefreshCmd": "print(var_dic_list())"
    },
    "r": {
     "delete_cmd_postfix": ") ",
     "delete_cmd_prefix": "rm(",
     "library": "var_list.r",
     "varRefreshCmd": "cat(var_dic_list()) "
    }
   },
   "oldHeight": 312,
   "position": {
    "height": "40px",
    "left": "725px",
    "right": "20px",
    "top": "10px",
    "width": "597px"
   },
   "types_to_exclude": [
    "module",
    "function",
    "builtin_function_or_method",
    "instance",
    "_Feature"
   ],
   "varInspector_section_display": "none",
   "window_display": true
  }
 },
 "nbformat": 4,
 "nbformat_minor": 4
}
