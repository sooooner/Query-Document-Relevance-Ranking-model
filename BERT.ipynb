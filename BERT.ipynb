{
 "cells": [
  {
   "cell_type": "code",
   "execution_count": 1,
   "metadata": {},
   "outputs": [
    {
     "name": "stderr",
     "output_type": "stream",
     "text": [
      "C:\\Users\\kwon\\anaconda3\\lib\\site-packages\\tensorflow_addons\\utils\\ensure_tf_install.py:68: UserWarning: Tensorflow Addons supports using Python ops for all Tensorflow versions above or equal to 2.2.0 and strictly below 2.3.0 (nightly versions are not supported). \n",
      " The versions of TensorFlow you are currently using is 2.3.0 and is not supported. \n",
      "Some things might work, some things might not.\n",
      "If you were to encounter a bug, do not file an issue.\n",
      "If you want to make sure you're using a tested and supported configuration, either change the TensorFlow version or the TensorFlow Addons's version. \n",
      "You can find the compatibility matrix in TensorFlow Addon's readme:\n",
      "https://github.com/tensorflow/addons\n",
      "  UserWarning,\n"
     ]
    },
    {
     "data": {
      "text/plain": [
       "'2.3.0'"
      ]
     },
     "execution_count": 1,
     "metadata": {},
     "output_type": "execute_result"
    }
   ],
   "source": [
    "import os\n",
    "import csv\n",
    "import math\n",
    "import bert\n",
    "import random\n",
    "import sklearn\n",
    "import collections\n",
    "import numpy as np\n",
    "import pandas as pd\n",
    "import tensorflow as tf\n",
    "import tensorflow_addons as tfa\n",
    "import matplotlib.pyplot as plt\n",
    "import sentencepiece as spm\n",
    "from tqdm.notebook import tqdm\n",
    "from sklearn.model_selection import train_test_split\n",
    "\n",
    "%matplotlib inline\n",
    "tf.__version__"
   ]
  },
  {
   "cell_type": "markdown",
   "metadata": {},
   "source": [
    "#### load data"
   ]
  },
  {
   "cell_type": "code",
   "execution_count": 2,
   "metadata": {},
   "outputs": [],
   "source": [
    "train = pd.read_csv('./data/train.csv').fillna('')\n",
    "train['median_relevance'] = train['median_relevance']-1\n",
    "test = pd.read_csv('./data/test.csv').fillna('')\n",
    "train = train[['query', 'product_title', 'median_relevance']]"
   ]
  },
  {
   "cell_type": "code",
   "execution_count": 3,
   "metadata": {},
   "outputs": [],
   "source": [
    "model_name = 'uncased_L-4_H-256_A-4'\n",
    "model_dir = '.models\\\\uncased_L-4_H-256_A-4\\\\' + model_name\n",
    "model_ckpt = os.path.join(model_dir, \"bert_model.ckpt\")\n",
    "model_config = os.path.join(model_dir, \"bert_config.json\")\n",
    "\n",
    "bert.bert_tokenization.validate_case_matches_checkpoint(do_lower_case=True, init_checkpoint=model_ckpt)\n",
    "vocab_file = os.path.join(model_dir, \"vocab.txt\")\n",
    "tokenizer = bert.bert_tokenization.FullTokenizer(vocab_file, do_lower_case=True)"
   ]
  },
  {
   "cell_type": "markdown",
   "metadata": {},
   "source": [
    "#### data processing"
   ]
  },
  {
   "cell_type": "code",
   "execution_count": 6,
   "metadata": {},
   "outputs": [],
   "source": [
    "class Data(object):\n",
    "    DATA_COLUMN1 = \"query\"\n",
    "    DATA_COLUMN2 = \"product_title\"\n",
    "    LABEL_COLUMN = \"median_relevance\"\n",
    "\n",
    "    def __init__(self, tokenizer, train, test):\n",
    "        self.tokenizer = tokenizer\n",
    "        self.max_seq_len = 0 \n",
    "        \n",
    "        train, dev = train_test_split(train, test_size=0.2)\n",
    "        \n",
    "        ((self.train_x, self.train_y), \n",
    "         (self.dev_x, self.dev_y),\n",
    "         (self.test_x, self.test_y))= map(self._prepare, [train, dev, test])\n",
    "        \n",
    "        ((self.train_x, self.train_x_token_types), \n",
    "         (self.dev_x, self.dev_x_token_types),\n",
    "         (self.test_x, self.test_x_token_types)) = map(self._pad, [self.train_x, self.dev_x, self.test_x])\n",
    "\n",
    "    def _prepare(self, df):\n",
    "        x, y = [], []\n",
    "        with tqdm(total=df.shape[0], unit_scale=True) as pbar:\n",
    "            for ndx, row in df.iterrows():\n",
    "                text1, text2 = row[Data.DATA_COLUMN1], row[Data.DATA_COLUMN2]\n",
    "                tokens = [\"[CLS]\"] + self.tokenizer.tokenize(text1) + [\"[SEP]\"] + self.tokenizer.tokenize(text2) + [\"[SEP]\"]\n",
    "                token_ids = self.tokenizer.convert_tokens_to_ids(tokens)\n",
    "                if self.max_seq_len < len(token_ids):\n",
    "                    self.max_seq_len = len(token_ids)   \n",
    "                x.append(token_ids)\n",
    "                try:\n",
    "                    label = row[Data.LABEL_COLUMN]\n",
    "                    y.append(int(label))\n",
    "                    pbar.update()\n",
    "                except:\n",
    "                    pbar.update()\n",
    "        return np.array(x), np.array(y)\n",
    "    \n",
    "    def _pad(self, ids):\n",
    "        x, t = [], []\n",
    "        for input_ids in ids:\n",
    "            input_ids = input_ids[:min(len(input_ids), self.max_seq_len - 2)]\n",
    "            token_type_ids = [0] * (input_ids.index(102)+1) + [1] * (len(input_ids) - input_ids.index(102)-1)\n",
    "            input_ids = input_ids + [0] * (self.max_seq_len - len(input_ids))\n",
    "            token_type_ids = token_type_ids + [0] * (87 - len(token_type_ids))\n",
    "            x.append(np.array(input_ids))\n",
    "            t.append(token_type_ids)\n",
    "        return np.array(x), np.array(t)"
   ]
  },
  {
   "cell_type": "code",
   "execution_count": 7,
   "metadata": {},
   "outputs": [
    {
     "data": {
      "application/vnd.jupyter.widget-view+json": {
       "model_id": "0a6dd1385300441bbaafb3b04afc0de3",
       "version_major": 2,
       "version_minor": 0
      },
      "text/plain": [
       "HBox(children=(FloatProgress(value=0.0, max=8126.0), HTML(value='')))"
      ]
     },
     "metadata": {},
     "output_type": "display_data"
    },
    {
     "name": "stdout",
     "output_type": "stream",
     "text": [
      "\n"
     ]
    },
    {
     "data": {
      "application/vnd.jupyter.widget-view+json": {
       "model_id": "86a11eb9778a4b1ab0e7ca34a2ae729c",
       "version_major": 2,
       "version_minor": 0
      },
      "text/plain": [
       "HBox(children=(FloatProgress(value=0.0, max=2032.0), HTML(value='')))"
      ]
     },
     "metadata": {},
     "output_type": "display_data"
    },
    {
     "name": "stdout",
     "output_type": "stream",
     "text": [
      "\n"
     ]
    },
    {
     "data": {
      "application/vnd.jupyter.widget-view+json": {
       "model_id": "268f41cc7d7c4812b0e44d08199cb6b6",
       "version_major": 2,
       "version_minor": 0
      },
      "text/plain": [
       "HBox(children=(FloatProgress(value=0.0, max=22513.0), HTML(value='')))"
      ]
     },
     "metadata": {},
     "output_type": "display_data"
    },
    {
     "name": "stdout",
     "output_type": "stream",
     "text": [
      "\n"
     ]
    }
   ],
   "source": [
    "data = Data(tokenizer, train, test)"
   ]
  },
  {
   "cell_type": "markdown",
   "metadata": {},
   "source": [
    "#### load model"
   ]
  },
  {
   "cell_type": "code",
   "execution_count": 8,
   "metadata": {
    "scrolled": false
   },
   "outputs": [],
   "source": [
    "bert_params = bert.params_from_pretrained_ckpt(model_dir)\n",
    "bert_layer = bert.BertModelLayer.from_params(bert_params, name=\"bert\")\n",
    "\n",
    "input_ids = tf.keras.layers.Input(shape=(data.max_seq_len,), dtype='int32', name=\"input_ids\")\n",
    "token_type_ids = tf.keras.layers.Input(shape=(data.max_seq_len,), dtype='int32', name=\"token_type_ids\")\n",
    "\n",
    "output = bert_layer([input_ids, token_type_ids])\n",
    "\n",
    "cls_out = tf.keras.layers.Lambda(lambda seq: seq[:, 0, :], name='CLSTokenSliceLayer')(output)\n",
    "logits = tf.keras.layers.Dense(units=4, activation='softmax')(cls_out)\n",
    "\n",
    "model = tf.keras.models.Model(inputs=[input_ids, token_type_ids], outputs=logits)\n",
    "model.build(input_shape=[(None, data.max_seq_len), (None, data.max_seq_len)])"
   ]
  },
  {
   "cell_type": "code",
   "execution_count": 9,
   "metadata": {},
   "outputs": [
    {
     "name": "stdout",
     "output_type": "stream",
     "text": [
      "Done loading 69 BERT weights from: .models\\uncased_L-4_H-256_A-4\\uncased_L-4_H-256_A-4\\bert_model.ckpt into <bert.model.BertModelLayer object at 0x0000025A42AD5308> (prefix:bert). Count of weights not found in the checkpoint was: [0]. Count of weights with mismatched shape: [0]\n",
      "Unused weights from checkpoint: \n",
      "\tbert/pooler/dense/bias\n",
      "\tbert/pooler/dense/kernel\n",
      "\tcls/predictions/output_bias\n",
      "\tcls/predictions/transform/LayerNorm/beta\n",
      "\tcls/predictions/transform/LayerNorm/gamma\n",
      "\tcls/predictions/transform/dense/bias\n",
      "\tcls/predictions/transform/dense/kernel\n",
      "\tcls/seq_relationship/output_bias\n",
      "\tcls/seq_relationship/output_weights\n",
      "Model: \"functional_1\"\n",
      "__________________________________________________________________________________________________\n",
      "Layer (type)                    Output Shape         Param #     Connected to                     \n",
      "==================================================================================================\n",
      "input_ids (InputLayer)          [(None, 87)]         0                                            \n",
      "__________________________________________________________________________________________________\n",
      "token_type_ids (InputLayer)     [(None, 87)]         0                                            \n",
      "__________________________________________________________________________________________________\n",
      "bert (BertModelLayer)           (None, 87, 256)      11104768    input_ids[0][0]                  \n",
      "                                                                 token_type_ids[0][0]             \n",
      "__________________________________________________________________________________________________\n",
      "CLSTokenSliceLayer (Lambda)     (None, 256)          0           bert[0][0]                       \n",
      "__________________________________________________________________________________________________\n",
      "dense (Dense)                   (None, 4)            1028        CLSTokenSliceLayer[0][0]         \n",
      "==================================================================================================\n",
      "Total params: 11,105,796\n",
      "Trainable params: 11,105,796\n",
      "Non-trainable params: 0\n",
      "__________________________________________________________________________________________________\n"
     ]
    }
   ],
   "source": [
    "# model.load_weights(\"./model_weights/class_weight_cross_entropy.h5\") \n",
    "bert.load_bert_weights(bert_layer, model_ckpt)  \n",
    "model.summary()"
   ]
  },
  {
   "cell_type": "markdown",
   "metadata": {},
   "source": [
    "#### class_weight"
   ]
  },
  {
   "cell_type": "code",
   "execution_count": 10,
   "metadata": {},
   "outputs": [
    {
     "data": {
      "text/plain": [
       "{0: 3.3523102310231025,\n",
       " 1: 1.7274659863945578,\n",
       " 2: 1.4763808139534884,\n",
       " 3: 0.4089170692431562}"
      ]
     },
     "execution_count": 10,
     "metadata": {},
     "output_type": "execute_result"
    }
   ],
   "source": [
    "value_count = collections.Counter(data.train_y)\n",
    "\n",
    "class_weight_dict = {0:(1 / value_count[0])*(len(data.train_y))/4.0,\n",
    "                     1:(1 / value_count[1])*(len(data.train_y))/4.0,\n",
    "                     2:(1 / value_count[2])*(len(data.train_y))/4.0,\n",
    "                     3:(1 / value_count[3])*(len(data.train_y))/4.0}\n",
    "class_weight_dict"
   ]
  },
  {
   "cell_type": "markdown",
   "metadata": {},
   "source": [
    "#### loss history callback"
   ]
  },
  {
   "cell_type": "code",
   "execution_count": 11,
   "metadata": {},
   "outputs": [],
   "source": [
    "class LossHistory(tf.keras.callbacks.Callback):\n",
    "    def on_train_begin(self, logs={}):\n",
    "        self.history = {'loss':[],'val_loss':[], \n",
    "                        'cohen_kappa':[], 'val_cohen_kappa':[]}\n",
    "\n",
    "    def on_batch_end(self, batch, logs={}):\n",
    "        self.history['loss'].append(logs.get('loss'))\n",
    "        self.history['cohen_kappa'].append(logs.get('cohen_kappa'))\n",
    "\n",
    "    def on_epoch_end(self, epoch, logs={}):\n",
    "        self.history['val_loss'].append(logs.get('val_loss'))\n",
    "        self.history['val_cohen_kappa'].append(logs.get('val_cohen_kappa'))"
   ]
  },
  {
   "cell_type": "markdown",
   "metadata": {},
   "source": [
    "#### Compile"
   ]
  },
  {
   "cell_type": "code",
   "execution_count": 12,
   "metadata": {},
   "outputs": [],
   "source": [
    "model.compile(optimizer=tf.keras.optimizers.Adam(learning_rate=1e-5),\n",
    "              loss=tf.keras.losses.sparse_categorical_crossentropy,\n",
    "              metrics=[tfa.metrics.CohenKappa(num_classes=4, weightage='quadratic', sparse_labels=True)])"
   ]
  },
  {
   "cell_type": "markdown",
   "metadata": {},
   "source": [
    "#### fit"
   ]
  },
  {
   "cell_type": "code",
   "execution_count": 13,
   "metadata": {},
   "outputs": [
    {
     "name": "stdout",
     "output_type": "stream",
     "text": [
      "Epoch 1/10\n",
      "254/254 [==============================] - 508s 2s/step - loss: 1.3178 - cohen_kappa: 0.2734 - val_loss: 1.0864 - val_cohen_kappa: 0.4590\n",
      "Epoch 2/10\n",
      "254/254 [==============================] - 506s 2s/step - loss: 1.1926 - cohen_kappa: 0.4272 - val_loss: 1.0280 - val_cohen_kappa: 0.5394\n",
      "Epoch 3/10\n",
      "254/254 [==============================] - 516s 2s/step - loss: 1.1330 - cohen_kappa: 0.4957 - val_loss: 1.0010 - val_cohen_kappa: 0.5601\n",
      "Epoch 4/10\n",
      "254/254 [==============================] - 507s 2s/step - loss: 1.0901 - cohen_kappa: 0.5384 - val_loss: 0.9799 - val_cohen_kappa: 0.5866\n",
      "Epoch 5/10\n",
      "254/254 [==============================] - 476s 2s/step - loss: 1.0457 - cohen_kappa: 0.5648 - val_loss: 1.0023 - val_cohen_kappa: 0.6055\n",
      "Epoch 6/10\n",
      "254/254 [==============================] - 687s 3s/step - loss: 1.0193 - cohen_kappa: 0.5864 - val_loss: 1.0710 - val_cohen_kappa: 0.5868\n",
      "Epoch 7/10\n",
      "254/254 [==============================] - 510s 2s/step - loss: 0.9976 - cohen_kappa: 0.6069 - val_loss: 1.0146 - val_cohen_kappa: 0.6113\n"
     ]
    },
    {
     "data": {
      "text/plain": [
       "<tensorflow.python.keras.callbacks.History at 0x25a4375f908>"
      ]
     },
     "execution_count": 13,
     "metadata": {},
     "output_type": "execute_result"
    }
   ],
   "source": [
    "total_epoch_count = 10\n",
    "batch_size = 64\n",
    "history = LossHistory()\n",
    "model.fit(x=(data.train_x, data.train_x_token_types), y=data.train_y,\n",
    "          validation_data=((data.dev_x, data.dev_x_token_types), data.dev_y),\n",
    "          class_weight=class_weight_dict,\n",
    "          batch_size=batch_size,\n",
    "          shuffle=True,\n",
    "          epochs=total_epoch_count,\n",
    "          callbacks=[history,\n",
    "                     tf.keras.callbacks.EarlyStopping(monitor='val_cohen_kappa', patience=3, restore_best_weights=True, mode='max')])"
   ]
  },
  {
   "cell_type": "code",
   "execution_count": 14,
   "metadata": {},
   "outputs": [],
   "source": [
    "# model.save_weights('./model_weights/class_weight_cross_entropy.h5', overwrite=True)"
   ]
  },
  {
   "cell_type": "code",
   "execution_count": 16,
   "metadata": {},
   "outputs": [
    {
     "data": {
      "image/png": "[encoded data removed]",
      "text/plain": [
       "<Figure size 432x288 with 2 Axes>"
      ]
     },
     "metadata": {
      "needs_background": "light"
     },
     "output_type": "display_data"
    }
   ],
   "source": [
    "fig, loss_ax = plt.subplots()\n",
    "\n",
    "acc_ax = loss_ax.twinx()\n",
    "xx = [i*(math.ceil(len(data.train_y)/(batch_size))) for i in range(len(history.history['val_loss']))]\n",
    "# xx = np.linspace(0, len(history.history['loss']), len(history.history['loss'])//((len(data.train_y)//batch_size)+1), endpoint=False)\n",
    "loss_ax.plot(history.history['loss'], 'y', label='train loss')\n",
    "loss_ax.plot(xx, history.history['val_loss'], 'r', label='val loss')\n",
    "\n",
    "acc_ax.plot(history.history['cohen_kappa'], 'b', label='train cohen_kappa')\n",
    "acc_ax.plot(xx, history.history['val_cohen_kappa'], 'g', label='val cohen_kappa')\n",
    "\n",
    "loss_ax.set_xlabel('epoch')\n",
    "loss_ax.set_ylabel('loss')\n",
    "\n",
    "loss_ax.legend(loc='upper left')\n",
    "acc_ax.legend(loc='lower left')\n",
    "plt.show()"
   ]
  },
  {
   "cell_type": "code",
   "execution_count": 17,
   "metadata": {},
   "outputs": [],
   "source": [
    "# pred = model.predict(x=(data.test_x, data.test_x_token_types))\n",
    "# pred = tf.math.argmax(pred, axis=1)\n",
    "# pred = pred+1\n",
    "# idx = test.id.values.astype(int)\n",
    "\n",
    "# submission = pd.DataFrame({\"id\": idx, \"prediction\": pred})\n",
    "# submission.to_csv(\"./submission.csv\", index=False)"
   ]
  }
 ],
 "metadata": {
  "kernelspec": {
   "display_name": "Python 3",
   "language": "python",
   "name": "python3"
  },
  "language_info": {
   "codemirror_mode": {
    "name": "ipython",
    "version": 3
   },
   "file_extension": ".py",
   "mimetype": "text/x-python",
   "name": "python",
   "nbconvert_exporter": "python",
   "pygments_lexer": "ipython3",
   "version": "3.7.6"
  },
  "toc": {
   "base_numbering": 1,
   "nav_menu": {},
   "number_sections": true,
   "sideBar": true,
   "skip_h1_title": false,
   "title_cell": "Table of Contents",
   "title_sidebar": "Contents",
   "toc_cell": false,
   "toc_position": {},
   "toc_section_display": true,
   "toc_window_display": false
  },
  "varInspector": {
   "cols": {
    "lenName": 16,
    "lenType": 16,
    "lenVar": 40
   },
   "kernels_config": {
    "python": {
     "delete_cmd_postfix": "",
     "delete_cmd_prefix": "del ",
     "library": "var_list.py",
     "varRefreshCmd": "print(var_dic_list())"
    },
    "r": {
     "delete_cmd_postfix": ") ",
     "delete_cmd_prefix": "rm(",
     "library": "var_list.r",
     "varRefreshCmd": "cat(var_dic_list()) "
    }
   },
   "types_to_exclude": [
    "module",
    "function",
    "builtin_function_or_method",
    "instance",
    "_Feature"
   ],
   "window_display": false
  }
 },
 "nbformat": 4,
 "nbformat_minor": 4
}
