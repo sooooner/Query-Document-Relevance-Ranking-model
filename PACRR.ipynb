{
 "cells": [
  {
   "cell_type": "code",
   "execution_count": 274,
   "metadata": {
    "ExecuteTime": {
     "end_time": "2020-08-02T09:42:50.259692Z",
     "start_time": "2020-08-02T09:42:35.457167Z"
    }
   },
   "outputs": [
    {
     "data": {
      "text/html": [
       "<style>.container { width:90% !important; }</style>"
      ],
      "text/plain": [
       "<IPython.core.display.HTML object>"
      ]
     },
     "metadata": {},
     "output_type": "display_data"
    }
   ],
   "source": [
    "import time\n",
    "import datetime\n",
    "import numpy as np\n",
    "import pandas as pd\n",
    "import tensorflow as tf\n",
    "import matplotlib.pyplot as plt\n",
    "from ast import literal_eval\n",
    "import random\n",
    "\n",
    "pd.options.mode.chained_assignment = None\n",
    "from IPython.core.display import display, HTML\n",
    "display(HTML(\"<style>.container { width:90% !important; }</style>\"))\n",
    "pd.set_option('display.max_columns', 100)\n",
    "pd.set_option('display.max_colwidth', 9999)\n",
    "pd.set_option('display.max_rows', 50)\n",
    "%matplotlib inline"
   ]
  },
  {
   "cell_type": "code",
   "execution_count": 275,
   "metadata": {},
   "outputs": [],
   "source": [
    "df = pd.read_csv('./data/paccr_drmm_.csv', converters={\"negative_sim_matrix\": literal_eval,\n",
    "                                                      \"positive_sim_matrix\": literal_eval,\n",
    "                                                      \"idf_softmax\": literal_eval})\n",
    "df = df[['query_preprocessed', 'negative_sim_matrix', 'positive_sim_matrix', 'idf_softmax']]"
   ]
  },
  {
   "cell_type": "code",
   "execution_count": 276,
   "metadata": {
    "ExecuteTime": {
     "end_time": "2020-08-02T09:46:15.544776Z",
     "start_time": "2020-08-02T09:46:15.346890Z"
    }
   },
   "outputs": [],
   "source": [
    "train_q = set(random.sample(list(df['query_preprocessed'].unique()), int(len(df['query_preprocessed'].unique()) * 0.9)))\n",
    "dev_q = set(df['query_preprocessed'].unique()) - train_q"
   ]
  },
  {
   "cell_type": "code",
   "execution_count": 277,
   "metadata": {
    "ExecuteTime": {
     "end_time": "2020-08-02T09:46:29.580744Z",
     "start_time": "2020-08-02T09:46:15.547776Z"
    }
   },
   "outputs": [],
   "source": [
    "train = pd.concat([df.groupby('query_preprocessed').get_group(name) for name in train_q])\n",
    "dev = pd.concat([df.groupby('query_preprocessed').get_group(name) for name in dev_q])"
   ]
  },
  {
   "cell_type": "code",
   "execution_count": 278,
   "metadata": {
    "ExecuteTime": {
     "end_time": "2020-08-02T09:46:29.917552Z",
     "start_time": "2020-08-02T09:46:29.583743Z"
    }
   },
   "outputs": [],
   "source": [
    "# df shuffle \n",
    "train = train.sample(frac=1).reset_index(drop=True)\n",
    "dev = dev.sample(frac=1).reset_index(drop=True)"
   ]
  },
  {
   "cell_type": "code",
   "execution_count": 279,
   "metadata": {
    "ExecuteTime": {
     "end_time": "2020-08-02T09:46:29.926545Z",
     "start_time": "2020-08-02T09:46:29.920550Z"
    }
   },
   "outputs": [],
   "source": [
    "metadata = {'negative_sim_matrix': train['negative_sim_matrix'].values, \n",
    "            'positive_sim_matrix': train['positive_sim_matrix'].values,\n",
    "            'idf_softmax': train['idf_softmax'].values}"
   ]
  },
  {
   "cell_type": "code",
   "execution_count": 280,
   "metadata": {
    "ExecuteTime": {
     "end_time": "2020-08-02T09:46:29.942536Z",
     "start_time": "2020-08-02T09:46:29.932544Z"
    }
   },
   "outputs": [],
   "source": [
    "metadata_dev = {'negative_sim_matrix': dev['negative_sim_matrix'].values, \n",
    "                'positive_sim_matrix': dev['positive_sim_matrix'].values,\n",
    "                'idf_softmax': dev['idf_softmax'].values}  "
   ]
  },
  {
   "cell_type": "code",
   "execution_count": 281,
   "metadata": {
    "ExecuteTime": {
     "end_time": "2020-08-02T09:46:30.190394Z",
     "start_time": "2020-08-02T09:46:29.946534Z"
    }
   },
   "outputs": [],
   "source": [
    "lq = 6\n",
    "firstk = 8\n",
    "num_samples = len(train)\n",
    "num_samples_dev = len(dev)"
   ]
  },
  {
   "cell_type": "code",
   "execution_count": 282,
   "metadata": {
    "ExecuteTime": {
     "end_time": "2020-08-02T09:46:33.166690Z",
     "start_time": "2020-08-02T09:46:30.193393Z"
    }
   },
   "outputs": [],
   "source": [
    "dev_set = {}\n",
    "for key, val in metadata_dev.items():\n",
    "    dev_set[key] = tf.stack([val[j] for j in range(num_samples_dev)], axis=0)"
   ]
  },
  {
   "cell_type": "code",
   "execution_count": 24,
   "metadata": {},
   "outputs": [],
   "source": [
    "test = pd.read_csv('./data/paccr_drmm_test.csv', converters={\"sim_matrix\": literal_eval,\n",
    "                                                             \"idf_softmax\": literal_eval})"
   ]
  },
  {
   "cell_type": "code",
   "execution_count": 10,
   "metadata": {
    "ExecuteTime": {
     "end_time": "2020-08-02T09:46:33.230654Z",
     "start_time": "2020-08-02T09:46:33.202672Z"
    }
   },
   "outputs": [],
   "source": [
    "del df, train, dev"
   ]
  },
  {
   "cell_type": "code",
   "execution_count": 286,
   "metadata": {
    "ExecuteTime": {
     "end_time": "2020-08-02T09:46:33.252642Z",
     "start_time": "2020-08-02T09:46:33.234653Z"
    }
   },
   "outputs": [],
   "source": [
    "class Conv_stack(tf.keras.layers.Layer):\n",
    "    def __init__(self, lg, nf):\n",
    "        super(Conv_stack, self).__init__(name='ConV_stack')\n",
    "        self.lg = lg\n",
    "        self.nf = nf\n",
    "        self.conv_dict = {}\n",
    "        for i in range(2, self.lg+1):\n",
    "            self.conv_dict[i] = tf.keras.layers.Conv2D(self.nf, i, strides=(1, 1), padding='same')\n",
    "\n",
    "    def call(self, inputs):\n",
    "        inputs = tf.expand_dims(inputs, axis=-1)\n",
    "        x_1 = inputs\n",
    "        x = {}\n",
    "        for i in range(2, self.lg+1):\n",
    "            x[i] = self.conv_dict[i](inputs)\n",
    "        return tf.keras.layers.concatenate([x_1] + [x[k] for k in x]) "
   ]
  },
  {
   "cell_type": "code",
   "execution_count": 287,
   "metadata": {
    "ExecuteTime": {
     "end_time": "2020-08-02T09:46:33.271634Z",
     "start_time": "2020-08-02T09:46:33.255641Z"
    }
   },
   "outputs": [],
   "source": [
    "class Dim_wise_max_pooling(tf.keras.layers.Layer):\n",
    "    def __init__(self, lg, nf):\n",
    "        super(Dim_wise_max_pooling, self).__init__(name='dim_wise_max_pooling')\n",
    "        self.lg = lg\n",
    "        self.nf = nf\n",
    "        \n",
    "    def call(self, inputs):\n",
    "        channel_range = [self.nf*i+1 for i in range(self.lg)]\n",
    "        x_1 = inputs[:, :, :, 0]\n",
    "        x = {}\n",
    "        for i in range(2, self.lg+1):\n",
    "            x[i] = tf.reduce_max(inputs[:, :, :, channel_range[i-2]:channel_range[i-1]], axis=-1)\n",
    "            \n",
    "        return tf.keras.layers.concatenate([x_1] + [x[k] for k in x])"
   ]
  },
  {
   "cell_type": "code",
   "execution_count": 288,
   "metadata": {
    "ExecuteTime": {
     "end_time": "2020-08-02T09:46:33.289620Z",
     "start_time": "2020-08-02T09:46:33.274629Z"
    }
   },
   "outputs": [],
   "source": [
    "class Row_wise_max_pooling(tf.keras.layers.Layer):\n",
    "    def __init__(self, ns, lg, firstk):\n",
    "        super(Row_wise_max_pooling, self).__init__(name='row_wise_max_pooling')\n",
    "        self.ns = ns\n",
    "        self.lg = lg\n",
    "        self.firstk = firstk\n",
    "        \n",
    "    def call(self, inputs):\n",
    "        x = {}\n",
    "        for i in range(1, self.lg+1):\n",
    "            x[i] = tf.math.top_k(inputs[:, :, self.firstk*(i-1):self.firstk*i], k=self.ns)[0]\n",
    "            \n",
    "        return tf.keras.layers.concatenate([x[k] for k in x])"
   ]
  },
  {
   "cell_type": "code",
   "execution_count": 289,
   "metadata": {
    "ExecuteTime": {
     "end_time": "2020-08-02T09:46:33.301614Z",
     "start_time": "2020-08-02T09:46:33.293618Z"
    }
   },
   "outputs": [],
   "source": [
    "class Idf_concat(tf.keras.layers.Layer):\n",
    "    def __init__(self):\n",
    "        super(Idf_concat, self).__init__(name='idf_concat')\n",
    "        \n",
    "    def call(self, inputs, idf):\n",
    "        expand_idf = tf.expand_dims(idf, axis=-1)\n",
    "        return tf.keras.layers.concatenate([inputs, expand_idf])"
   ]
  },
  {
   "cell_type": "code",
   "execution_count": 290,
   "metadata": {
    "ExecuteTime": {
     "end_time": "2020-08-02T09:46:33.316605Z",
     "start_time": "2020-08-02T09:46:33.305612Z"
    }
   },
   "outputs": [],
   "source": [
    "class Recurrent_Layer(tf.keras.layers.Layer):\n",
    "    def __init__(self, lq, ns, lg):\n",
    "        super(Recurrent_Layer, self).__init__(name='Recurrent_Layer')\n",
    "        self.inputs_shape = (lq, ns*lg+1)\n",
    "        self.lstm = tf.keras.layers.LSTM(units=1, input_shape=self.inputs_shape)\n",
    "        \n",
    "    def call(self, inputs):\n",
    "        return self.lstm(inputs)"
   ]
  },
  {
   "cell_type": "code",
   "execution_count": 291,
   "metadata": {
    "ExecuteTime": {
     "end_time": "2020-08-02T09:46:33.339593Z",
     "start_time": "2020-08-02T09:46:33.320605Z"
    }
   },
   "outputs": [],
   "source": [
    "class PACRR(tf.keras.Model):\n",
    "    def __init__(self, firstk, lq, lg, nf, ns):\n",
    "        super(PACRR, self).__init__(name='PACRR')\n",
    "        self.firstk = firstk\n",
    "        self.lq = lq\n",
    "        self.lg = lg\n",
    "        self.nf = nf\n",
    "        self.ns = ns\n",
    "        \n",
    "        self.conv_stack = Conv_stack(lg=self.lg, nf=self.nf)\n",
    "        self.dim_wise_max_pooling = Dim_wise_max_pooling(lg=self.lg, nf=self.nf)\n",
    "        self.row_wise_max_pooling = Row_wise_max_pooling(lg=self.lg, ns=self.ns, firstk=self.firstk)\n",
    "        self.idf_concat = Idf_concat()\n",
    "        self.recurrent_Layer = Recurrent_Layer(lq=self.lq, ns=self.ns, lg=self.lg)\n",
    "\n",
    "    def call(self, inputs, idf):\n",
    "        x = self.conv_stack(inputs)\n",
    "        x = self.dim_wise_max_pooling(x)\n",
    "        x = self.row_wise_max_pooling(x)\n",
    "        x = self.idf_concat(x, idf)\n",
    "        x = self.recurrent_Layer(x)\n",
    "        return x"
   ]
  },
  {
   "cell_type": "code",
   "execution_count": 292,
   "metadata": {
    "ExecuteTime": {
     "end_time": "2020-08-02T09:46:33.354584Z",
     "start_time": "2020-08-02T09:46:33.343590Z"
    }
   },
   "outputs": [],
   "source": [
    "class Pairwise_PACRR(tf.keras.Model):\n",
    "    def __init__(self, firstk, lq, lg, nf, ns):\n",
    "        super(Pairwise_PACRR, self).__init__(name='Pairwise_PACRR')\n",
    "        self.Pacrr = PACRR(firstk, lq, lg, nf, ns)\n",
    "        \n",
    "    def call(self, inputs):\n",
    "        positive_sim = inputs['positive_sim_matrix']\n",
    "        negative_sim = inputs['negative_sim_matrix']\n",
    "        idf = inputs['idf_softmax']\n",
    "        \n",
    "        positive = self.Pacrr(positive_sim, idf)\n",
    "        negative = self.Pacrr(negative_sim, idf)\n",
    "        \n",
    "        return tf.concat([positive, negative], axis=0) \n",
    "    \n",
    "    def predict(self, inputs):\n",
    "        sim_matrix = inputs['sim_matrix']\n",
    "        idf_softmax = inputs['idf_softmax']\n",
    "        rel = self.Pacrr(sim_matrix, idf_softmax)\n",
    "        return rel"
   ]
  },
  {
   "cell_type": "code",
   "execution_count": 293,
   "metadata": {
    "ExecuteTime": {
     "end_time": "2020-08-02T09:46:33.369576Z",
     "start_time": "2020-08-02T09:46:33.358581Z"
    }
   },
   "outputs": [],
   "source": [
    "def Pairwise_ranking_loss(y_true, y_pred):\n",
    "    '''\n",
    "    ignore y_true\n",
    "    '''\n",
    "    positive_score = tf.keras.layers.Lambda(lambda x: x[:len(x)//2], output_shape= (1,))(y_pred)\n",
    "    negative_score = tf.keras.layers.Lambda(lambda x: x[len(x)//2:], output_shape= (1,))(y_pred)\n",
    "\n",
    "    return tf.keras.backend.mean(tf.math.maximum(0, 1 - positive_score + negative_score))"
   ]
  },
  {
   "cell_type": "code",
   "execution_count": 294,
   "metadata": {},
   "outputs": [],
   "source": [
    "def ndcg(rel_pred, p=None, form=\"linear\"):\n",
    "    if p==None:\n",
    "        p = len(rel_pred)\n",
    "    if p > len(rel_pred):\n",
    "        rel_pred = np.append(rel_pred, [0]*(p - len(rel_pred)))\n",
    "    \n",
    "    rel_true = np.sort(rel_pred)[::-1]\n",
    "    discount = 1 / (np.log2(np.arange(p) + 2))\n",
    "\n",
    "    if form == \"linear\":\n",
    "        idcg = np.sum(rel_true[:p] * discount)\n",
    "        dcg = np.sum(rel_pred[:p] * discount)\n",
    "    elif form == \"exponential\" or form == \"exp\":\n",
    "        idcg = np.sum([2**x - 1 for x in rel_true[:p]] * discount)\n",
    "        dcg = np.sum([2**x - 1 for x in rel_pred[:p]] * discount)\n",
    "    else:\n",
    "        raise ValueError(\"Only supported for two formula, 'linear' or 'exp'\")\n",
    "    \n",
    "    return dcg / idcg"
   ]
  },
  {
   "cell_type": "code",
   "execution_count": 295,
   "metadata": {
    "ExecuteTime": {
     "end_time": "2020-08-02T10:32:18.462601Z",
     "start_time": "2020-08-02T10:32:18.414629Z"
    }
   },
   "outputs": [],
   "source": [
    "tf.keras.backend.clear_session()"
   ]
  },
  {
   "cell_type": "code",
   "execution_count": 296,
   "metadata": {
    "ExecuteTime": {
     "end_time": "2020-08-02T10:32:20.826250Z",
     "start_time": "2020-08-02T10:32:20.705317Z"
    }
   },
   "outputs": [],
   "source": [
    "batchs = 128\n",
    "def meta_dict_gen():\n",
    "    i=0\n",
    "    while True:\n",
    "        ls = {}\n",
    "        for key, val in metadata.items():\n",
    "            ls[key] = tf.stack([val[j] for j in range((batchs*i)%num_samples, (batchs*(i+1))%num_samples)], axis=0)\n",
    "        i+=1\n",
    "        yield ls\n",
    "        \n",
    "dataset = tf.data.Dataset.from_generator(\n",
    "    meta_dict_gen,\n",
    "    output_types={k: tf.float32 for k in metadata},\n",
    "    output_shapes={'negative_sim_matrix': (batchs, lq, firstk), 'positive_sim_matrix': (batchs, lq, firstk), 'idf_softmax': (batchs, lq)}\n",
    ")"
   ]
  },
  {
   "cell_type": "code",
   "execution_count": 298,
   "metadata": {},
   "outputs": [],
   "source": [
    "iterator = iter(dataset)\n",
    "next_element = iterator.get_next()"
   ]
  },
  {
   "cell_type": "code",
   "execution_count": 266,
   "metadata": {
    "ExecuteTime": {
     "end_time": "2020-08-02T10:32:22.798118Z",
     "start_time": "2020-08-02T10:32:22.585241Z"
    }
   },
   "outputs": [
    {
     "data": {
      "text/plain": [
       "<tf.Tensor: shape=(), dtype=float32, numpy=0.9982084>"
      ]
     },
     "execution_count": 266,
     "metadata": {},
     "output_type": "execute_result"
    }
   ],
   "source": [
    "firstk = 8\n",
    "lq = 6\n",
    "lg=5\n",
    "nf=32\n",
    "ns=2\n",
    "n = 20\n",
    "learning_rate = 1\n",
    "print_step = 10\n",
    "\n",
    "model = Pairwise_PACRR(firstk, lq, lg, nf, ns)\n",
    "optimizer = tf.keras.optimizers.Adagrad(learning_rate=learning_rate)\n",
    "\n",
    "Pairwise_ranking_loss(y_true=None, y_pred=model(next_element))"
   ]
  },
  {
   "cell_type": "code",
   "execution_count": 267,
   "metadata": {},
   "outputs": [
    {
     "name": "stdout",
     "output_type": "stream",
     "text": [
      "Training loss at step 0: 0.99821, dev_loss : 0.99188, nDCG@20 : 0.85387\n",
      "Seen so far: 128 train samples, learning rate: 1.0000\n",
      "Training loss at step 10: 0.98307, dev_loss : 0.98164, nDCG@20 : 0.84713\n",
      "Seen so far: 1408 train samples, learning rate: 0.1000\n",
      "Training loss at step 20: 0.97280, dev_loss : 0.96876, nDCG@20 : 0.84748\n",
      "Seen so far: 2688 train samples, learning rate: 0.1000\n",
      "Training loss at step 30: 0.94313, dev_loss : 0.94160, nDCG@20 : 0.84623\n",
      "Seen so far: 3968 train samples, learning rate: 0.1000\n",
      "Training loss at step 40: 0.88960, dev_loss : 0.88478, nDCG@20 : 0.84272\n",
      "Seen so far: 5248 train samples, learning rate: 0.1000\n",
      "Training loss at step 50: 0.85234, dev_loss : 0.84624, nDCG@20 : 0.85257\n",
      "Seen so far: 6528 train samples, learning rate: 0.1000\n",
      "Training loss at step 60: 0.83345, dev_loss : 0.84853, nDCG@20 : 0.84153\n",
      "Seen so far: 7808 train samples, learning rate: 0.1000\n",
      "Training loss at step 70: 0.78794, dev_loss : 0.84551, nDCG@20 : 0.84015\n",
      "Seen so far: 9088 train samples, learning rate: 0.1000\n"
     ]
    },
    {
     "ename": "KeyboardInterrupt",
     "evalue": "",
     "output_type": "error",
     "traceback": [
      "\u001b[1;31m---------------------------------------------------------------------------\u001b[0m",
      "\u001b[1;31m_FallbackException\u001b[0m                        Traceback (most recent call last)",
      "\u001b[1;32m~\\anaconda3\\lib\\site-packages\\tensorflow\\python\\ops\\gen_nn_ops.py\u001b[0m in \u001b[0;36mconv2d\u001b[1;34m(input, filter, strides, padding, use_cudnn_on_gpu, explicit_paddings, data_format, dilations, name)\u001b[0m\n\u001b[0;32m    925\u001b[0m         \u001b[1;34m\"explicit_paddings\"\u001b[0m\u001b[1;33m,\u001b[0m \u001b[0mexplicit_paddings\u001b[0m\u001b[1;33m,\u001b[0m \u001b[1;34m\"data_format\"\u001b[0m\u001b[1;33m,\u001b[0m \u001b[0mdata_format\u001b[0m\u001b[1;33m,\u001b[0m\u001b[1;33m\u001b[0m\u001b[1;33m\u001b[0m\u001b[0m\n\u001b[1;32m--> 926\u001b[1;33m         \"dilations\", dilations)\n\u001b[0m\u001b[0;32m    927\u001b[0m       \u001b[1;32mreturn\u001b[0m \u001b[0m_result\u001b[0m\u001b[1;33m\u001b[0m\u001b[1;33m\u001b[0m\u001b[0m\n",
      "\u001b[1;31m_FallbackException\u001b[0m: Expecting int64_t value for attr strides, got numpy.int32",
      "\nDuring handling of the above exception, another exception occurred:\n",
      "\u001b[1;31mKeyboardInterrupt\u001b[0m                         Traceback (most recent call last)",
      "\u001b[1;32m<ipython-input-267-24dac56377e5>\u001b[0m in \u001b[0;36m<module>\u001b[1;34m\u001b[0m\n\u001b[0;32m     30\u001b[0m             metadata_ndcg = {'sim_matrix': tf.stack([ndcg_test['sim_matrix'].values[j] for j in range(len(ndcg_test))], axis=0), \n\u001b[0;32m     31\u001b[0m                              'idf_softmax': tf.stack([ndcg_test['idf_softmax'].values[j] for j in range(len(ndcg_test))], axis=0)}  \n\u001b[1;32m---> 32\u001b[1;33m             \u001b[0mndcg_test\u001b[0m\u001b[1;33m[\u001b[0m\u001b[1;34m'rel'\u001b[0m\u001b[1;33m]\u001b[0m \u001b[1;33m=\u001b[0m \u001b[0mmodel\u001b[0m\u001b[1;33m.\u001b[0m\u001b[0mpredict\u001b[0m\u001b[1;33m(\u001b[0m\u001b[0mmetadata_ndcg\u001b[0m\u001b[1;33m)\u001b[0m\u001b[1;33m.\u001b[0m\u001b[0mnumpy\u001b[0m\u001b[1;33m(\u001b[0m\u001b[1;33m)\u001b[0m\u001b[1;33m\u001b[0m\u001b[1;33m\u001b[0m\u001b[0m\n\u001b[0m\u001b[0;32m     33\u001b[0m             \u001b[0mrel_pred\u001b[0m \u001b[1;33m=\u001b[0m \u001b[0mlist\u001b[0m\u001b[1;33m(\u001b[0m\u001b[0mndcg_test\u001b[0m\u001b[1;33m.\u001b[0m\u001b[0msort_values\u001b[0m\u001b[1;33m(\u001b[0m\u001b[0mby\u001b[0m\u001b[1;33m=\u001b[0m\u001b[1;33m[\u001b[0m\u001b[1;34m'rel'\u001b[0m\u001b[1;33m]\u001b[0m\u001b[1;33m,\u001b[0m \u001b[0maxis\u001b[0m\u001b[1;33m=\u001b[0m\u001b[1;36m0\u001b[0m\u001b[1;33m,\u001b[0m \u001b[0mascending\u001b[0m\u001b[1;33m=\u001b[0m\u001b[1;32mFalse\u001b[0m\u001b[1;33m)\u001b[0m\u001b[1;33m[\u001b[0m\u001b[1;34m'median_relevance'\u001b[0m\u001b[1;33m]\u001b[0m\u001b[1;33m-\u001b[0m\u001b[1;36m1\u001b[0m\u001b[1;33m)\u001b[0m\u001b[1;33m\u001b[0m\u001b[1;33m\u001b[0m\u001b[0m\n\u001b[0;32m     34\u001b[0m             \u001b[0mndcg_sum\u001b[0m \u001b[1;33m+=\u001b[0m \u001b[0mndcg\u001b[0m\u001b[1;33m(\u001b[0m\u001b[0mrel_pred\u001b[0m\u001b[1;33m,\u001b[0m \u001b[0mp\u001b[0m\u001b[1;33m=\u001b[0m\u001b[0mn\u001b[0m\u001b[1;33m,\u001b[0m \u001b[0mform\u001b[0m\u001b[1;33m=\u001b[0m\u001b[1;34m\"exp\"\u001b[0m\u001b[1;33m)\u001b[0m\u001b[1;33m\u001b[0m\u001b[1;33m\u001b[0m\u001b[0m\n",
      "\u001b[1;32m<ipython-input-47-4aca381a312d>\u001b[0m in \u001b[0;36mpredict\u001b[1;34m(self, inputs)\u001b[0m\n\u001b[0;32m     17\u001b[0m         \u001b[0msim_matrix\u001b[0m \u001b[1;33m=\u001b[0m \u001b[0minputs\u001b[0m\u001b[1;33m[\u001b[0m\u001b[1;34m'sim_matrix'\u001b[0m\u001b[1;33m]\u001b[0m\u001b[1;33m\u001b[0m\u001b[1;33m\u001b[0m\u001b[0m\n\u001b[0;32m     18\u001b[0m         \u001b[0midf_softmax\u001b[0m \u001b[1;33m=\u001b[0m \u001b[0minputs\u001b[0m\u001b[1;33m[\u001b[0m\u001b[1;34m'idf_softmax'\u001b[0m\u001b[1;33m]\u001b[0m\u001b[1;33m\u001b[0m\u001b[1;33m\u001b[0m\u001b[0m\n\u001b[1;32m---> 19\u001b[1;33m         \u001b[0mrel\u001b[0m \u001b[1;33m=\u001b[0m \u001b[0mself\u001b[0m\u001b[1;33m.\u001b[0m\u001b[0mPaccr\u001b[0m\u001b[1;33m(\u001b[0m\u001b[0msim_matrix\u001b[0m\u001b[1;33m,\u001b[0m \u001b[0midf_softmax\u001b[0m\u001b[1;33m)\u001b[0m\u001b[1;33m\u001b[0m\u001b[1;33m\u001b[0m\u001b[0m\n\u001b[0m\u001b[0;32m     20\u001b[0m         \u001b[1;32mreturn\u001b[0m \u001b[0mrel\u001b[0m\u001b[1;33m\u001b[0m\u001b[1;33m\u001b[0m\u001b[0m\n",
      "\u001b[1;32m~\\anaconda3\\lib\\site-packages\\tensorflow\\python\\keras\\engine\\base_layer.py\u001b[0m in \u001b[0;36m__call__\u001b[1;34m(self, *args, **kwargs)\u001b[0m\n\u001b[0;32m    966\u001b[0m           with base_layer_utils.autocast_context_manager(\n\u001b[0;32m    967\u001b[0m               self._compute_dtype):\n\u001b[1;32m--> 968\u001b[1;33m             \u001b[0moutputs\u001b[0m \u001b[1;33m=\u001b[0m \u001b[0mself\u001b[0m\u001b[1;33m.\u001b[0m\u001b[0mcall\u001b[0m\u001b[1;33m(\u001b[0m\u001b[0mcast_inputs\u001b[0m\u001b[1;33m,\u001b[0m \u001b[1;33m*\u001b[0m\u001b[0margs\u001b[0m\u001b[1;33m,\u001b[0m \u001b[1;33m**\u001b[0m\u001b[0mkwargs\u001b[0m\u001b[1;33m)\u001b[0m\u001b[1;33m\u001b[0m\u001b[1;33m\u001b[0m\u001b[0m\n\u001b[0m\u001b[0;32m    969\u001b[0m           \u001b[0mself\u001b[0m\u001b[1;33m.\u001b[0m\u001b[0m_handle_activity_regularization\u001b[0m\u001b[1;33m(\u001b[0m\u001b[0minputs\u001b[0m\u001b[1;33m,\u001b[0m \u001b[0moutputs\u001b[0m\u001b[1;33m)\u001b[0m\u001b[1;33m\u001b[0m\u001b[1;33m\u001b[0m\u001b[0m\n\u001b[0;32m    970\u001b[0m           \u001b[0mself\u001b[0m\u001b[1;33m.\u001b[0m\u001b[0m_set_mask_metadata\u001b[0m\u001b[1;33m(\u001b[0m\u001b[0minputs\u001b[0m\u001b[1;33m,\u001b[0m \u001b[0moutputs\u001b[0m\u001b[1;33m,\u001b[0m \u001b[0minput_masks\u001b[0m\u001b[1;33m)\u001b[0m\u001b[1;33m\u001b[0m\u001b[1;33m\u001b[0m\u001b[0m\n",
      "\u001b[1;32m<ipython-input-46-a8303ed2daf0>\u001b[0m in \u001b[0;36mcall\u001b[1;34m(self, inputs, idf)\u001b[0m\n\u001b[0;32m     15\u001b[0m \u001b[1;33m\u001b[0m\u001b[0m\n\u001b[0;32m     16\u001b[0m     \u001b[1;32mdef\u001b[0m \u001b[0mcall\u001b[0m\u001b[1;33m(\u001b[0m\u001b[0mself\u001b[0m\u001b[1;33m,\u001b[0m \u001b[0minputs\u001b[0m\u001b[1;33m,\u001b[0m \u001b[0midf\u001b[0m\u001b[1;33m)\u001b[0m\u001b[1;33m:\u001b[0m\u001b[1;33m\u001b[0m\u001b[1;33m\u001b[0m\u001b[0m\n\u001b[1;32m---> 17\u001b[1;33m         \u001b[0mx\u001b[0m \u001b[1;33m=\u001b[0m \u001b[0mself\u001b[0m\u001b[1;33m.\u001b[0m\u001b[0mconv_stack\u001b[0m\u001b[1;33m(\u001b[0m\u001b[0minputs\u001b[0m\u001b[1;33m)\u001b[0m\u001b[1;33m\u001b[0m\u001b[1;33m\u001b[0m\u001b[0m\n\u001b[0m\u001b[0;32m     18\u001b[0m         \u001b[0mx\u001b[0m \u001b[1;33m=\u001b[0m \u001b[0mself\u001b[0m\u001b[1;33m.\u001b[0m\u001b[0mdim_wise_max_pooling\u001b[0m\u001b[1;33m(\u001b[0m\u001b[0mx\u001b[0m\u001b[1;33m)\u001b[0m\u001b[1;33m\u001b[0m\u001b[1;33m\u001b[0m\u001b[0m\n\u001b[0;32m     19\u001b[0m         \u001b[0mx\u001b[0m \u001b[1;33m=\u001b[0m \u001b[0mself\u001b[0m\u001b[1;33m.\u001b[0m\u001b[0mrow_wise_max_pooling\u001b[0m\u001b[1;33m(\u001b[0m\u001b[0mx\u001b[0m\u001b[1;33m)\u001b[0m\u001b[1;33m\u001b[0m\u001b[1;33m\u001b[0m\u001b[0m\n",
      "\u001b[1;32m~\\anaconda3\\lib\\site-packages\\tensorflow\\python\\keras\\engine\\base_layer.py\u001b[0m in \u001b[0;36m__call__\u001b[1;34m(self, *args, **kwargs)\u001b[0m\n\u001b[0;32m    966\u001b[0m           with base_layer_utils.autocast_context_manager(\n\u001b[0;32m    967\u001b[0m               self._compute_dtype):\n\u001b[1;32m--> 968\u001b[1;33m             \u001b[0moutputs\u001b[0m \u001b[1;33m=\u001b[0m \u001b[0mself\u001b[0m\u001b[1;33m.\u001b[0m\u001b[0mcall\u001b[0m\u001b[1;33m(\u001b[0m\u001b[0mcast_inputs\u001b[0m\u001b[1;33m,\u001b[0m \u001b[1;33m*\u001b[0m\u001b[0margs\u001b[0m\u001b[1;33m,\u001b[0m \u001b[1;33m**\u001b[0m\u001b[0mkwargs\u001b[0m\u001b[1;33m)\u001b[0m\u001b[1;33m\u001b[0m\u001b[1;33m\u001b[0m\u001b[0m\n\u001b[0m\u001b[0;32m    969\u001b[0m           \u001b[0mself\u001b[0m\u001b[1;33m.\u001b[0m\u001b[0m_handle_activity_regularization\u001b[0m\u001b[1;33m(\u001b[0m\u001b[0minputs\u001b[0m\u001b[1;33m,\u001b[0m \u001b[0moutputs\u001b[0m\u001b[1;33m)\u001b[0m\u001b[1;33m\u001b[0m\u001b[1;33m\u001b[0m\u001b[0m\n\u001b[0;32m    970\u001b[0m           \u001b[0mself\u001b[0m\u001b[1;33m.\u001b[0m\u001b[0m_set_mask_metadata\u001b[0m\u001b[1;33m(\u001b[0m\u001b[0minputs\u001b[0m\u001b[1;33m,\u001b[0m \u001b[0moutputs\u001b[0m\u001b[1;33m,\u001b[0m \u001b[0minput_masks\u001b[0m\u001b[1;33m)\u001b[0m\u001b[1;33m\u001b[0m\u001b[1;33m\u001b[0m\u001b[0m\n",
      "\u001b[1;32m<ipython-input-41-8f48f6e737cb>\u001b[0m in \u001b[0;36mcall\u001b[1;34m(self, inputs)\u001b[0m\n\u001b[0;32m     13\u001b[0m         \u001b[0mx\u001b[0m \u001b[1;33m=\u001b[0m \u001b[1;33m{\u001b[0m\u001b[1;33m}\u001b[0m\u001b[1;33m\u001b[0m\u001b[1;33m\u001b[0m\u001b[0m\n\u001b[0;32m     14\u001b[0m         \u001b[1;32mfor\u001b[0m \u001b[0mi\u001b[0m \u001b[1;32min\u001b[0m \u001b[0mrange\u001b[0m\u001b[1;33m(\u001b[0m\u001b[1;36m2\u001b[0m\u001b[1;33m,\u001b[0m \u001b[0mself\u001b[0m\u001b[1;33m.\u001b[0m\u001b[0mlg\u001b[0m\u001b[1;33m+\u001b[0m\u001b[1;36m1\u001b[0m\u001b[1;33m)\u001b[0m\u001b[1;33m:\u001b[0m\u001b[1;33m\u001b[0m\u001b[1;33m\u001b[0m\u001b[0m\n\u001b[1;32m---> 15\u001b[1;33m             \u001b[0mx\u001b[0m\u001b[1;33m[\u001b[0m\u001b[0mi\u001b[0m\u001b[1;33m]\u001b[0m \u001b[1;33m=\u001b[0m \u001b[0mself\u001b[0m\u001b[1;33m.\u001b[0m\u001b[0mconv_dict\u001b[0m\u001b[1;33m[\u001b[0m\u001b[0mi\u001b[0m\u001b[1;33m]\u001b[0m\u001b[1;33m(\u001b[0m\u001b[0minputs\u001b[0m\u001b[1;33m)\u001b[0m\u001b[1;33m\u001b[0m\u001b[1;33m\u001b[0m\u001b[0m\n\u001b[0m\u001b[0;32m     16\u001b[0m         \u001b[1;32mreturn\u001b[0m \u001b[0mtf\u001b[0m\u001b[1;33m.\u001b[0m\u001b[0mkeras\u001b[0m\u001b[1;33m.\u001b[0m\u001b[0mlayers\u001b[0m\u001b[1;33m.\u001b[0m\u001b[0mconcatenate\u001b[0m\u001b[1;33m(\u001b[0m\u001b[1;33m[\u001b[0m\u001b[0mx_1\u001b[0m\u001b[1;33m]\u001b[0m \u001b[1;33m+\u001b[0m \u001b[1;33m[\u001b[0m\u001b[0mx\u001b[0m\u001b[1;33m[\u001b[0m\u001b[0mk\u001b[0m\u001b[1;33m]\u001b[0m \u001b[1;32mfor\u001b[0m \u001b[0mk\u001b[0m \u001b[1;32min\u001b[0m \u001b[0mx\u001b[0m\u001b[1;33m]\u001b[0m\u001b[1;33m)\u001b[0m\u001b[1;33m\u001b[0m\u001b[1;33m\u001b[0m\u001b[0m\n",
      "\u001b[1;32m~\\anaconda3\\lib\\site-packages\\tensorflow\\python\\keras\\engine\\base_layer.py\u001b[0m in \u001b[0;36m__call__\u001b[1;34m(self, *args, **kwargs)\u001b[0m\n\u001b[0;32m    966\u001b[0m           with base_layer_utils.autocast_context_manager(\n\u001b[0;32m    967\u001b[0m               self._compute_dtype):\n\u001b[1;32m--> 968\u001b[1;33m             \u001b[0moutputs\u001b[0m \u001b[1;33m=\u001b[0m \u001b[0mself\u001b[0m\u001b[1;33m.\u001b[0m\u001b[0mcall\u001b[0m\u001b[1;33m(\u001b[0m\u001b[0mcast_inputs\u001b[0m\u001b[1;33m,\u001b[0m \u001b[1;33m*\u001b[0m\u001b[0margs\u001b[0m\u001b[1;33m,\u001b[0m \u001b[1;33m**\u001b[0m\u001b[0mkwargs\u001b[0m\u001b[1;33m)\u001b[0m\u001b[1;33m\u001b[0m\u001b[1;33m\u001b[0m\u001b[0m\n\u001b[0m\u001b[0;32m    969\u001b[0m           \u001b[0mself\u001b[0m\u001b[1;33m.\u001b[0m\u001b[0m_handle_activity_regularization\u001b[0m\u001b[1;33m(\u001b[0m\u001b[0minputs\u001b[0m\u001b[1;33m,\u001b[0m \u001b[0moutputs\u001b[0m\u001b[1;33m)\u001b[0m\u001b[1;33m\u001b[0m\u001b[1;33m\u001b[0m\u001b[0m\n\u001b[0;32m    970\u001b[0m           \u001b[0mself\u001b[0m\u001b[1;33m.\u001b[0m\u001b[0m_set_mask_metadata\u001b[0m\u001b[1;33m(\u001b[0m\u001b[0minputs\u001b[0m\u001b[1;33m,\u001b[0m \u001b[0moutputs\u001b[0m\u001b[1;33m,\u001b[0m \u001b[0minput_masks\u001b[0m\u001b[1;33m)\u001b[0m\u001b[1;33m\u001b[0m\u001b[1;33m\u001b[0m\u001b[0m\n",
      "\u001b[1;32m~\\anaconda3\\lib\\site-packages\\tensorflow\\python\\keras\\layers\\convolutional.py\u001b[0m in \u001b[0;36mcall\u001b[1;34m(self, inputs)\u001b[0m\n\u001b[0;32m    205\u001b[0m       \u001b[0minputs\u001b[0m \u001b[1;33m=\u001b[0m \u001b[0marray_ops\u001b[0m\u001b[1;33m.\u001b[0m\u001b[0mpad\u001b[0m\u001b[1;33m(\u001b[0m\u001b[0minputs\u001b[0m\u001b[1;33m,\u001b[0m \u001b[0mself\u001b[0m\u001b[1;33m.\u001b[0m\u001b[0m_compute_causal_padding\u001b[0m\u001b[1;33m(\u001b[0m\u001b[1;33m)\u001b[0m\u001b[1;33m)\u001b[0m\u001b[1;33m\u001b[0m\u001b[1;33m\u001b[0m\u001b[0m\n\u001b[0;32m    206\u001b[0m \u001b[1;33m\u001b[0m\u001b[0m\n\u001b[1;32m--> 207\u001b[1;33m     \u001b[0moutputs\u001b[0m \u001b[1;33m=\u001b[0m \u001b[0mself\u001b[0m\u001b[1;33m.\u001b[0m\u001b[0m_convolution_op\u001b[0m\u001b[1;33m(\u001b[0m\u001b[0minputs\u001b[0m\u001b[1;33m,\u001b[0m \u001b[0mself\u001b[0m\u001b[1;33m.\u001b[0m\u001b[0mkernel\u001b[0m\u001b[1;33m)\u001b[0m\u001b[1;33m\u001b[0m\u001b[1;33m\u001b[0m\u001b[0m\n\u001b[0m\u001b[0;32m    208\u001b[0m \u001b[1;33m\u001b[0m\u001b[0m\n\u001b[0;32m    209\u001b[0m     \u001b[1;32mif\u001b[0m \u001b[0mself\u001b[0m\u001b[1;33m.\u001b[0m\u001b[0muse_bias\u001b[0m\u001b[1;33m:\u001b[0m\u001b[1;33m\u001b[0m\u001b[1;33m\u001b[0m\u001b[0m\n",
      "\u001b[1;32m~\\anaconda3\\lib\\site-packages\\tensorflow\\python\\ops\\nn_ops.py\u001b[0m in \u001b[0;36m__call__\u001b[1;34m(self, inp, filter)\u001b[0m\n\u001b[0;32m   1104\u001b[0m           call_from_convolution=False)\n\u001b[0;32m   1105\u001b[0m     \u001b[1;32melse\u001b[0m\u001b[1;33m:\u001b[0m\u001b[1;33m\u001b[0m\u001b[1;33m\u001b[0m\u001b[0m\n\u001b[1;32m-> 1106\u001b[1;33m       \u001b[1;32mreturn\u001b[0m \u001b[0mself\u001b[0m\u001b[1;33m.\u001b[0m\u001b[0mconv_op\u001b[0m\u001b[1;33m(\u001b[0m\u001b[0minp\u001b[0m\u001b[1;33m,\u001b[0m \u001b[0mfilter\u001b[0m\u001b[1;33m)\u001b[0m\u001b[1;33m\u001b[0m\u001b[1;33m\u001b[0m\u001b[0m\n\u001b[0m\u001b[0;32m   1107\u001b[0m \u001b[1;33m\u001b[0m\u001b[0m\n\u001b[0;32m   1108\u001b[0m \u001b[1;33m\u001b[0m\u001b[0m\n",
      "\u001b[1;32m~\\anaconda3\\lib\\site-packages\\tensorflow\\python\\ops\\nn_ops.py\u001b[0m in \u001b[0;36m__call__\u001b[1;34m(self, inp, filter)\u001b[0m\n\u001b[0;32m    636\u001b[0m \u001b[1;33m\u001b[0m\u001b[0m\n\u001b[0;32m    637\u001b[0m   \u001b[1;32mdef\u001b[0m \u001b[0m__call__\u001b[0m\u001b[1;33m(\u001b[0m\u001b[0mself\u001b[0m\u001b[1;33m,\u001b[0m \u001b[0minp\u001b[0m\u001b[1;33m,\u001b[0m \u001b[0mfilter\u001b[0m\u001b[1;33m)\u001b[0m\u001b[1;33m:\u001b[0m  \u001b[1;31m# pylint: disable=redefined-builtin\u001b[0m\u001b[1;33m\u001b[0m\u001b[1;33m\u001b[0m\u001b[0m\n\u001b[1;32m--> 638\u001b[1;33m     \u001b[1;32mreturn\u001b[0m \u001b[0mself\u001b[0m\u001b[1;33m.\u001b[0m\u001b[0mcall\u001b[0m\u001b[1;33m(\u001b[0m\u001b[0minp\u001b[0m\u001b[1;33m,\u001b[0m \u001b[0mfilter\u001b[0m\u001b[1;33m)\u001b[0m\u001b[1;33m\u001b[0m\u001b[1;33m\u001b[0m\u001b[0m\n\u001b[0m\u001b[0;32m    639\u001b[0m \u001b[1;33m\u001b[0m\u001b[0m\n\u001b[0;32m    640\u001b[0m \u001b[1;33m\u001b[0m\u001b[0m\n",
      "\u001b[1;32m~\\anaconda3\\lib\\site-packages\\tensorflow\\python\\ops\\nn_ops.py\u001b[0m in \u001b[0;36m__call__\u001b[1;34m(self, inp, filter)\u001b[0m\n\u001b[0;32m    235\u001b[0m         \u001b[0mpadding\u001b[0m\u001b[1;33m=\u001b[0m\u001b[0mself\u001b[0m\u001b[1;33m.\u001b[0m\u001b[0mpadding\u001b[0m\u001b[1;33m,\u001b[0m\u001b[1;33m\u001b[0m\u001b[1;33m\u001b[0m\u001b[0m\n\u001b[0;32m    236\u001b[0m         \u001b[0mdata_format\u001b[0m\u001b[1;33m=\u001b[0m\u001b[0mself\u001b[0m\u001b[1;33m.\u001b[0m\u001b[0mdata_format\u001b[0m\u001b[1;33m,\u001b[0m\u001b[1;33m\u001b[0m\u001b[1;33m\u001b[0m\u001b[0m\n\u001b[1;32m--> 237\u001b[1;33m         name=self.name)\n\u001b[0m\u001b[0;32m    238\u001b[0m \u001b[1;33m\u001b[0m\u001b[0m\n\u001b[0;32m    239\u001b[0m \u001b[1;33m\u001b[0m\u001b[0m\n",
      "\u001b[1;32m~\\anaconda3\\lib\\site-packages\\tensorflow\\python\\ops\\nn_ops.py\u001b[0m in \u001b[0;36mconv2d\u001b[1;34m(input, filter, strides, padding, use_cudnn_on_gpu, data_format, dilations, name, filters)\u001b[0m\n\u001b[0;32m   2012\u001b[0m                            \u001b[0mdata_format\u001b[0m\u001b[1;33m=\u001b[0m\u001b[0mdata_format\u001b[0m\u001b[1;33m,\u001b[0m\u001b[1;33m\u001b[0m\u001b[1;33m\u001b[0m\u001b[0m\n\u001b[0;32m   2013\u001b[0m                            \u001b[0mdilations\u001b[0m\u001b[1;33m=\u001b[0m\u001b[0mdilations\u001b[0m\u001b[1;33m,\u001b[0m\u001b[1;33m\u001b[0m\u001b[1;33m\u001b[0m\u001b[0m\n\u001b[1;32m-> 2014\u001b[1;33m                            name=name)\n\u001b[0m\u001b[0;32m   2015\u001b[0m \u001b[1;33m\u001b[0m\u001b[0m\n\u001b[0;32m   2016\u001b[0m \u001b[1;33m\u001b[0m\u001b[0m\n",
      "\u001b[1;32m~\\anaconda3\\lib\\site-packages\\tensorflow\\python\\ops\\gen_nn_ops.py\u001b[0m in \u001b[0;36mconv2d\u001b[1;34m(input, filter, strides, padding, use_cudnn_on_gpu, explicit_paddings, data_format, dilations, name)\u001b[0m\n\u001b[0;32m    931\u001b[0m             \u001b[0minput\u001b[0m\u001b[1;33m,\u001b[0m \u001b[0mfilter\u001b[0m\u001b[1;33m,\u001b[0m \u001b[0mstrides\u001b[0m\u001b[1;33m=\u001b[0m\u001b[0mstrides\u001b[0m\u001b[1;33m,\u001b[0m \u001b[0muse_cudnn_on_gpu\u001b[0m\u001b[1;33m=\u001b[0m\u001b[0muse_cudnn_on_gpu\u001b[0m\u001b[1;33m,\u001b[0m\u001b[1;33m\u001b[0m\u001b[1;33m\u001b[0m\u001b[0m\n\u001b[0;32m    932\u001b[0m             \u001b[0mpadding\u001b[0m\u001b[1;33m=\u001b[0m\u001b[0mpadding\u001b[0m\u001b[1;33m,\u001b[0m \u001b[0mexplicit_paddings\u001b[0m\u001b[1;33m=\u001b[0m\u001b[0mexplicit_paddings\u001b[0m\u001b[1;33m,\u001b[0m\u001b[1;33m\u001b[0m\u001b[1;33m\u001b[0m\u001b[0m\n\u001b[1;32m--> 933\u001b[1;33m             data_format=data_format, dilations=dilations, name=name, ctx=_ctx)\n\u001b[0m\u001b[0;32m    934\u001b[0m       \u001b[1;32mexcept\u001b[0m \u001b[0m_core\u001b[0m\u001b[1;33m.\u001b[0m\u001b[0m_SymbolicException\u001b[0m\u001b[1;33m:\u001b[0m\u001b[1;33m\u001b[0m\u001b[1;33m\u001b[0m\u001b[0m\n\u001b[0;32m    935\u001b[0m         \u001b[1;32mpass\u001b[0m  \u001b[1;31m# Add nodes to the TensorFlow graph.\u001b[0m\u001b[1;33m\u001b[0m\u001b[1;33m\u001b[0m\u001b[0m\n",
      "\u001b[1;32m~\\anaconda3\\lib\\site-packages\\tensorflow\\python\\ops\\gen_nn_ops.py\u001b[0m in \u001b[0;36mconv2d_eager_fallback\u001b[1;34m(input, filter, strides, padding, use_cudnn_on_gpu, explicit_paddings, data_format, dilations, name, ctx)\u001b[0m\n\u001b[0;32m   1013\u001b[0m         \"'conv2d' Op, not %r.\" % dilations)\n\u001b[0;32m   1014\u001b[0m   \u001b[0mdilations\u001b[0m \u001b[1;33m=\u001b[0m \u001b[1;33m[\u001b[0m\u001b[0m_execute\u001b[0m\u001b[1;33m.\u001b[0m\u001b[0mmake_int\u001b[0m\u001b[1;33m(\u001b[0m\u001b[0m_i\u001b[0m\u001b[1;33m,\u001b[0m \u001b[1;34m\"dilations\"\u001b[0m\u001b[1;33m)\u001b[0m \u001b[1;32mfor\u001b[0m \u001b[0m_i\u001b[0m \u001b[1;32min\u001b[0m \u001b[0mdilations\u001b[0m\u001b[1;33m]\u001b[0m\u001b[1;33m\u001b[0m\u001b[1;33m\u001b[0m\u001b[0m\n\u001b[1;32m-> 1015\u001b[1;33m   \u001b[0m_attr_T\u001b[0m\u001b[1;33m,\u001b[0m \u001b[0m_inputs_T\u001b[0m \u001b[1;33m=\u001b[0m \u001b[0m_execute\u001b[0m\u001b[1;33m.\u001b[0m\u001b[0margs_to_matching_eager\u001b[0m\u001b[1;33m(\u001b[0m\u001b[1;33m[\u001b[0m\u001b[0minput\u001b[0m\u001b[1;33m,\u001b[0m \u001b[0mfilter\u001b[0m\u001b[1;33m]\u001b[0m\u001b[1;33m,\u001b[0m \u001b[0mctx\u001b[0m\u001b[1;33m)\u001b[0m\u001b[1;33m\u001b[0m\u001b[1;33m\u001b[0m\u001b[0m\n\u001b[0m\u001b[0;32m   1016\u001b[0m   \u001b[1;33m(\u001b[0m\u001b[0minput\u001b[0m\u001b[1;33m,\u001b[0m \u001b[0mfilter\u001b[0m\u001b[1;33m)\u001b[0m \u001b[1;33m=\u001b[0m \u001b[0m_inputs_T\u001b[0m\u001b[1;33m\u001b[0m\u001b[1;33m\u001b[0m\u001b[0m\n\u001b[0;32m   1017\u001b[0m   \u001b[0m_inputs_flat\u001b[0m \u001b[1;33m=\u001b[0m \u001b[1;33m[\u001b[0m\u001b[0minput\u001b[0m\u001b[1;33m,\u001b[0m \u001b[0mfilter\u001b[0m\u001b[1;33m]\u001b[0m\u001b[1;33m\u001b[0m\u001b[1;33m\u001b[0m\u001b[0m\n",
      "\u001b[1;32m~\\anaconda3\\lib\\site-packages\\tensorflow\\python\\eager\\execute.py\u001b[0m in \u001b[0;36margs_to_matching_eager\u001b[1;34m(l, ctx, default_dtype)\u001b[0m\n\u001b[0;32m    265\u001b[0m         \u001b[0mdtype\u001b[0m \u001b[1;33m=\u001b[0m \u001b[0mret\u001b[0m\u001b[1;33m[\u001b[0m\u001b[1;33m-\u001b[0m\u001b[1;36m1\u001b[0m\u001b[1;33m]\u001b[0m\u001b[1;33m.\u001b[0m\u001b[0mdtype\u001b[0m\u001b[1;33m\u001b[0m\u001b[1;33m\u001b[0m\u001b[0m\n\u001b[0;32m    266\u001b[0m   \u001b[1;32melse\u001b[0m\u001b[1;33m:\u001b[0m\u001b[1;33m\u001b[0m\u001b[1;33m\u001b[0m\u001b[0m\n\u001b[1;32m--> 267\u001b[1;33m     \u001b[0mret\u001b[0m \u001b[1;33m=\u001b[0m \u001b[1;33m[\u001b[0m\u001b[0mops\u001b[0m\u001b[1;33m.\u001b[0m\u001b[0mconvert_to_tensor\u001b[0m\u001b[1;33m(\u001b[0m\u001b[0mt\u001b[0m\u001b[1;33m,\u001b[0m \u001b[0mdtype\u001b[0m\u001b[1;33m,\u001b[0m \u001b[0mctx\u001b[0m\u001b[1;33m=\u001b[0m\u001b[0mctx\u001b[0m\u001b[1;33m)\u001b[0m \u001b[1;32mfor\u001b[0m \u001b[0mt\u001b[0m \u001b[1;32min\u001b[0m \u001b[0ml\u001b[0m\u001b[1;33m]\u001b[0m\u001b[1;33m\u001b[0m\u001b[1;33m\u001b[0m\u001b[0m\n\u001b[0m\u001b[0;32m    268\u001b[0m \u001b[1;33m\u001b[0m\u001b[0m\n\u001b[0;32m    269\u001b[0m   \u001b[1;31m# TODO(slebedev): consider removing this as it leaks a Keras concept.\u001b[0m\u001b[1;33m\u001b[0m\u001b[1;33m\u001b[0m\u001b[1;33m\u001b[0m\u001b[0m\n",
      "\u001b[1;32m~\\anaconda3\\lib\\site-packages\\tensorflow\\python\\eager\\execute.py\u001b[0m in \u001b[0;36m<listcomp>\u001b[1;34m(.0)\u001b[0m\n\u001b[0;32m    265\u001b[0m         \u001b[0mdtype\u001b[0m \u001b[1;33m=\u001b[0m \u001b[0mret\u001b[0m\u001b[1;33m[\u001b[0m\u001b[1;33m-\u001b[0m\u001b[1;36m1\u001b[0m\u001b[1;33m]\u001b[0m\u001b[1;33m.\u001b[0m\u001b[0mdtype\u001b[0m\u001b[1;33m\u001b[0m\u001b[1;33m\u001b[0m\u001b[0m\n\u001b[0;32m    266\u001b[0m   \u001b[1;32melse\u001b[0m\u001b[1;33m:\u001b[0m\u001b[1;33m\u001b[0m\u001b[1;33m\u001b[0m\u001b[0m\n\u001b[1;32m--> 267\u001b[1;33m     \u001b[0mret\u001b[0m \u001b[1;33m=\u001b[0m \u001b[1;33m[\u001b[0m\u001b[0mops\u001b[0m\u001b[1;33m.\u001b[0m\u001b[0mconvert_to_tensor\u001b[0m\u001b[1;33m(\u001b[0m\u001b[0mt\u001b[0m\u001b[1;33m,\u001b[0m \u001b[0mdtype\u001b[0m\u001b[1;33m,\u001b[0m \u001b[0mctx\u001b[0m\u001b[1;33m=\u001b[0m\u001b[0mctx\u001b[0m\u001b[1;33m)\u001b[0m \u001b[1;32mfor\u001b[0m \u001b[0mt\u001b[0m \u001b[1;32min\u001b[0m \u001b[0ml\u001b[0m\u001b[1;33m]\u001b[0m\u001b[1;33m\u001b[0m\u001b[1;33m\u001b[0m\u001b[0m\n\u001b[0m\u001b[0;32m    268\u001b[0m \u001b[1;33m\u001b[0m\u001b[0m\n\u001b[0;32m    269\u001b[0m   \u001b[1;31m# TODO(slebedev): consider removing this as it leaks a Keras concept.\u001b[0m\u001b[1;33m\u001b[0m\u001b[1;33m\u001b[0m\u001b[1;33m\u001b[0m\u001b[0m\n",
      "\u001b[1;32m~\\anaconda3\\lib\\site-packages\\tensorflow\\python\\framework\\ops.py\u001b[0m in \u001b[0;36mconvert_to_tensor\u001b[1;34m(value, dtype, name, as_ref, preferred_dtype, dtype_hint, ctx, accepted_result_types)\u001b[0m\n\u001b[0;32m   1339\u001b[0m \u001b[1;33m\u001b[0m\u001b[0m\n\u001b[0;32m   1340\u001b[0m     \u001b[1;32mif\u001b[0m \u001b[0mret\u001b[0m \u001b[1;32mis\u001b[0m \u001b[1;32mNone\u001b[0m\u001b[1;33m:\u001b[0m\u001b[1;33m\u001b[0m\u001b[1;33m\u001b[0m\u001b[0m\n\u001b[1;32m-> 1341\u001b[1;33m       \u001b[0mret\u001b[0m \u001b[1;33m=\u001b[0m \u001b[0mconversion_func\u001b[0m\u001b[1;33m(\u001b[0m\u001b[0mvalue\u001b[0m\u001b[1;33m,\u001b[0m \u001b[0mdtype\u001b[0m\u001b[1;33m=\u001b[0m\u001b[0mdtype\u001b[0m\u001b[1;33m,\u001b[0m \u001b[0mname\u001b[0m\u001b[1;33m=\u001b[0m\u001b[0mname\u001b[0m\u001b[1;33m,\u001b[0m \u001b[0mas_ref\u001b[0m\u001b[1;33m=\u001b[0m\u001b[0mas_ref\u001b[0m\u001b[1;33m)\u001b[0m\u001b[1;33m\u001b[0m\u001b[1;33m\u001b[0m\u001b[0m\n\u001b[0m\u001b[0;32m   1342\u001b[0m \u001b[1;33m\u001b[0m\u001b[0m\n\u001b[0;32m   1343\u001b[0m     \u001b[1;32mif\u001b[0m \u001b[0mret\u001b[0m \u001b[1;32mis\u001b[0m \u001b[0mNotImplemented\u001b[0m\u001b[1;33m:\u001b[0m\u001b[1;33m\u001b[0m\u001b[1;33m\u001b[0m\u001b[0m\n",
      "\u001b[1;32m~\\anaconda3\\lib\\site-packages\\tensorflow\\python\\ops\\resource_variable_ops.py\u001b[0m in \u001b[0;36m_dense_var_to_tensor\u001b[1;34m(var, dtype, name, as_ref)\u001b[0m\n\u001b[0;32m   1823\u001b[0m \u001b[1;33m\u001b[0m\u001b[0m\n\u001b[0;32m   1824\u001b[0m \u001b[1;32mdef\u001b[0m \u001b[0m_dense_var_to_tensor\u001b[0m\u001b[1;33m(\u001b[0m\u001b[0mvar\u001b[0m\u001b[1;33m,\u001b[0m \u001b[0mdtype\u001b[0m\u001b[1;33m=\u001b[0m\u001b[1;32mNone\u001b[0m\u001b[1;33m,\u001b[0m \u001b[0mname\u001b[0m\u001b[1;33m=\u001b[0m\u001b[1;32mNone\u001b[0m\u001b[1;33m,\u001b[0m \u001b[0mas_ref\u001b[0m\u001b[1;33m=\u001b[0m\u001b[1;32mFalse\u001b[0m\u001b[1;33m)\u001b[0m\u001b[1;33m:\u001b[0m\u001b[1;33m\u001b[0m\u001b[1;33m\u001b[0m\u001b[0m\n\u001b[1;32m-> 1825\u001b[1;33m   \u001b[1;32mreturn\u001b[0m \u001b[0mvar\u001b[0m\u001b[1;33m.\u001b[0m\u001b[0m_dense_var_to_tensor\u001b[0m\u001b[1;33m(\u001b[0m\u001b[0mdtype\u001b[0m\u001b[1;33m=\u001b[0m\u001b[0mdtype\u001b[0m\u001b[1;33m,\u001b[0m \u001b[0mname\u001b[0m\u001b[1;33m=\u001b[0m\u001b[0mname\u001b[0m\u001b[1;33m,\u001b[0m \u001b[0mas_ref\u001b[0m\u001b[1;33m=\u001b[0m\u001b[0mas_ref\u001b[0m\u001b[1;33m)\u001b[0m  \u001b[1;31m# pylint: disable=protected-access\u001b[0m\u001b[1;33m\u001b[0m\u001b[1;33m\u001b[0m\u001b[0m\n\u001b[0m\u001b[0;32m   1826\u001b[0m \u001b[1;33m\u001b[0m\u001b[0m\n\u001b[0;32m   1827\u001b[0m \u001b[1;33m\u001b[0m\u001b[0m\n",
      "\u001b[1;32m~\\anaconda3\\lib\\site-packages\\tensorflow\\python\\ops\\resource_variable_ops.py\u001b[0m in \u001b[0;36m_dense_var_to_tensor\u001b[1;34m(***failed resolving arguments***)\u001b[0m\n\u001b[0;32m   1240\u001b[0m       \u001b[1;32mreturn\u001b[0m \u001b[0mself\u001b[0m\u001b[1;33m.\u001b[0m\u001b[0mread_value\u001b[0m\u001b[1;33m(\u001b[0m\u001b[1;33m)\u001b[0m\u001b[1;33m.\u001b[0m\u001b[0mop\u001b[0m\u001b[1;33m.\u001b[0m\u001b[0minputs\u001b[0m\u001b[1;33m[\u001b[0m\u001b[1;36m0\u001b[0m\u001b[1;33m]\u001b[0m\u001b[1;33m\u001b[0m\u001b[1;33m\u001b[0m\u001b[0m\n\u001b[0;32m   1241\u001b[0m     \u001b[1;32melse\u001b[0m\u001b[1;33m:\u001b[0m\u001b[1;33m\u001b[0m\u001b[1;33m\u001b[0m\u001b[0m\n\u001b[1;32m-> 1242\u001b[1;33m       \u001b[1;32mreturn\u001b[0m \u001b[0mself\u001b[0m\u001b[1;33m.\u001b[0m\u001b[0mvalue\u001b[0m\u001b[1;33m(\u001b[0m\u001b[1;33m)\u001b[0m\u001b[1;33m\u001b[0m\u001b[1;33m\u001b[0m\u001b[0m\n\u001b[0m\u001b[0;32m   1243\u001b[0m \u001b[1;33m\u001b[0m\u001b[0m\n\u001b[0;32m   1244\u001b[0m   \u001b[1;32mdef\u001b[0m \u001b[0m__iadd__\u001b[0m\u001b[1;33m(\u001b[0m\u001b[0mself\u001b[0m\u001b[1;33m,\u001b[0m \u001b[0munused_other\u001b[0m\u001b[1;33m)\u001b[0m\u001b[1;33m:\u001b[0m\u001b[1;33m\u001b[0m\u001b[1;33m\u001b[0m\u001b[0m\n",
      "\u001b[1;32m~\\anaconda3\\lib\\site-packages\\tensorflow\\python\\ops\\resource_variable_ops.py\u001b[0m in \u001b[0;36mvalue\u001b[1;34m(self)\u001b[0m\n\u001b[0;32m    548\u001b[0m       \u001b[1;32mreturn\u001b[0m \u001b[0mself\u001b[0m\u001b[1;33m.\u001b[0m\u001b[0m_cached_value\u001b[0m\u001b[1;33m\u001b[0m\u001b[1;33m\u001b[0m\u001b[0m\n\u001b[0;32m    549\u001b[0m     \u001b[1;32mwith\u001b[0m \u001b[0mops\u001b[0m\u001b[1;33m.\u001b[0m\u001b[0mcolocate_with\u001b[0m\u001b[1;33m(\u001b[0m\u001b[1;32mNone\u001b[0m\u001b[1;33m,\u001b[0m \u001b[0mignore_existing\u001b[0m\u001b[1;33m=\u001b[0m\u001b[1;32mTrue\u001b[0m\u001b[1;33m)\u001b[0m\u001b[1;33m:\u001b[0m\u001b[1;33m\u001b[0m\u001b[1;33m\u001b[0m\u001b[0m\n\u001b[1;32m--> 550\u001b[1;33m       \u001b[1;32mreturn\u001b[0m \u001b[0mself\u001b[0m\u001b[1;33m.\u001b[0m\u001b[0m_read_variable_op\u001b[0m\u001b[1;33m(\u001b[0m\u001b[1;33m)\u001b[0m\u001b[1;33m\u001b[0m\u001b[1;33m\u001b[0m\u001b[0m\n\u001b[0m\u001b[0;32m    551\u001b[0m \u001b[1;33m\u001b[0m\u001b[0m\n\u001b[0;32m    552\u001b[0m   \u001b[1;32mdef\u001b[0m \u001b[0m_as_graph_element\u001b[0m\u001b[1;33m(\u001b[0m\u001b[0mself\u001b[0m\u001b[1;33m)\u001b[0m\u001b[1;33m:\u001b[0m\u001b[1;33m\u001b[0m\u001b[1;33m\u001b[0m\u001b[0m\n",
      "\u001b[1;32m~\\anaconda3\\lib\\site-packages\\tensorflow\\python\\ops\\resource_variable_ops.py\u001b[0m in \u001b[0;36m_read_variable_op\u001b[1;34m(self)\u001b[0m\n\u001b[0;32m    643\u001b[0m           \u001b[0mresult\u001b[0m \u001b[1;33m=\u001b[0m \u001b[0mread_and_set_handle\u001b[0m\u001b[1;33m(\u001b[0m\u001b[1;33m)\u001b[0m\u001b[1;33m\u001b[0m\u001b[1;33m\u001b[0m\u001b[0m\n\u001b[0;32m    644\u001b[0m     \u001b[1;32melse\u001b[0m\u001b[1;33m:\u001b[0m\u001b[1;33m\u001b[0m\u001b[1;33m\u001b[0m\u001b[0m\n\u001b[1;32m--> 645\u001b[1;33m       \u001b[0mresult\u001b[0m \u001b[1;33m=\u001b[0m \u001b[0mread_and_set_handle\u001b[0m\u001b[1;33m(\u001b[0m\u001b[1;33m)\u001b[0m\u001b[1;33m\u001b[0m\u001b[1;33m\u001b[0m\u001b[0m\n\u001b[0m\u001b[0;32m    646\u001b[0m \u001b[1;33m\u001b[0m\u001b[0m\n\u001b[0;32m    647\u001b[0m     \u001b[1;32mif\u001b[0m \u001b[1;32mnot\u001b[0m \u001b[0mcontext\u001b[0m\u001b[1;33m.\u001b[0m\u001b[0mexecuting_eagerly\u001b[0m\u001b[1;33m(\u001b[0m\u001b[1;33m)\u001b[0m\u001b[1;33m:\u001b[0m\u001b[1;33m\u001b[0m\u001b[1;33m\u001b[0m\u001b[0m\n",
      "\u001b[1;32m~\\anaconda3\\lib\\site-packages\\tensorflow\\python\\ops\\resource_variable_ops.py\u001b[0m in \u001b[0;36mread_and_set_handle\u001b[1;34m()\u001b[0m\n\u001b[0;32m    634\u001b[0m     \u001b[1;32mdef\u001b[0m \u001b[0mread_and_set_handle\u001b[0m\u001b[1;33m(\u001b[0m\u001b[1;33m)\u001b[0m\u001b[1;33m:\u001b[0m\u001b[1;33m\u001b[0m\u001b[1;33m\u001b[0m\u001b[0m\n\u001b[0;32m    635\u001b[0m       result = gen_resource_variable_ops.read_variable_op(self._handle,\n\u001b[1;32m--> 636\u001b[1;33m                                                           self._dtype)\n\u001b[0m\u001b[0;32m    637\u001b[0m       \u001b[0m_maybe_set_handle_data\u001b[0m\u001b[1;33m(\u001b[0m\u001b[0mself\u001b[0m\u001b[1;33m.\u001b[0m\u001b[0m_dtype\u001b[0m\u001b[1;33m,\u001b[0m \u001b[0mself\u001b[0m\u001b[1;33m.\u001b[0m\u001b[0m_handle\u001b[0m\u001b[1;33m,\u001b[0m \u001b[0mresult\u001b[0m\u001b[1;33m)\u001b[0m\u001b[1;33m\u001b[0m\u001b[1;33m\u001b[0m\u001b[0m\n\u001b[0;32m    638\u001b[0m       \u001b[1;32mreturn\u001b[0m \u001b[0mresult\u001b[0m\u001b[1;33m\u001b[0m\u001b[1;33m\u001b[0m\u001b[0m\n",
      "\u001b[1;32m~\\anaconda3\\lib\\site-packages\\tensorflow\\python\\ops\\gen_resource_variable_ops.py\u001b[0m in \u001b[0;36mread_variable_op\u001b[1;34m(resource, dtype, name)\u001b[0m\n\u001b[0;32m    468\u001b[0m       _result = pywrap_tfe.TFE_Py_FastPathExecute(\n\u001b[0;32m    469\u001b[0m         \u001b[0m_ctx\u001b[0m\u001b[1;33m.\u001b[0m\u001b[0m_context_handle\u001b[0m\u001b[1;33m,\u001b[0m \u001b[0mtld\u001b[0m\u001b[1;33m.\u001b[0m\u001b[0mdevice_name\u001b[0m\u001b[1;33m,\u001b[0m \u001b[1;34m\"ReadVariableOp\"\u001b[0m\u001b[1;33m,\u001b[0m \u001b[0mname\u001b[0m\u001b[1;33m,\u001b[0m\u001b[1;33m\u001b[0m\u001b[1;33m\u001b[0m\u001b[0m\n\u001b[1;32m--> 470\u001b[1;33m         tld.op_callbacks, resource, \"dtype\", dtype)\n\u001b[0m\u001b[0;32m    471\u001b[0m       \u001b[1;32mreturn\u001b[0m \u001b[0m_result\u001b[0m\u001b[1;33m\u001b[0m\u001b[1;33m\u001b[0m\u001b[0m\n\u001b[0;32m    472\u001b[0m     \u001b[1;32mexcept\u001b[0m \u001b[0m_core\u001b[0m\u001b[1;33m.\u001b[0m\u001b[0m_FallbackException\u001b[0m\u001b[1;33m:\u001b[0m\u001b[1;33m\u001b[0m\u001b[1;33m\u001b[0m\u001b[0m\n",
      "\u001b[1;31mKeyboardInterrupt\u001b[0m: "
     ]
    }
   ],
   "source": [
    "loss_sum = 0\n",
    "ndcg_sum = 0\n",
    "step_history = []\n",
    "loss_history = []\n",
    "loss_history_dev = []\n",
    "ndcg_history = []\n",
    "\n",
    "start = time.time()\n",
    "for step, batch_train in enumerate(dataset):\n",
    "    \n",
    "    with tf.GradientTape() as tape:\n",
    "        logits = model(batch_train)\n",
    "        loss_value = Pairwise_ranking_loss(y_true=None, y_pred=logits)\n",
    "        loss_sum += loss_value \n",
    "        \n",
    "    grads = tape.gradient(loss_value, model.trainable_weights)\n",
    "    optimizer.apply_gradients(zip(grads, model.trainable_weights))\n",
    "\n",
    "    if step % print_step == 0:\n",
    "        current_loss_average = float(loss_sum)/print_step\n",
    "        if step ==0:\n",
    "            current_loss_average = loss_sum\n",
    "\n",
    "        logits_dev = model(dev_set)\n",
    "        current_loss_average_dev = Pairwise_ranking_loss(y_true=None, y_pred=logits_dev)\n",
    "        \n",
    "            \n",
    "        for q in dev_q:\n",
    "            ndcg_test = test[test['query_preprocessed'] == q]\n",
    "            metadata_ndcg = {'sim_matrix': tf.stack([ndcg_test['sim_matrix'].values[j] for j in range(len(ndcg_test))], axis=0), \n",
    "                             'idf_softmax': tf.stack([ndcg_test['idf_softmax'].values[j] for j in range(len(ndcg_test))], axis=0)}  \n",
    "            ndcg_test['rel'] = model.predict(metadata_ndcg).numpy()\n",
    "            rel_pred = list(ndcg_test.sort_values(by=['rel'], axis=0, ascending=False)['median_relevance']-1)\n",
    "            ndcg_sum += ndcg(rel_pred, p=n, form=\"exp\")\n",
    "        current_ndcg_average = ndcg_sum/len(dev_q)\n",
    "        \n",
    "        step_history.append(step)\n",
    "        loss_history.append(current_loss_average)\n",
    "        loss_history_dev.append(current_loss_average_dev)\n",
    "        ndcg_history.append(current_ndcg_average)\n",
    "        \n",
    "        print(\"Training loss at step %d: %.5f, dev_loss : %.5f, nDCG@20 : %.5f\"% (step, \n",
    "                                                                  current_loss_average, \n",
    "                                                                  current_loss_average_dev,\n",
    "                                                                  current_ndcg_average))\n",
    "        print(\"Seen so far: %s train samples, learning rate: %.4f\" % ((step + 1) * batchs, learning_rate))\n",
    "        ndcg_sum = 0\n",
    "        loss_sum = 0\n",
    "        start = time.time()\n",
    "    \n",
    "    if step % 500 == 0:\n",
    "        learning_rate *= .1\n",
    "        optimizer = tf.keras.optimizers.Adagrad(learning_rate=learning_rate)"
   ]
  },
  {
   "cell_type": "code",
   "execution_count": 172,
   "metadata": {},
   "outputs": [
    {
     "data": {
      "image/png": "[encoded data removed]",
      "text/plain": [
       "<Figure size 432x288 with 1 Axes>"
      ]
     },
     "metadata": {
      "needs_background": "light"
     },
     "output_type": "display_data"
    }
   ],
   "source": [
    "plt.plot(step_history, loss_history)\n",
    "plt.plot(step_history, loss_history_dev)\n",
    "plt.plot(step_history, ndcg_history)\n",
    "plt.show()"
   ]
  },
  {
   "cell_type": "code",
   "execution_count": 143,
   "metadata": {},
   "outputs": [],
   "source": []
  },
  {
   "cell_type": "code",
   "execution_count": 247,
   "metadata": {},
   "outputs": [
    {
     "data": {
      "image/png": "[encoded data removed]",
      "text/plain": [
       "<Figure size 720x360 with 2 Axes>"
      ]
     },
     "metadata": {
      "needs_background": "light"
     },
     "output_type": "display_data"
    }
   ],
   "source": [
    "fig, ax1 = plt.subplots(figsize=(10,5))\n",
    "\n",
    "color = 'tab:red'\n",
    "ax1.set_xlabel('step')\n",
    "ax1.set_ylabel('loss')\n",
    "ax1.plot(step_history, loss_history, color='r', label='train loss')\n",
    "ax1.plot(step_history, loss_history_dev, color='g', label='dev loss')\n",
    "# ax1.set_ylim(0.8, 1.1)\n",
    "ax1.legend(loc=2)\n",
    "\n",
    "\n",
    "ax2 = ax1.twinx() \n",
    "\n",
    "color = 'tab:blue'\n",
    "ax2.set_ylabel('nDCG@20')  \n",
    "ax2.plot(step_history, ndcg_history, color=color, label='nDCG@20')\n",
    "ax2.legend(loc=1)\n",
    "# ax2.set_ylim(0.87, 0.94)\n",
    "plt.show()"
   ]
  },
  {
   "cell_type": "code",
   "execution_count": 117,
   "metadata": {},
   "outputs": [
    {
     "data": {
      "text/html": [
       "<div>\n",
       "<style scoped>\n",
       "    .dataframe tbody tr th:only-of-type {\n",
       "        vertical-align: middle;\n",
       "    }\n",
       "\n",
       "    .dataframe tbody tr th {\n",
       "        vertical-align: top;\n",
       "    }\n",
       "\n",
       "    .dataframe thead th {\n",
       "        text-align: right;\n",
       "    }\n",
       "</style>\n",
       "<table border=\"1\" class=\"dataframe\">\n",
       "  <thead>\n",
       "    <tr style=\"text-align: right;\">\n",
       "      <th></th>\n",
       "      <th>query</th>\n",
       "      <th>product_title</th>\n",
       "      <th>median_relevance</th>\n",
       "      <th>rel</th>\n",
       "    </tr>\n",
       "  </thead>\n",
       "  <tbody>\n",
       "    <tr>\n",
       "      <th>3096</th>\n",
       "      <td>nike flip flops</td>\n",
       "      <td>OP Girl's Woven Beach Flip Flop</td>\n",
       "      <td>3</td>\n",
       "      <td>0.128756</td>\n",
       "    </tr>\n",
       "    <tr>\n",
       "      <th>3572</th>\n",
       "      <td>nike flip flops</td>\n",
       "      <td>Girl's Circo Hailey Floral Print Flip Flop San...</td>\n",
       "      <td>2</td>\n",
       "      <td>0.128528</td>\n",
       "    </tr>\n",
       "    <tr>\n",
       "      <th>5675</th>\n",
       "      <td>nike flip flops</td>\n",
       "      <td>Toddler Boys' Skull Print Flip-flop</td>\n",
       "      <td>2</td>\n",
       "      <td>0.128147</td>\n",
       "    </tr>\n",
       "    <tr>\n",
       "      <th>1212</th>\n",
       "      <td>nike flip flops</td>\n",
       "      <td>OP Mens' Camo Flip Flop</td>\n",
       "      <td>2</td>\n",
       "      <td>0.127906</td>\n",
       "    </tr>\n",
       "    <tr>\n",
       "      <th>3573</th>\n",
       "      <td>nike flip flops</td>\n",
       "      <td>Avengers Toddler Boy's Flip Flop</td>\n",
       "      <td>2</td>\n",
       "      <td>0.127725</td>\n",
       "    </tr>\n",
       "    <tr>\n",
       "      <th>3553</th>\n",
       "      <td>nike flip flops</td>\n",
       "      <td>OP Mens' Embossed Flip Flop</td>\n",
       "      <td>2</td>\n",
       "      <td>0.127645</td>\n",
       "    </tr>\n",
       "    <tr>\n",
       "      <th>9664</th>\n",
       "      <td>nike flip flops</td>\n",
       "      <td>Op Boy's Everyday Flip Flop</td>\n",
       "      <td>2</td>\n",
       "      <td>0.127529</td>\n",
       "    </tr>\n",
       "    <tr>\n",
       "      <th>364</th>\n",
       "      <td>nike flip flops</td>\n",
       "      <td>OP Women's Beach EVA Stacked Flip-flop</td>\n",
       "      <td>2</td>\n",
       "      <td>0.127439</td>\n",
       "    </tr>\n",
       "    <tr>\n",
       "      <th>9599</th>\n",
       "      <td>nike flip flops</td>\n",
       "      <td>Women's Leonie Flip Flop Sandals - Assorted Co...</td>\n",
       "      <td>2</td>\n",
       "      <td>0.127233</td>\n",
       "    </tr>\n",
       "    <tr>\n",
       "      <th>6738</th>\n",
       "      <td>nike flip flops</td>\n",
       "      <td>Women's C9 by Champion Lindie Flip Flop Sandal...</td>\n",
       "      <td>2</td>\n",
       "      <td>0.127173</td>\n",
       "    </tr>\n",
       "    <tr>\n",
       "      <th>9237</th>\n",
       "      <td>nike flip flops</td>\n",
       "      <td>Disney Frozen Toddler Girl's Beach Flip-flop S...</td>\n",
       "      <td>3</td>\n",
       "      <td>0.127112</td>\n",
       "    </tr>\n",
       "    <tr>\n",
       "      <th>8157</th>\n",
       "      <td>nike flip flops</td>\n",
       "      <td>OP Women's Eyelit EVA Flip Flop</td>\n",
       "      <td>2</td>\n",
       "      <td>0.126282</td>\n",
       "    </tr>\n",
       "    <tr>\n",
       "      <th>290</th>\n",
       "      <td>nike flip flops</td>\n",
       "      <td>Women's Letty Flip Flop Sandals</td>\n",
       "      <td>3</td>\n",
       "      <td>0.125214</td>\n",
       "    </tr>\n",
       "    <tr>\n",
       "      <th>361</th>\n",
       "      <td>nike flip flops</td>\n",
       "      <td>OP Men's Printed Flip Flop Sandal</td>\n",
       "      <td>4</td>\n",
       "      <td>0.123658</td>\n",
       "    </tr>\n",
       "    <tr>\n",
       "      <th>1364</th>\n",
       "      <td>nike flip flops</td>\n",
       "      <td>Women's Beach Printed Flip Flop Sandal</td>\n",
       "      <td>2</td>\n",
       "      <td>0.123341</td>\n",
       "    </tr>\n",
       "    <tr>\n",
       "      <th>8007</th>\n",
       "      <td>nike flip flops</td>\n",
       "      <td>Disney Frozen Girls Flip Flop Sandals - Blue</td>\n",
       "      <td>2</td>\n",
       "      <td>0.122649</td>\n",
       "    </tr>\n",
       "    <tr>\n",
       "      <th>9071</th>\n",
       "      <td>nike flip flops</td>\n",
       "      <td>Girl's Hilary Flip Flop Sandals - Pink</td>\n",
       "      <td>2</td>\n",
       "      <td>0.122560</td>\n",
       "    </tr>\n",
       "    <tr>\n",
       "      <th>4095</th>\n",
       "      <td>nike flip flops</td>\n",
       "      <td>Girls Hester Flip Flop Sandals - Grey/Fuchsia</td>\n",
       "      <td>4</td>\n",
       "      <td>0.122112</td>\n",
       "    </tr>\n",
       "    <tr>\n",
       "      <th>9102</th>\n",
       "      <td>nike flip flops</td>\n",
       "      <td>Women's Nike 'Solarsoft' Thong Sandal</td>\n",
       "      <td>3</td>\n",
       "      <td>0.111114</td>\n",
       "    </tr>\n",
       "    <tr>\n",
       "      <th>7694</th>\n",
       "      <td>nike flip flops</td>\n",
       "      <td>Girl's C9 by Champion Glory Memory Foam Sandal...</td>\n",
       "      <td>2</td>\n",
       "      <td>0.110805</td>\n",
       "    </tr>\n",
       "  </tbody>\n",
       "</table>\n",
       "</div>"
      ],
      "text/plain": [
       "                query                                      product_title  \\\n",
       "3096  nike flip flops                    OP Girl's Woven Beach Flip Flop   \n",
       "3572  nike flip flops  Girl's Circo Hailey Floral Print Flip Flop San...   \n",
       "5675  nike flip flops                Toddler Boys' Skull Print Flip-flop   \n",
       "1212  nike flip flops                            OP Mens' Camo Flip Flop   \n",
       "3573  nike flip flops                   Avengers Toddler Boy's Flip Flop   \n",
       "3553  nike flip flops                        OP Mens' Embossed Flip Flop   \n",
       "9664  nike flip flops                        Op Boy's Everyday Flip Flop   \n",
       "364   nike flip flops             OP Women's Beach EVA Stacked Flip-flop   \n",
       "9599  nike flip flops  Women's Leonie Flip Flop Sandals - Assorted Co...   \n",
       "6738  nike flip flops  Women's C9 by Champion Lindie Flip Flop Sandal...   \n",
       "9237  nike flip flops  Disney Frozen Toddler Girl's Beach Flip-flop S...   \n",
       "8157  nike flip flops                    OP Women's Eyelit EVA Flip Flop   \n",
       "290   nike flip flops                    Women's Letty Flip Flop Sandals   \n",
       "361   nike flip flops                  OP Men's Printed Flip Flop Sandal   \n",
       "1364  nike flip flops             Women's Beach Printed Flip Flop Sandal   \n",
       "8007  nike flip flops       Disney Frozen Girls Flip Flop Sandals - Blue   \n",
       "9071  nike flip flops             Girl's Hilary Flip Flop Sandals - Pink   \n",
       "4095  nike flip flops      Girls Hester Flip Flop Sandals - Grey/Fuchsia   \n",
       "9102  nike flip flops              Women's Nike 'Solarsoft' Thong Sandal   \n",
       "7694  nike flip flops  Girl's C9 by Champion Glory Memory Foam Sandal...   \n",
       "\n",
       "      median_relevance       rel  \n",
       "3096                 3  0.128756  \n",
       "3572                 2  0.128528  \n",
       "5675                 2  0.128147  \n",
       "1212                 2  0.127906  \n",
       "3573                 2  0.127725  \n",
       "3553                 2  0.127645  \n",
       "9664                 2  0.127529  \n",
       "364                  2  0.127439  \n",
       "9599                 2  0.127233  \n",
       "6738                 2  0.127173  \n",
       "9237                 3  0.127112  \n",
       "8157                 2  0.126282  \n",
       "290                  3  0.125214  \n",
       "361                  4  0.123658  \n",
       "1364                 2  0.123341  \n",
       "8007                 2  0.122649  \n",
       "9071                 2  0.122560  \n",
       "4095                 4  0.122112  \n",
       "9102                 3  0.111114  \n",
       "7694                 2  0.110805  "
      ]
     },
     "execution_count": 117,
     "metadata": {},
     "output_type": "execute_result"
    }
   ],
   "source": [
    "ndcg_test = test[test['query_preprocessed'] == 'nike flip flop']\n",
    "\n",
    "metadata_ndcg = {'sim_matrix': tf.stack([ndcg_test['sim_matrix'].values[j] for j in range(len(ndcg_test))], axis=0), \n",
    "                 'idf_softmax': tf.stack([ndcg_test['idf_softmax'].values[j] for j in range(len(ndcg_test))], axis=0)}  \n",
    "\n",
    "ndcg_test.insert(5, 'rel', model.predict(metadata_ndcg).numpy(), True)\n",
    "\n",
    "ndcg_test.sort_values(by=['rel'], axis=0, ascending=False)[['query', 'product_title', 'median_relevance', 'rel']].head(20)"
   ]
  },
  {
   "cell_type": "code",
   "execution_count": 269,
   "metadata": {},
   "outputs": [
    {
     "name": "stderr",
     "output_type": "stream",
     "text": [
      "C:\\Users\\kwon\\anaconda3\\lib\\site-packages\\ipykernel_launcher.py:1: FutureWarning: Passing a negative integer is deprecated in version 1.0 and will not be supported in future version. Instead, use None to not limit the column width.\n",
      "  \"\"\"Entry point for launching an IPython kernel.\n"
     ]
    }
   ],
   "source": []
  },
  {
   "cell_type": "code",
   "execution_count": 270,
   "metadata": {},
   "outputs": [
    {
     "data": {
      "text/html": [
       "<div>\n",
       "<style scoped>\n",
       "    .dataframe tbody tr th:only-of-type {\n",
       "        vertical-align: middle;\n",
       "    }\n",
       "\n",
       "    .dataframe tbody tr th {\n",
       "        vertical-align: top;\n",
       "    }\n",
       "\n",
       "    .dataframe thead th {\n",
       "        text-align: right;\n",
       "    }\n",
       "</style>\n",
       "<table border=\"1\" class=\"dataframe\">\n",
       "  <thead>\n",
       "    <tr style=\"text-align: right;\">\n",
       "      <th></th>\n",
       "      <th>query</th>\n",
       "      <th>product_title</th>\n",
       "      <th>median_relevance</th>\n",
       "      <th>rel</th>\n",
       "    </tr>\n",
       "  </thead>\n",
       "  <tbody>\n",
       "    <tr>\n",
       "      <th>7602</th>\n",
       "      <td>nike flip flops</td>\n",
       "      <td>Women's Nike 'SolarSoft 11' Flip Flop</td>\n",
       "      <td>4</td>\n",
       "      <td>0.794189</td>\n",
       "    </tr>\n",
       "    <tr>\n",
       "      <th>2601</th>\n",
       "      <td>nike flip flops</td>\n",
       "      <td>Women's Nike 'SolarSoft 11' Flip Flop, Size 6 M - Black</td>\n",
       "      <td>4</td>\n",
       "      <td>0.792521</td>\n",
       "    </tr>\n",
       "    <tr>\n",
       "      <th>841</th>\n",
       "      <td>nike flip flops</td>\n",
       "      <td>Women's Nike 'SolarSoft 11' Flip Flop, Size 8 M - Black</td>\n",
       "      <td>4</td>\n",
       "      <td>0.792521</td>\n",
       "    </tr>\n",
       "    <tr>\n",
       "      <th>6627</th>\n",
       "      <td>nike flip flops</td>\n",
       "      <td>Women's Nike 'Flex Motion' Flip Flop</td>\n",
       "      <td>4</td>\n",
       "      <td>0.792339</td>\n",
       "    </tr>\n",
       "    <tr>\n",
       "      <th>4425</th>\n",
       "      <td>nike flip flops</td>\n",
       "      <td>Nike Aqua Motion Girls Flip Flops - Little Kids/Big Kids</td>\n",
       "      <td>4</td>\n",
       "      <td>0.789937</td>\n",
       "    </tr>\n",
       "    <tr>\n",
       "      <th>8157</th>\n",
       "      <td>nike flip flops</td>\n",
       "      <td>OP Women's Eyelit EVA Flip Flop</td>\n",
       "      <td>2</td>\n",
       "      <td>0.772066</td>\n",
       "    </tr>\n",
       "    <tr>\n",
       "      <th>4095</th>\n",
       "      <td>nike flip flops</td>\n",
       "      <td>Girls Hester Flip Flop Sandals - Grey/Fuchsia</td>\n",
       "      <td>4</td>\n",
       "      <td>0.768662</td>\n",
       "    </tr>\n",
       "    <tr>\n",
       "      <th>290</th>\n",
       "      <td>nike flip flops</td>\n",
       "      <td>Women's Letty Flip Flop Sandals</td>\n",
       "      <td>3</td>\n",
       "      <td>0.767918</td>\n",
       "    </tr>\n",
       "    <tr>\n",
       "      <th>3553</th>\n",
       "      <td>nike flip flops</td>\n",
       "      <td>OP Mens' Embossed Flip Flop</td>\n",
       "      <td>2</td>\n",
       "      <td>0.767454</td>\n",
       "    </tr>\n",
       "    <tr>\n",
       "      <th>3573</th>\n",
       "      <td>nike flip flops</td>\n",
       "      <td>Avengers Toddler Boy's Flip Flop</td>\n",
       "      <td>2</td>\n",
       "      <td>0.767167</td>\n",
       "    </tr>\n",
       "    <tr>\n",
       "      <th>1212</th>\n",
       "      <td>nike flip flops</td>\n",
       "      <td>OP Mens' Camo Flip Flop</td>\n",
       "      <td>2</td>\n",
       "      <td>0.767149</td>\n",
       "    </tr>\n",
       "    <tr>\n",
       "      <th>3572</th>\n",
       "      <td>nike flip flops</td>\n",
       "      <td>Girl's Circo Hailey Floral Print Flip Flop Sandals - Pink</td>\n",
       "      <td>2</td>\n",
       "      <td>0.767047</td>\n",
       "    </tr>\n",
       "    <tr>\n",
       "      <th>364</th>\n",
       "      <td>nike flip flops</td>\n",
       "      <td>OP Women's Beach EVA Stacked Flip-flop</td>\n",
       "      <td>2</td>\n",
       "      <td>0.766301</td>\n",
       "    </tr>\n",
       "    <tr>\n",
       "      <th>9237</th>\n",
       "      <td>nike flip flops</td>\n",
       "      <td>Disney Frozen Toddler Girl's Beach Flip-flop Sandal</td>\n",
       "      <td>3</td>\n",
       "      <td>0.765226</td>\n",
       "    </tr>\n",
       "    <tr>\n",
       "      <th>3096</th>\n",
       "      <td>nike flip flops</td>\n",
       "      <td>OP Girl's Woven Beach Flip Flop</td>\n",
       "      <td>3</td>\n",
       "      <td>0.764976</td>\n",
       "    </tr>\n",
       "    <tr>\n",
       "      <th>9664</th>\n",
       "      <td>nike flip flops</td>\n",
       "      <td>Op Boy's Everyday Flip Flop</td>\n",
       "      <td>2</td>\n",
       "      <td>0.764903</td>\n",
       "    </tr>\n",
       "    <tr>\n",
       "      <th>5675</th>\n",
       "      <td>nike flip flops</td>\n",
       "      <td>Toddler Boys' Skull Print Flip-flop</td>\n",
       "      <td>2</td>\n",
       "      <td>0.764320</td>\n",
       "    </tr>\n",
       "    <tr>\n",
       "      <th>6738</th>\n",
       "      <td>nike flip flops</td>\n",
       "      <td>Women's C9 by Champion Lindie Flip Flop Sandals - Assorted Colors</td>\n",
       "      <td>2</td>\n",
       "      <td>0.762899</td>\n",
       "    </tr>\n",
       "    <tr>\n",
       "      <th>361</th>\n",
       "      <td>nike flip flops</td>\n",
       "      <td>OP Men's Printed Flip Flop Sandal</td>\n",
       "      <td>4</td>\n",
       "      <td>0.756361</td>\n",
       "    </tr>\n",
       "    <tr>\n",
       "      <th>9599</th>\n",
       "      <td>nike flip flops</td>\n",
       "      <td>Women's Leonie Flip Flop Sandals - Assorted Colors</td>\n",
       "      <td>2</td>\n",
       "      <td>0.755185</td>\n",
       "    </tr>\n",
       "  </tbody>\n",
       "</table>\n",
       "</div>"
      ],
      "text/plain": [
       "                query  \\\n",
       "7602  nike flip flops   \n",
       "2601  nike flip flops   \n",
       "841   nike flip flops   \n",
       "6627  nike flip flops   \n",
       "4425  nike flip flops   \n",
       "8157  nike flip flops   \n",
       "4095  nike flip flops   \n",
       "290   nike flip flops   \n",
       "3553  nike flip flops   \n",
       "3573  nike flip flops   \n",
       "1212  nike flip flops   \n",
       "3572  nike flip flops   \n",
       "364   nike flip flops   \n",
       "9237  nike flip flops   \n",
       "3096  nike flip flops   \n",
       "9664  nike flip flops   \n",
       "5675  nike flip flops   \n",
       "6738  nike flip flops   \n",
       "361   nike flip flops   \n",
       "9599  nike flip flops   \n",
       "\n",
       "                                                          product_title  \\\n",
       "7602  Women's Nike 'SolarSoft 11' Flip Flop                               \n",
       "2601  Women's Nike 'SolarSoft 11' Flip Flop, Size 6 M - Black             \n",
       "841   Women's Nike 'SolarSoft 11' Flip Flop, Size 8 M - Black             \n",
       "6627  Women's Nike 'Flex Motion' Flip Flop                                \n",
       "4425  Nike Aqua Motion Girls Flip Flops - Little Kids/Big Kids            \n",
       "8157  OP Women's Eyelit EVA Flip Flop                                     \n",
       "4095  Girls Hester Flip Flop Sandals - Grey/Fuchsia                       \n",
       "290   Women's Letty Flip Flop Sandals                                     \n",
       "3553  OP Mens' Embossed Flip Flop                                         \n",
       "3573  Avengers Toddler Boy's Flip Flop                                    \n",
       "1212  OP Mens' Camo Flip Flop                                             \n",
       "3572  Girl's Circo Hailey Floral Print Flip Flop Sandals - Pink           \n",
       "364   OP Women's Beach EVA Stacked Flip-flop                              \n",
       "9237  Disney Frozen Toddler Girl's Beach Flip-flop Sandal                 \n",
       "3096  OP Girl's Woven Beach Flip Flop                                     \n",
       "9664  Op Boy's Everyday Flip Flop                                         \n",
       "5675  Toddler Boys' Skull Print Flip-flop                                 \n",
       "6738  Women's C9 by Champion Lindie Flip Flop Sandals - Assorted Colors   \n",
       "361   OP Men's Printed Flip Flop Sandal                                   \n",
       "9599  Women's Leonie Flip Flop Sandals - Assorted Colors                  \n",
       "\n",
       "      median_relevance       rel  \n",
       "7602  4                 0.794189  \n",
       "2601  4                 0.792521  \n",
       "841   4                 0.792521  \n",
       "6627  4                 0.792339  \n",
       "4425  4                 0.789937  \n",
       "8157  2                 0.772066  \n",
       "4095  4                 0.768662  \n",
       "290   3                 0.767918  \n",
       "3553  2                 0.767454  \n",
       "3573  2                 0.767167  \n",
       "1212  2                 0.767149  \n",
       "3572  2                 0.767047  \n",
       "364   2                 0.766301  \n",
       "9237  3                 0.765226  \n",
       "3096  3                 0.764976  \n",
       "9664  2                 0.764903  \n",
       "5675  2                 0.764320  \n",
       "6738  2                 0.762899  \n",
       "361   4                 0.756361  \n",
       "9599  2                 0.755185  "
      ]
     },
     "execution_count": 270,
     "metadata": {},
     "output_type": "execute_result"
    }
   ],
   "source": [
    "ndcg_test = test[test['query_preprocessed'] == 'nike flip flop']\n",
    "\n",
    "metadata_ndcg = {'sim_matrix': tf.stack([ndcg_test['sim_matrix'].values[j] for j in range(len(ndcg_test))], axis=0), \n",
    "                 'idf_softmax': tf.stack([ndcg_test['idf_softmax'].values[j] for j in range(len(ndcg_test))], axis=0)}  \n",
    "\n",
    "ndcg_test.insert(5, 'rel', model.predict(metadata_ndcg).numpy(), True)\n",
    "\n",
    "ndcg_test.sort_values(by=['rel'], axis=0, ascending=False)[['query', 'product_title', 'median_relevance', 'rel']].head(20)"
   ]
  }
 ],
 "metadata": {
  "kernelspec": {
   "display_name": "Python 3",
   "language": "python",
   "name": "python3"
  },
  "language_info": {
   "codemirror_mode": {
    "name": "ipython",
    "version": 3
   },
   "file_extension": ".py",
   "mimetype": "text/x-python",
   "name": "python",
   "nbconvert_exporter": "python",
   "pygments_lexer": "ipython3",
   "version": "3.7.6"
  },
  "toc": {
   "base_numbering": 1,
   "nav_menu": {},
   "number_sections": true,
   "sideBar": true,
   "skip_h1_title": false,
   "title_cell": "Table of Contents",
   "title_sidebar": "Contents",
   "toc_cell": false,
   "toc_position": {},
   "toc_section_display": true,
   "toc_window_display": false
  },
  "varInspector": {
   "cols": {
    "lenName": 16,
    "lenType": 16,
    "lenVar": 40
   },
   "kernels_config": {
    "python": {
     "delete_cmd_postfix": "",
     "delete_cmd_prefix": "del ",
     "library": "var_list.py",
     "varRefreshCmd": "print(var_dic_list())"
    },
    "r": {
     "delete_cmd_postfix": ") ",
     "delete_cmd_prefix": "rm(",
     "library": "var_list.r",
     "varRefreshCmd": "cat(var_dic_list()) "
    }
   },
   "oldHeight": 408,
   "position": {
    "height": "40px",
    "left": "876px",
    "right": "20px",
    "top": "3px",
    "width": "472px"
   },
   "types_to_exclude": [
    "module",
    "function",
    "builtin_function_or_method",
    "instance",
    "_Feature"
   ],
   "varInspector_section_display": "none",
   "window_display": true
  }
 },
 "nbformat": 4,
 "nbformat_minor": 4
}
