{
 "cells": [
  {
   "cell_type": "code",
   "execution_count": 1,
   "metadata": {
    "ExecuteTime": {
     "end_time": "2020-08-02T09:42:50.259692Z",
     "start_time": "2020-08-02T09:42:35.457167Z"
    }
   },
   "outputs": [
    {
     "name": "stderr",
     "output_type": "stream",
     "text": [
      "C:\\Users\\kwon\\anaconda3\\lib\\site-packages\\tqdm\\std.py:658: FutureWarning: The Panel class is removed from pandas. Accessing it from the top-level namespace will also be removed in the next version\n",
      "  from pandas import Panel\n"
     ]
    },
    {
     "data": {
      "text/html": [
       "<style>.container { width:90% !important; }</style>"
      ],
      "text/plain": [
       "<IPython.core.display.HTML object>"
      ]
     },
     "metadata": {},
     "output_type": "display_data"
    }
   ],
   "source": [
    "import time\n",
    "import random\n",
    "import datetime\n",
    "import numpy as np\n",
    "import pandas as pd\n",
    "import tensorflow as tf\n",
    "import matplotlib.pyplot as plt\n",
    "\n",
    "from ast import literal_eval\n",
    "from tqdm.notebook import tqdm\n",
    "from utility.utility import ndcg, mAP_score, highlight, history_plot, generate_pairwise_dataset\n",
    "\n",
    "pd.options.mode.chained_assignment = None\n",
    "tqdm.pandas()\n",
    "from IPython.core.display import display, HTML\n",
    "display(HTML(\"<style>.container { width:90% !important; }</style>\"))\n",
    "pd.set_option('display.max_columns', 100)\n",
    "pd.set_option('display.max_colwidth', 100)\n",
    "pd.set_option('display.max_rows', 50)\n",
    "%matplotlib inline"
   ]
  },
  {
   "cell_type": "code",
   "execution_count": 2,
   "metadata": {},
   "outputs": [],
   "source": [
    "class Conv_stack(tf.keras.layers.Layer):\n",
    "    def __init__(self, lg, nf):\n",
    "        super(Conv_stack, self).__init__(name='ConV_stack')\n",
    "        self.lg = lg\n",
    "        self.nf = nf\n",
    "        self.conv_dict = {}\n",
    "        for i in range(2, self.lg+1):\n",
    "            self.conv_dict[i] = tf.keras.layers.Conv2D(self.nf, i, strides=(1, 1), padding='same')\n",
    "\n",
    "    def call(self, inputs):\n",
    "        if len(inputs.shape) == 3:\n",
    "            inputs = tf.expand_dims(inputs, axis=-1)\n",
    "        else:\n",
    "            inputs = tf.transpose(inputs, [0, 2, 3, 1])\n",
    "        x_1 = inputs\n",
    "        x = {}\n",
    "        for i in range(2, self.lg+1):\n",
    "            x[i] = self.conv_dict[i](inputs)\n",
    "        return tf.keras.layers.concatenate([x_1] + [x[k] for k in x]) "
   ]
  },
  {
   "cell_type": "code",
   "execution_count": 3,
   "metadata": {
    "ExecuteTime": {
     "end_time": "2020-08-02T09:46:33.271634Z",
     "start_time": "2020-08-02T09:46:33.255641Z"
    }
   },
   "outputs": [],
   "source": [
    "class Dim_wise_max_pooling(tf.keras.layers.Layer):\n",
    "    def __init__(self, lg, nf):\n",
    "        super(Dim_wise_max_pooling, self).__init__(name='dim_wise_max_pooling')\n",
    "        self.lg = lg\n",
    "        self.nf = nf\n",
    "        \n",
    "    def call(self, inputs):\n",
    "        inputs_channel_num = inputs.shape[-1] + (1 - self.lg)*self.nf\n",
    "        channel_range = [0] + [self.nf*i+inputs_channel_num for i in range(self.lg)]\n",
    "        x = {}\n",
    "        for i in range(1, self.lg+1):\n",
    "            x[i] = tf.math.reduce_max(inputs[:, :, :, channel_range[i-1]:channel_range[i]], axis=-1, keepdims=True)\n",
    "            \n",
    "        return tf.keras.layers.concatenate([x[k] for k in x])"
   ]
  },
  {
   "cell_type": "code",
   "execution_count": 4,
   "metadata": {
    "ExecuteTime": {
     "end_time": "2020-08-02T09:46:33.289620Z",
     "start_time": "2020-08-02T09:46:33.274629Z"
    }
   },
   "outputs": [],
   "source": [
    "class Row_wise_max_pooling(tf.keras.layers.Layer):\n",
    "    def __init__(self, ns, lg):\n",
    "        super(Row_wise_max_pooling, self).__init__(name='row_wise_max_pooling')\n",
    "        self.ns = ns\n",
    "        self.lg = lg\n",
    "        \n",
    "    def call(self, inputs):\n",
    "        x = {}\n",
    "        for i in range(1, self.lg+1):\n",
    "            x[i] = tf.math.top_k(inputs[:, :, :, i-1], k=self.ns)[0]\n",
    "            \n",
    "        return tf.keras.layers.concatenate([x[k] for k in x])"
   ]
  },
  {
   "cell_type": "code",
   "execution_count": 5,
   "metadata": {
    "ExecuteTime": {
     "end_time": "2020-08-02T09:46:33.301614Z",
     "start_time": "2020-08-02T09:46:33.293618Z"
    }
   },
   "outputs": [],
   "source": [
    "class Idf_concat(tf.keras.layers.Layer):\n",
    "    def __init__(self):\n",
    "        super(Idf_concat, self).__init__(name='idf_concat')\n",
    "        \n",
    "    def call(self, inputs, idf):\n",
    "        expand_idf = tf.expand_dims(idf, axis=-1)\n",
    "        return tf.keras.layers.concatenate([inputs, expand_idf])"
   ]
  },
  {
   "cell_type": "code",
   "execution_count": 6,
   "metadata": {
    "ExecuteTime": {
     "end_time": "2020-08-02T09:46:33.316605Z",
     "start_time": "2020-08-02T09:46:33.305612Z"
    }
   },
   "outputs": [],
   "source": [
    "class Recurrent_Layer(tf.keras.layers.Layer):\n",
    "    def __init__(self, lq, ns, lg):\n",
    "        super(Recurrent_Layer, self).__init__(name='Recurrent_Layer')\n",
    "        self.inputs_shape = (None, lq, ns*lg+1)\n",
    "        self.lstm = tf.keras.layers.LSTM(units=1, input_shape=self.inputs_shape)\n",
    "        \n",
    "    def call(self, inputs):\n",
    "        return self.lstm(inputs)"
   ]
  },
  {
   "cell_type": "code",
   "execution_count": 7,
   "metadata": {
    "ExecuteTime": {
     "end_time": "2020-08-02T09:46:33.339593Z",
     "start_time": "2020-08-02T09:46:33.320605Z"
    }
   },
   "outputs": [],
   "source": [
    "class PACRR(tf.keras.layers.Layer):\n",
    "    def __init__(self, lq, lg, nf, ns):\n",
    "        super(PACRR, self).__init__(name='PACRR')\n",
    "        self.lq = lq\n",
    "        self.lg = lg\n",
    "        self.nf = nf\n",
    "        self.ns = ns\n",
    "        \n",
    "        self.conv_stack = Conv_stack(lg=self.lg, nf=self.nf)\n",
    "        self.BN = tf.keras.layers.BatchNormalization()\n",
    "        self.dim_wise_max_pooling = Dim_wise_max_pooling(lg=self.lg, nf=self.nf)\n",
    "        self.row_wise_max_pooling = Row_wise_max_pooling(lg=self.lg, ns=self.ns)\n",
    "        self.idf_concat = Idf_concat()\n",
    "        self.recurrent_Layer = Recurrent_Layer(lq=self.lq, ns=self.ns, lg=self.lg)\n",
    "\n",
    "    def call(self, inputs, idf):\n",
    "        x = self.conv_stack(inputs)\n",
    "        x = self.dim_wise_max_pooling(x)\n",
    "        x = self.row_wise_max_pooling(x)\n",
    "        x = self.idf_concat(x, idf)\n",
    "        x = self.recurrent_Layer(x)\n",
    "        return x"
   ]
  },
  {
   "cell_type": "code",
   "execution_count": 8,
   "metadata": {
    "ExecuteTime": {
     "end_time": "2020-08-02T09:46:33.354584Z",
     "start_time": "2020-08-02T09:46:33.343590Z"
    }
   },
   "outputs": [],
   "source": [
    "class Pairwise_PACRR(tf.keras.Model):\n",
    "    def __init__(self, lq, lg, nf, ns):\n",
    "        super(Pairwise_PACRR, self).__init__(name='Pairwise_PACRR')\n",
    "        self.Pacrr = PACRR(lq, lg, nf, ns)\n",
    "        \n",
    "    def call(self, inputs):\n",
    "        positive_sim = inputs['positive_sim_matrix']\n",
    "        negative_sim = inputs['negative_sim_matrix']\n",
    "        idf = inputs['idf_softmax']\n",
    "        \n",
    "        positive = self.Pacrr(positive_sim, idf)\n",
    "        negative = self.Pacrr(negative_sim, idf)\n",
    "        \n",
    "        return tf.concat([positive, negative], axis=0) "
   ]
  },
  {
   "cell_type": "code",
   "execution_count": 14,
   "metadata": {},
   "outputs": [],
   "source": [
    "# # bert\n",
    "# test = pd.read_csv('./data/paccr_drmm_bert_test_all.csv', converters={\"query_idf\": literal_eval,\n",
    "#                                                                       \"idf_softmax\": literal_eval,\n",
    "#                                                                       \"sim_matrix\": literal_eval,\n",
    "#                                                                       \"query_token\": literal_eval,\n",
    "#                                                                       \"product_title_token\": literal_eval,\n",
    "#                                                                       \"token_ids\": literal_eval,\n",
    "#                                                                       \"drmm_hist\": literal_eval,\n",
    "#                                                                       'token': literal_eval})\n",
    "\n",
    "# test['binary_relevance'] = test['median_relevance'].apply(lambda x: 0 if x <= 2 else 1)\n",
    "\n",
    "# df = generate_pairwise_dataset(test)\n",
    "# df.reset_index(inplace=True, drop=True)\n",
    "\n",
    "# dev_q = set(random.sample(list(df['query'].unique()), 45))\n",
    "# train_q = set(df['query'].unique()) - dev_q\n",
    "\n",
    "# train = pd.concat([df.groupby('query').get_group(name) for name in train_q]).sample(frac=1).reset_index(drop=True)\n",
    "# dev = pd.concat([df.groupby('query').get_group(name) for name in dev_q]).sample(frac=1).reset_index(drop=True)\n",
    "\n",
    "# metadata = {'negative_sim_matrix': tf.constant(train['sim_matrix_N'].tolist(), dtype=tf.float32), \n",
    "#             'positive_sim_matrix': tf.constant(train['sim_matrix_P'].tolist(), dtype=tf.float32),\n",
    "#             'idf_softmax': tf.constant(train['idf_softmax'].tolist(), dtype=tf.float32)}\n",
    "\n",
    "# metadata_dev ={'negative_sim_matrix': tf.constant(dev['sim_matrix_N'].tolist(), dtype=tf.float32), \n",
    "#             'positive_sim_matrix': tf.constant(dev['sim_matrix_P'].tolist(), dtype=tf.float32),\n",
    "#             'idf_softmax': tf.constant(dev['idf_softmax'].tolist(), dtype=tf.float32)}\n",
    "\n",
    "# firstk = 13\n",
    "# lq = 8"
   ]
  },
  {
   "cell_type": "code",
   "execution_count": 43,
   "metadata": {},
   "outputs": [],
   "source": [
    "# word2vec\n",
    "df = pd.read_csv('./data/paccr_drmm_.csv', converters={\"negative_sim_matrix\": literal_eval,\n",
    "                                                      \"positive_sim_matrix\": literal_eval,\n",
    "                                                      \"idf_softmax\": literal_eval})\n",
    "df = df[['query_preprocessed', 'negative_sim_matrix', 'positive_sim_matrix', 'idf_softmax']]\n",
    "\n",
    "test = pd.read_csv('./data/paccr_drmm_test.csv', converters={\"hist\": literal_eval,\n",
    "                                                             \"query_idf\": literal_eval,\n",
    "                                                             \"sim_matrix\": literal_eval,\n",
    "                                                             \"idf_softmax\": literal_eval})\n",
    "\n",
    "dev_q = set(random.sample(list(df['query_preprocessed'].unique()), 45))\n",
    "train_q = set(df['query_preprocessed'].unique()) - dev_q\n",
    "\n",
    "train = pd.concat([df.groupby('query_preprocessed').get_group(name) for name in train_q]).sample(frac=1).reset_index(drop=True)\n",
    "dev = pd.concat([df.groupby('query_preprocessed').get_group(name) for name in dev_q]).sample(frac=1).reset_index(drop=True)\n",
    "\n",
    "metadata = {'negative_sim_matrix': tf.constant(train['negative_sim_matrix'].tolist(), dtype=tf.float32), \n",
    "            'positive_sim_matrix': tf.constant(train['positive_sim_matrix'].tolist(), dtype=tf.float32),\n",
    "            'idf_softmax': tf.constant(train['idf_softmax'].tolist(), dtype=tf.float32)}\n",
    "\n",
    "metadata_dev ={'negative_sim_matrix': tf.constant(dev['negative_sim_matrix'].tolist(), dtype=tf.float32), \n",
    "            'positive_sim_matrix': tf.constant(dev['positive_sim_matrix'].tolist(), dtype=tf.float32),\n",
    "            'idf_softmax': tf.constant(dev['idf_softmax'].tolist(), dtype=tf.float32)}\n",
    "\n",
    "firstk = 8\n",
    "lq = 6"
   ]
  },
  {
   "cell_type": "code",
   "execution_count": 22,
   "metadata": {},
   "outputs": [],
   "source": [
    "ds = tf.data.Dataset.from_tensor_slices(metadata)\n",
    "ds = ds.shuffle(buffer_size=len(train))\n",
    "batchs = 128\n",
    "ds = ds.batch(batchs).repeat()\n",
    "example_batch = next(iter(ds))\n",
    "\n",
    "lg = 5\n",
    "nf = 32\n",
    "ns = 2"
   ]
  },
  {
   "cell_type": "code",
   "execution_count": 24,
   "metadata": {},
   "outputs": [
    {
     "data": {
      "text/plain": [
       "<tf.Tensor: shape=(), dtype=float32, numpy=1.0013853>"
      ]
     },
     "execution_count": 24,
     "metadata": {},
     "output_type": "execute_result"
    }
   ],
   "source": [
    "print_step = 100\n",
    "n = 20\n",
    "learning_rate = .1\n",
    "lg = 5\n",
    "nf = 32\n",
    "ns = 2\n",
    "\n",
    "tf.keras.backend.clear_session()\n",
    "model = Pairwise_PACRR(lq, lg, nf, ns)\n",
    "optimizer = tf.keras.optimizers.Adagrad(learning_rate=learning_rate)\n",
    "\n",
    "Pairwise_ranking_loss(y_true=None, y_pred=model(example_batch))"
   ]
  },
  {
   "cell_type": "code",
   "execution_count": null,
   "metadata": {},
   "outputs": [
    {
     "name": "stdout",
     "output_type": "stream",
     "text": [
      "Training loss at step 0: 1.00037, dev_loss : 0.99966, nDCG@20 : 0.72494, mAP : 0.74735\n",
      "Seen so far: 128 train samples, learning rate: 0.1000\n",
      "Training loss at step 10: 0.99910, dev_loss : 0.99652, nDCG@20 : 0.81998, mAP : 0.83156\n",
      "Seen so far: 1408 train samples, learning rate: 0.1000\n",
      "Training loss at step 20: 0.99780, dev_loss : 0.99472, nDCG@20 : 0.83444, mAP : 0.85025\n",
      "Seen so far: 2688 train samples, learning rate: 0.1000\n",
      "Training loss at step 30: 0.99588, dev_loss : 0.99306, nDCG@20 : 0.84093, mAP : 0.85466\n",
      "Seen so far: 3968 train samples, learning rate: 0.1000\n",
      "Training loss at step 40: 0.99469, dev_loss : 0.99096, nDCG@20 : 0.84528, mAP : 0.85829\n",
      "Seen so far: 5248 train samples, learning rate: 0.1000\n",
      "Training loss at step 50: 0.99422, dev_loss : 0.98874, nDCG@20 : 0.84515, mAP : 0.85905\n",
      "Seen so far: 6528 train samples, learning rate: 0.1000\n",
      "Training loss at step 60: 0.99127, dev_loss : 0.98547, nDCG@20 : 0.83814, mAP : 0.85458\n",
      "Seen so far: 7808 train samples, learning rate: 0.1000\n",
      "Training loss at step 70: 0.99060, dev_loss : 0.98132, nDCG@20 : 0.83863, mAP : 0.85639\n",
      "Seen so far: 9088 train samples, learning rate: 0.1000\n",
      "Training loss at step 80: 0.98386, dev_loss : 0.97278, nDCG@20 : 0.83952, mAP : 0.85633\n",
      "Seen so far: 10368 train samples, learning rate: 0.1000\n",
      "Training loss at step 90: 0.97751, dev_loss : 0.95070, nDCG@20 : 0.85505, mAP : 0.86498\n",
      "Seen so far: 11648 train samples, learning rate: 0.1000\n",
      "Training loss at step 100: 0.95251, dev_loss : 0.90472, nDCG@20 : 0.84895, mAP : 0.86308\n",
      "Seen so far: 12928 train samples, learning rate: 0.1000\n",
      "Training loss at step 110: 0.93238, dev_loss : 0.84957, nDCG@20 : 0.84887, mAP : 0.85483\n",
      "Seen so far: 14208 train samples, learning rate: 0.1000\n",
      "Training loss at step 120: 0.89288, dev_loss : 0.86830, nDCG@20 : 0.84841, mAP : 0.85192\n",
      "Seen so far: 15488 train samples, learning rate: 0.1000\n",
      "Training loss at step 130: 0.91121, dev_loss : 0.77970, nDCG@20 : 0.84374, mAP : 0.85178\n",
      "Seen so far: 16768 train samples, learning rate: 0.1000\n",
      "Training loss at step 140: 0.85236, dev_loss : 0.76036, nDCG@20 : 0.84773, mAP : 0.85325\n",
      "Seen so far: 18048 train samples, learning rate: 0.1000\n",
      "Training loss at step 150: 0.84739, dev_loss : 0.75095, nDCG@20 : 0.84717, mAP : 0.85258\n",
      "Seen so far: 19328 train samples, learning rate: 0.1000\n",
      "Training loss at step 160: 0.84969, dev_loss : 0.78367, nDCG@20 : 0.84133, mAP : 0.85363\n",
      "Seen so far: 20608 train samples, learning rate: 0.1000\n",
      "Training loss at step 170: 0.80954, dev_loss : 0.73629, nDCG@20 : 0.84724, mAP : 0.85344\n",
      "Seen so far: 21888 train samples, learning rate: 0.1000\n",
      "Training loss at step 180: 0.84412, dev_loss : 0.74577, nDCG@20 : 0.84139, mAP : 0.85207\n",
      "Seen so far: 23168 train samples, learning rate: 0.1000\n",
      "Training loss at step 190: 0.84056, dev_loss : 0.75570, nDCG@20 : 0.84336, mAP : 0.85037\n",
      "Seen so far: 24448 train samples, learning rate: 0.1000\n",
      "Training loss at step 200: 0.82130, dev_loss : 0.76141, nDCG@20 : 0.85792, mAP : 0.86296\n",
      "Seen so far: 25728 train samples, learning rate: 0.1000\n",
      "Training loss at step 210: 0.79999, dev_loss : 0.74622, nDCG@20 : 0.85631, mAP : 0.85963\n",
      "Seen so far: 27008 train samples, learning rate: 0.1000\n",
      "Training loss at step 220: 0.81671, dev_loss : 0.73331, nDCG@20 : 0.85129, mAP : 0.85665\n",
      "Seen so far: 28288 train samples, learning rate: 0.1000\n",
      "Training loss at step 230: 0.83412, dev_loss : 0.75024, nDCG@20 : 0.85589, mAP : 0.86067\n",
      "Seen so far: 29568 train samples, learning rate: 0.1000\n",
      "Training loss at step 240: 0.78125, dev_loss : 0.73279, nDCG@20 : 0.85000, mAP : 0.85646\n",
      "Seen so far: 30848 train samples, learning rate: 0.1000\n",
      "Training loss at step 250: 0.80678, dev_loss : 0.73537, nDCG@20 : 0.85936, mAP : 0.86251\n",
      "Seen so far: 32128 train samples, learning rate: 0.1000\n",
      "Training loss at step 260: 0.81557, dev_loss : 0.73878, nDCG@20 : 0.85035, mAP : 0.85716\n",
      "Seen so far: 33408 train samples, learning rate: 0.1000\n",
      "Training loss at step 270: 0.83168, dev_loss : 0.73161, nDCG@20 : 0.85792, mAP : 0.86154\n",
      "Seen so far: 34688 train samples, learning rate: 0.1000\n"
     ]
    }
   ],
   "source": [
    "loss_sum = 0\n",
    "ndcg_sum = 0\n",
    "mAP_sum = 0\n",
    "\n",
    "step_history = []\n",
    "loss_history = []\n",
    "loss_history_dev = []\n",
    "ndcg_history = []\n",
    "mAP_history = []\n",
    "\n",
    "for step, batch_train in enumerate(ds):\n",
    "    \n",
    "    with tf.GradientTape() as tape:\n",
    "        logits = model(batch_train)\n",
    "        loss_value = Pairwise_ranking_loss(y_true=None, y_pred=logits)\n",
    "        loss_sum += loss_value \n",
    "        \n",
    "    grads = tape.gradient(loss_value, model.trainable_weights)\n",
    "    optimizer.apply_gradients(zip(grads, model.trainable_weights))\n",
    "\n",
    "    if step % print_step == 0:\n",
    "        current_loss_average = float(loss_sum)/print_step\n",
    "        if step ==0:\n",
    "            current_loss_average = loss_sum\n",
    "\n",
    "        logits_dev = model(metadata_dev)\n",
    "        current_loss_average_dev = Pairwise_ranking_loss(y_true=None, y_pred=logits_dev)\n",
    "        \n",
    "        for q in dev_q:\n",
    "#             ndcg_test = test[test['query_preprocessed'] == q]\n",
    "            ndcg_test = test[test['query'] == q]\n",
    "            metadata_ndcg = {'sim_matrix': tf.constant(ndcg_test['sim_matrix'].tolist(), dtype=tf.float32), \n",
    "                             'idf_softmax': tf.constant(ndcg_test['idf_softmax'].tolist(), dtype=tf.float32)}\n",
    "            \n",
    "            ndcg_test['rel'] = model.predict(metadata_ndcg).numpy()\n",
    "            ndcg_sum += ndcg(list(ndcg_test.sort_values(by=['rel'], axis=0, ascending=False)['median_relevance']-1), p=n, form=\"exp\")\n",
    "            mAP_sum += mAP_score(list(ndcg_test.sort_values(by=['rel'], axis=0, ascending=False)['binary_relevance']))\n",
    "            \n",
    "        current_ndcg_average = ndcg_sum/len(dev_q)\n",
    "        current_mAP_average = mAP_sum/len(dev_q)\n",
    "        \n",
    "        step_history.append(step)\n",
    "        loss_history.append(current_loss_average)\n",
    "        loss_history_dev.append(current_loss_average_dev)\n",
    "        ndcg_history.append(current_ndcg_average)\n",
    "        mAP_history.append(current_mAP_average)\n",
    "        \n",
    "        print(\"Training loss at step %d: %.5f, dev_loss : %.5f, nDCG@20 : %.5f, mAP : %.5f\"% (step, \n",
    "                                                                                              current_loss_average, \n",
    "                                                                                              current_loss_average_dev,\n",
    "                                                                                              current_ndcg_average,\n",
    "                                                                                              current_mAP_average))\n",
    "        \n",
    "        print(\"Seen so far: %s train samples, learning rate: %.4f\" % ((step + 1) * batchs, learning_rate))\n",
    "        ndcg_sum = 0\n",
    "        loss_sum = 0\n",
    "        mAP_sum = 0\n",
    "        \n",
    "    if step == 600:\n",
    "        break"
   ]
  },
  {
   "cell_type": "code",
   "execution_count": 416,
   "metadata": {},
   "outputs": [
    {
     "data": {
      "image/png": "[encoded data removed]",
      "text/plain": [
       "<Figure size 720x360 with 2 Axes>"
      ]
     },
     "metadata": {
      "needs_background": "light"
     },
     "output_type": "display_data"
    }
   ],
   "source": [
    "fig, ax1 = plt.subplots(figsize=(10,5))\n",
    "\n",
    "color = 'tab:red'\n",
    "ax1.set_xlabel('step')\n",
    "ax1.set_ylabel('loss')\n",
    "ax1.plot(step_history, loss_history, color='r', label='train loss')\n",
    "ax1.plot(step_history, loss_history_dev, color='g', label='dev loss')\n",
    "# ax1.set_ylim(0.8, 1.1)\n",
    "ax1.legend(loc=2)\n",
    "\n",
    "\n",
    "ax2 = ax1.twinx() \n",
    "\n",
    "ax2.set_ylabel('nDCG@20')  \n",
    "ax2.plot(step_history, ndcg_history, color='b', label='nDCG@20')\n",
    "ax2.plot(step_history, mAP_history, color='purple', label='mAP')\n",
    "\n",
    "ax2.legend(loc=1)\n",
    "plt.show()"
   ]
  }
 ],
 "metadata": {
  "kernelspec": {
   "display_name": "Python 3",
   "language": "python",
   "name": "python3"
  },
  "language_info": {
   "codemirror_mode": {
    "name": "ipython",
    "version": 3
   },
   "file_extension": ".py",
   "mimetype": "text/x-python",
   "name": "python",
   "nbconvert_exporter": "python",
   "pygments_lexer": "ipython3",
   "version": "3.7.6"
  },
  "toc": {
   "base_numbering": 1,
   "nav_menu": {},
   "number_sections": true,
   "sideBar": true,
   "skip_h1_title": false,
   "title_cell": "Table of Contents",
   "title_sidebar": "Contents",
   "toc_cell": false,
   "toc_position": {},
   "toc_section_display": true,
   "toc_window_display": false
  },
  "varInspector": {
   "cols": {
    "lenName": 16,
    "lenType": 16,
    "lenVar": 40
   },
   "kernels_config": {
    "python": {
     "delete_cmd_postfix": "",
     "delete_cmd_prefix": "del ",
     "library": "var_list.py",
     "varRefreshCmd": "print(var_dic_list())"
    },
    "r": {
     "delete_cmd_postfix": ") ",
     "delete_cmd_prefix": "rm(",
     "library": "var_list.r",
     "varRefreshCmd": "cat(var_dic_list()) "
    }
   },
   "oldHeight": 408,
   "position": {
    "height": "40px",
    "left": "876px",
    "right": "20px",
    "top": "3px",
    "width": "472px"
   },
   "types_to_exclude": [
    "module",
    "function",
    "builtin_function_or_method",
    "instance",
    "_Feature"
   ],
   "varInspector_section_display": "none",
   "window_display": true
  }
 },
 "nbformat": 4,
 "nbformat_minor": 4
}
