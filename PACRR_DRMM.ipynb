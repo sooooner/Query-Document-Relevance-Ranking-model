{
 "cells": [
  {
   "cell_type": "code",
   "execution_count": 33,
   "metadata": {
    "ExecuteTime": {
     "end_time": "2020-08-02T09:42:56.881901Z",
     "start_time": "2020-08-02T09:42:46.739708Z"
    }
   },
   "outputs": [
    {
     "data": {
      "text/html": [
       "<style>.container { width:90% !important; }</style>"
      ],
      "text/plain": [
       "<IPython.core.display.HTML object>"
      ]
     },
     "metadata": {},
     "output_type": "display_data"
    }
   ],
   "source": [
    "import time\n",
    "import datetime\n",
    "import numpy as np\n",
    "import pandas as pd\n",
    "import tensorflow as tf\n",
    "from ast import literal_eval\n",
    "import random\n",
    "import matplotlib.pyplot as plt\n",
    "pd.options.mode.chained_assignment = None\n",
    "from IPython.core.display import display, HTML\n",
    "display(HTML(\"<style>.container { width:90% !important; }</style>\"))\n",
    "pd.set_option('display.max_columns', 100)\n",
    "pd.set_option('display.max_colwidth', 9999)\n",
    "pd.set_option('display.max_rows', 50)\n",
    "%matplotlib inline"
   ]
  },
  {
   "cell_type": "code",
   "execution_count": 5,
   "metadata": {
    "ExecuteTime": {
     "end_time": "2020-08-02T09:46:22.698681Z",
     "start_time": "2020-08-02T09:42:56.885900Z"
    }
   },
   "outputs": [],
   "source": [
    "df = pd.read_csv('./data/paccr_drmm_.csv', converters={\"negative_sim_matrix\": literal_eval,\n",
    "                                                        \"positive_sim_matrix\": literal_eval,\n",
    "                                                        \"idf_softmax\": literal_eval})\n",
    "df = df[['query_preprocessed', 'negative_sim_matrix', 'positive_sim_matrix', 'idf_softmax']]"
   ]
  },
  {
   "cell_type": "code",
   "execution_count": 6,
   "metadata": {
    "ExecuteTime": {
     "end_time": "2020-08-02T09:46:22.862589Z",
     "start_time": "2020-08-02T09:46:22.702680Z"
    }
   },
   "outputs": [],
   "source": [
    "train_q = set(random.sample(list(df['query_preprocessed'].unique()), int(len(df['query_preprocessed'].unique()) * 0.9)))\n",
    "dev_q = set(df['query_preprocessed'].unique()) - train_q"
   ]
  },
  {
   "cell_type": "code",
   "execution_count": 7,
   "metadata": {
    "ExecuteTime": {
     "end_time": "2020-08-02T09:46:37.296328Z",
     "start_time": "2020-08-02T09:46:22.865587Z"
    }
   },
   "outputs": [],
   "source": [
    "train = pd.concat([df.groupby('query_preprocessed').get_group(name) for name in train_q])\n",
    "dev = pd.concat([df.groupby('query_preprocessed').get_group(name) for name in dev_q])"
   ]
  },
  {
   "cell_type": "code",
   "execution_count": 8,
   "metadata": {
    "ExecuteTime": {
     "end_time": "2020-08-02T09:46:37.803038Z",
     "start_time": "2020-08-02T09:46:37.299329Z"
    }
   },
   "outputs": [],
   "source": [
    "# df shuffle \n",
    "train = train.sample(frac=1).reset_index(drop=True)\n",
    "dev = dev.sample(frac=1).reset_index(drop=True)"
   ]
  },
  {
   "cell_type": "code",
   "execution_count": 9,
   "metadata": {
    "ExecuteTime": {
     "end_time": "2020-08-02T09:46:37.818030Z",
     "start_time": "2020-08-02T09:46:37.807036Z"
    }
   },
   "outputs": [],
   "source": [
    "metadata = {'negative_sim_matrix': train['negative_sim_matrix'].values, \n",
    "            'positive_sim_matrix': train['positive_sim_matrix'].values,\n",
    "            'idf_softmax': train['idf_softmax'].values}"
   ]
  },
  {
   "cell_type": "code",
   "execution_count": 10,
   "metadata": {
    "ExecuteTime": {
     "end_time": "2020-08-02T09:46:37.835020Z",
     "start_time": "2020-08-02T09:46:37.825024Z"
    }
   },
   "outputs": [],
   "source": [
    "metadata_dev = {'negative_sim_matrix': dev['negative_sim_matrix'].values, \n",
    "                'positive_sim_matrix': dev['positive_sim_matrix'].values,\n",
    "                'idf_softmax': dev['idf_softmax'].values}  "
   ]
  },
  {
   "cell_type": "code",
   "execution_count": 11,
   "metadata": {
    "ExecuteTime": {
     "end_time": "2020-08-02T09:57:20.264312Z",
     "start_time": "2020-08-02T09:57:20.255312Z"
    }
   },
   "outputs": [],
   "source": [
    "num_samples = len(train)\n",
    "num_samples_dev = len(dev)\n",
    "#PACCR Hyperparameter\n",
    "firstk = 8\n",
    "lq = 6\n",
    "lg = 5\n",
    "nf = 32\n",
    "ns = 2"
   ]
  },
  {
   "cell_type": "code",
   "execution_count": 12,
   "metadata": {
    "ExecuteTime": {
     "end_time": "2020-08-02T09:57:27.092400Z",
     "start_time": "2020-08-02T09:57:21.935351Z"
    }
   },
   "outputs": [],
   "source": [
    "dev_set = {}\n",
    "for key, val in metadata_dev.items():\n",
    "    dev_set[key] = tf.stack([val[j] for j in range(num_samples_dev)], axis=0)"
   ]
  },
  {
   "cell_type": "code",
   "execution_count": 13,
   "metadata": {
    "ExecuteTime": {
     "end_time": "2020-08-02T10:31:21.189383Z",
     "start_time": "2020-08-02T10:31:21.145411Z"
    }
   },
   "outputs": [],
   "source": [
    "batchs = 128\n",
    "def meta_dict_gen():\n",
    "    for i in range(num_samples//batchs):\n",
    "        ls = {}\n",
    "        for key, val in metadata.items():\n",
    "            ls[key] = tf.stack([val[j] for j in range(batchs*i, batchs*(i+1))], axis=0)\n",
    "        yield ls"
   ]
  },
  {
   "cell_type": "code",
   "execution_count": 14,
   "metadata": {
    "ExecuteTime": {
     "end_time": "2020-08-02T10:31:23.199232Z",
     "start_time": "2020-08-02T10:31:23.028330Z"
    }
   },
   "outputs": [],
   "source": [
    "dataset = tf.data.Dataset.from_generator(\n",
    "    meta_dict_gen,\n",
    "    output_types={k: tf.float32 for k in metadata},\n",
    "    output_shapes={'negative_sim_matrix': (batchs, lq, firstk), 'positive_sim_matrix': (batchs, lq, firstk), 'idf_softmax': (batchs, lq)}\n",
    ")"
   ]
  },
  {
   "cell_type": "code",
   "execution_count": 15,
   "metadata": {
    "ExecuteTime": {
     "end_time": "2020-08-02T10:20:57.074358Z",
     "start_time": "2020-08-02T10:20:56.832500Z"
    }
   },
   "outputs": [],
   "source": [
    "iterator = iter(dataset)\n",
    "next_element = iterator.get_next()"
   ]
  },
  {
   "cell_type": "code",
   "execution_count": 16,
   "metadata": {
    "ExecuteTime": {
     "end_time": "2020-08-02T09:57:36.416063Z",
     "start_time": "2020-08-02T09:57:36.262151Z"
    }
   },
   "outputs": [],
   "source": [
    "del df, train, dev"
   ]
  },
  {
   "cell_type": "code",
   "execution_count": 17,
   "metadata": {
    "ExecuteTime": {
     "end_time": "2020-08-02T09:57:36.466034Z",
     "start_time": "2020-08-02T09:57:36.420060Z"
    }
   },
   "outputs": [],
   "source": [
    "class Conv_stack(tf.keras.layers.Layer):\n",
    "    def __init__(self, lg, nf):\n",
    "        super(Conv_stack, self).__init__(name='ConV_stack')\n",
    "        self.lg = lg\n",
    "        self.nf = nf\n",
    "        self.conv_dict = {}\n",
    "        for i in range(2, self.lg+1):\n",
    "            self.conv_dict[i] = tf.keras.layers.Conv2D(self.nf, i, strides=(1, 1), padding='same')\n",
    "\n",
    "    def call(self, inputs):\n",
    "        inputs = tf.expand_dims(inputs, axis=-1)\n",
    "        x_1 = inputs\n",
    "        x = {}\n",
    "        for i in range(2, self.lg+1):\n",
    "            x[i] = self.conv_dict[i](inputs)\n",
    "        return tf.keras.layers.concatenate([x_1] + [x[k] for k in x]) "
   ]
  },
  {
   "cell_type": "code",
   "execution_count": 18,
   "metadata": {
    "ExecuteTime": {
     "end_time": "2020-08-02T09:57:36.746874Z",
     "start_time": "2020-08-02T09:57:36.732882Z"
    }
   },
   "outputs": [],
   "source": [
    "class Dim_wise_max_pooling(tf.keras.layers.Layer):\n",
    "    def __init__(self, lg, nf):\n",
    "        super(Dim_wise_max_pooling, self).__init__(name='dim_wise_max_pooling')\n",
    "        self.lg = lg\n",
    "        self.nf = nf\n",
    "        \n",
    "    def call(self, inputs):\n",
    "        channel_range = [self.nf*i+1 for i in range(self.lg)]\n",
    "        x_1 = inputs[:, :, :, 0]\n",
    "        x = {}\n",
    "        for i in range(2, self.lg+1):\n",
    "            x[i] = tf.reduce_max(inputs[:, :, :, channel_range[i-2]:channel_range[i-1]], axis=-1)\n",
    "            \n",
    "        return tf.keras.layers.concatenate([x_1] + [x[k] for k in x])"
   ]
  },
  {
   "cell_type": "code",
   "execution_count": 19,
   "metadata": {
    "ExecuteTime": {
     "end_time": "2020-08-02T09:57:38.354955Z",
     "start_time": "2020-08-02T09:57:38.306980Z"
    }
   },
   "outputs": [],
   "source": [
    "class Row_wise_max_pooling(tf.keras.layers.Layer):\n",
    "    def __init__(self, ns, lg, firstk):\n",
    "        super(Row_wise_max_pooling, self).__init__(name='row_wise_max_pooling')\n",
    "        self.ns = ns\n",
    "        self.lg = lg\n",
    "        self.firstk = firstk\n",
    "        \n",
    "    def call(self, inputs):\n",
    "        x = {}\n",
    "        for i in range(1, self.lg+1):\n",
    "            x[i] = tf.math.top_k(inputs[:, :, self.firstk*(i-1):self.firstk*i], k=self.ns)[0]\n",
    "            \n",
    "        return tf.keras.layers.concatenate([x[k] for k in x])"
   ]
  },
  {
   "cell_type": "code",
   "execution_count": 20,
   "metadata": {
    "ExecuteTime": {
     "end_time": "2020-08-02T09:57:38.945614Z",
     "start_time": "2020-08-02T09:57:38.911635Z"
    }
   },
   "outputs": [],
   "source": [
    "class Idf_concat(tf.keras.layers.Layer):\n",
    "    def __init__(self):\n",
    "        super(Idf_concat, self).__init__(name='idf_concat')\n",
    "        \n",
    "    def call(self, inputs, idf):\n",
    "        expand_idf = tf.expand_dims(idf, axis=-1)\n",
    "        return tf.keras.layers.concatenate([inputs, expand_idf])"
   ]
  },
  {
   "cell_type": "code",
   "execution_count": 21,
   "metadata": {
    "ExecuteTime": {
     "end_time": "2020-08-02T09:57:38.977597Z",
     "start_time": "2020-08-02T09:57:38.957608Z"
    }
   },
   "outputs": [],
   "source": [
    "class PACCR(tf.keras.Model):\n",
    "    def __init__(self, firstk, lq, lg, nf, ns):\n",
    "        super(PACCR, self).__init__(name='')\n",
    "        self.firstk = firstk\n",
    "        self.lq = lq\n",
    "        self.lg = lg\n",
    "        self.nf = nf\n",
    "        self.ns = ns\n",
    "        \n",
    "        self.conv_stack = Conv_stack(lg=self.lg, nf=self.nf)\n",
    "        self.dim_wise_max_pooling = Dim_wise_max_pooling(lg=self.lg, nf=self.nf)\n",
    "        self.row_wise_max_pooling = Row_wise_max_pooling(lg=self.lg, ns=self.ns, firstk=self.firstk)\n",
    "        self.idf_concat = Idf_concat()\n",
    "\n",
    "    def call(self, inputs, idf):\n",
    "        x = self.conv_stack(inputs)\n",
    "        x = self.dim_wise_max_pooling(x)\n",
    "        x = self.row_wise_max_pooling(x)\n",
    "        x = self.idf_concat(x, idf)\n",
    "        return x"
   ]
  },
  {
   "cell_type": "code",
   "execution_count": 22,
   "metadata": {
    "ExecuteTime": {
     "end_time": "2020-08-02T09:59:17.865996Z",
     "start_time": "2020-08-02T09:59:17.850003Z"
    }
   },
   "outputs": [],
   "source": [
    "class DRMM(tf.keras.Model):\n",
    "    def __init__(self):\n",
    "        super(DRMM, self).__init__(name='DRMM')\n",
    "        initializer = tf.keras.initializers.he_normal()\n",
    "        self.dense1 = tf.keras.layers.Dense(5, activation='relu', kernel_initializer=initializer)\n",
    "        self.dense2 = tf.keras.layers.Dense(1, activation='relu', kernel_initializer=initializer)\n",
    "        self.dense3 = tf.keras.layers.Dense(1, activation='relu', kernel_initializer=initializer)\n",
    "\n",
    "    def call(self, inputs):\n",
    "        x = self.dense1(inputs)\n",
    "        x = self.dense2(x)\n",
    "        x = tf.squeeze(x)\n",
    "        x = self.dense3(x)\n",
    "        \n",
    "        return x"
   ]
  },
  {
   "cell_type": "code",
   "execution_count": 23,
   "metadata": {
    "ExecuteTime": {
     "end_time": "2020-08-02T09:59:18.955373Z",
     "start_time": "2020-08-02T09:59:18.942380Z"
    }
   },
   "outputs": [],
   "source": [
    "class PACCR_DRMM(tf.keras.Model):\n",
    "    def __init__(self, firstk, lq, lg, nf, ns):\n",
    "        super(PACCR_DRMM, self).__init__(name='')\n",
    "        self.firstk = firstk\n",
    "        self.lq = lq\n",
    "        self.lg = lg\n",
    "        self.nf = nf\n",
    "        self.ns = ns\n",
    "        \n",
    "        self.paccr = PACCR(firstk=self.firstk, lq=self.lq, lg=self.lg, nf=self.nf, ns=self.ns)\n",
    "        self.drmm = DRMM()\n",
    "        \n",
    "    def call(self, inputs, idf):\n",
    "        x = self.paccr(inputs, idf)\n",
    "        x = self.drmm(x)\n",
    "        return x"
   ]
  },
  {
   "cell_type": "code",
   "execution_count": 24,
   "metadata": {
    "ExecuteTime": {
     "end_time": "2020-08-02T09:59:19.676959Z",
     "start_time": "2020-08-02T09:59:19.663967Z"
    }
   },
   "outputs": [],
   "source": [
    "class Pairwise_PACCR_DRMM(tf.keras.Model):\n",
    "    def __init__(self, firstk, lq, lg, nf, ns):\n",
    "        super(Pairwise_PACCR_DRMM, self).__init__(name='Pairwise_PACCR_DRMM')\n",
    "        self.Paccr_Drmm = PACCR_DRMM(firstk, lq, lg, nf, ns)\n",
    "        \n",
    "    def call(self, inputs):\n",
    "        positive_sim = inputs['positive_sim_matrix']\n",
    "        negative_sim = inputs['negative_sim_matrix']\n",
    "        idf_softmax = inputs['idf_softmax']\n",
    "        \n",
    "        positive = self.Paccr_Drmm(positive_sim, idf_softmax)\n",
    "        negative = self.Paccr_Drmm(negative_sim, idf_softmax)\n",
    "        \n",
    "        return tf.concat([positive, negative], axis=0) \n",
    "    \n",
    "    def predict(self, inputs):\n",
    "        sim_matrix = inputs['sim_matrix']\n",
    "        idf_softmax = inputs['idf_softmax']\n",
    "        rel = self.Paccr_Drmm(sim_matrix, idf_softmax)\n",
    "        return rel"
   ]
  },
  {
   "cell_type": "code",
   "execution_count": 25,
   "metadata": {
    "ExecuteTime": {
     "end_time": "2020-08-02T09:59:21.101143Z",
     "start_time": "2020-08-02T09:59:21.090150Z"
    }
   },
   "outputs": [],
   "source": [
    "def Pairwise_ranking_loss(y_true, y_pred):\n",
    "    '''\n",
    "    ignore y_true\n",
    "    '''\n",
    "    positive_score = tf.keras.layers.Lambda(lambda x: x[:len(x)//2], output_shape= (1,))(y_pred)\n",
    "    negative_score = tf.keras.layers.Lambda(lambda x: x[len(x)//2:], output_shape= (1,))(y_pred)\n",
    "\n",
    "    return tf.keras.backend.mean(tf.math.maximum(0, 1 - positive_score + negative_score))"
   ]
  },
  {
   "cell_type": "code",
   "execution_count": 26,
   "metadata": {},
   "outputs": [],
   "source": [
    "test = pd.read_csv('./data/paccr_drmm_test.csv', converters={\"sim_matrix\": literal_eval,\n",
    "                                                             \"idf_softmax\": literal_eval})"
   ]
  },
  {
   "cell_type": "code",
   "execution_count": 27,
   "metadata": {},
   "outputs": [],
   "source": [
    "def ndcg(rel_pred, p=None, form=\"linear\"):\n",
    "    if p==None:\n",
    "        p = len(rel_pred)\n",
    "    if p > len(rel_pred):\n",
    "        rel_pred = np.append(rel_pred, [0]*(p - len(rel_pred)))\n",
    "    \n",
    "    rel_true = np.sort(rel_pred)[::-1]\n",
    "    discount = 1 / (np.log2(np.arange(p) + 2))\n",
    "\n",
    "    if form == \"linear\":\n",
    "        idcg = np.sum(rel_true[:p] * discount)\n",
    "        dcg = np.sum(rel_pred[:p] * discount)\n",
    "    elif form == \"exponential\" or form == \"exp\":\n",
    "        idcg = np.sum([2**x - 1 for x in rel_true[:p]] * discount)\n",
    "        dcg = np.sum([2**x - 1 for x in rel_pred[:p]] * discount)\n",
    "    else:\n",
    "        raise ValueError(\"Only supported for two formula, 'linear' or 'exp'\")\n",
    "    \n",
    "    return dcg / idcg"
   ]
  },
  {
   "cell_type": "code",
   "execution_count": 74,
   "metadata": {},
   "outputs": [],
   "source": [
    "batchs = 32\n",
    "def meta_dict_gen():\n",
    "    for i in range(num_samples//batchs):\n",
    "        ls = {}\n",
    "        for key, val in metadata.items():\n",
    "            ls[key] = tf.stack([val[j] for j in range(batchs*i, batchs*(i+1))], axis=0)\n",
    "        yield ls\n",
    "        \n",
    "dataset = tf.data.Dataset.from_generator(\n",
    "    meta_dict_gen,\n",
    "    output_types={k: tf.float32 for k in metadata},\n",
    "    output_shapes={'negative_sim_matrix': (batchs, lq, firstk), 'positive_sim_matrix': (batchs, lq, firstk), 'idf_softmax': (batchs, lq)}\n",
    ")"
   ]
  },
  {
   "cell_type": "code",
   "execution_count": 83,
   "metadata": {
    "ExecuteTime": {
     "end_time": "2020-08-02T10:55:58.291100Z",
     "start_time": "2020-08-02T10:55:58.080221Z"
    }
   },
   "outputs": [
    {
     "data": {
      "text/plain": [
       "<tf.Tensor: shape=(), dtype=float32, numpy=0.97907966>"
      ]
     },
     "execution_count": 83,
     "metadata": {},
     "output_type": "execute_result"
    }
   ],
   "source": [
    "tf.keras.backend.clear_session()\n",
    "model = Pairwise_PACCR_DRMM(firstk, lq, lg, nf, ns)\n",
    "n = 20\n",
    "learning_rate = 1\n",
    "print_step = 10\n",
    "optimizer = tf.keras.optimizers.Adagrad(learning_rate=learning_rate)\n",
    "# optimizer = tf.keras.optimizers.SGD(learning_rate=learning_rate)\n",
    "\n",
    "Pairwise_ranking_loss(y_true=None, y_pred=model(next_element))"
   ]
  },
  {
   "cell_type": "code",
   "execution_count": 84,
   "metadata": {
    "ExecuteTime": {
     "end_time": "2020-08-02T10:57:13.396457Z",
     "start_time": "2020-08-02T10:55:59.016686Z"
    }
   },
   "outputs": [
    {
     "name": "stdout",
     "output_type": "stream",
     "text": [
      "Training loss at step 0: 1.00758, dev_loss : 0.94723, nDCG@20 : 0.83979\n",
      "Seen so far: 32 train samples, learning rate: 1.0000\n",
      "Training loss at step 10: 0.85048, dev_loss : 0.70869, nDCG@20 : 0.83810\n",
      "Seen so far: 352 train samples, learning rate: 0.1000\n",
      "Training loss at step 20: 0.84516, dev_loss : 0.72975, nDCG@20 : 0.84493\n",
      "Seen so far: 672 train samples, learning rate: 0.1000\n",
      "Training loss at step 30: 0.81668, dev_loss : 0.68039, nDCG@20 : 0.84904\n",
      "Seen so far: 992 train samples, learning rate: 0.1000\n",
      "Training loss at step 40: 0.70091, dev_loss : 0.67155, nDCG@20 : 0.84809\n",
      "Seen so far: 1312 train samples, learning rate: 0.1000\n",
      "Training loss at step 50: 0.80039, dev_loss : 0.66029, nDCG@20 : 0.85074\n",
      "Seen so far: 1632 train samples, learning rate: 0.1000\n",
      "Training loss at step 60: 0.78985, dev_loss : 0.67114, nDCG@20 : 0.85760\n",
      "Seen so far: 1952 train samples, learning rate: 0.1000\n",
      "Training loss at step 70: 0.80714, dev_loss : 0.66476, nDCG@20 : 0.85073\n",
      "Seen so far: 2272 train samples, learning rate: 0.1000\n",
      "Training loss at step 80: 0.77889, dev_loss : 0.66358, nDCG@20 : 0.85608\n",
      "Seen so far: 2592 train samples, learning rate: 0.1000\n",
      "Training loss at step 90: 0.74195, dev_loss : 0.65691, nDCG@20 : 0.85516\n",
      "Seen so far: 2912 train samples, learning rate: 0.1000\n",
      "Training loss at step 100: 0.74626, dev_loss : 0.65554, nDCG@20 : 0.85478\n",
      "Seen so far: 3232 train samples, learning rate: 0.1000\n",
      "Training loss at step 110: 0.77548, dev_loss : 0.65101, nDCG@20 : 0.86126\n",
      "Seen so far: 3552 train samples, learning rate: 0.1000\n",
      "Training loss at step 120: 0.73644, dev_loss : 0.64521, nDCG@20 : 0.86212\n",
      "Seen so far: 3872 train samples, learning rate: 0.1000\n",
      "Training loss at step 130: 0.76434, dev_loss : 0.64244, nDCG@20 : 0.85947\n",
      "Seen so far: 4192 train samples, learning rate: 0.1000\n",
      "Training loss at step 140: 0.80717, dev_loss : 0.65574, nDCG@20 : 0.85412\n",
      "Seen so far: 4512 train samples, learning rate: 0.1000\n",
      "Training loss at step 150: 0.75962, dev_loss : 0.65119, nDCG@20 : 0.85637\n",
      "Seen so far: 4832 train samples, learning rate: 0.1000\n",
      "Training loss at step 160: 0.70015, dev_loss : 0.63114, nDCG@20 : 0.86449\n",
      "Seen so far: 5152 train samples, learning rate: 0.1000\n"
     ]
    },
    {
     "ename": "KeyboardInterrupt",
     "evalue": "",
     "output_type": "error",
     "traceback": [
      "\u001b[1;31m---------------------------------------------------------------------------\u001b[0m",
      "\u001b[1;31m_FallbackException\u001b[0m                        Traceback (most recent call last)",
      "\u001b[1;32m~\\anaconda3\\lib\\site-packages\\tensorflow\\python\\ops\\gen_nn_ops.py\u001b[0m in \u001b[0;36mconv2d\u001b[1;34m(input, filter, strides, padding, use_cudnn_on_gpu, explicit_paddings, data_format, dilations, name)\u001b[0m\n\u001b[0;32m    925\u001b[0m         \u001b[1;34m\"explicit_paddings\"\u001b[0m\u001b[1;33m,\u001b[0m \u001b[0mexplicit_paddings\u001b[0m\u001b[1;33m,\u001b[0m \u001b[1;34m\"data_format\"\u001b[0m\u001b[1;33m,\u001b[0m \u001b[0mdata_format\u001b[0m\u001b[1;33m,\u001b[0m\u001b[1;33m\u001b[0m\u001b[1;33m\u001b[0m\u001b[0m\n\u001b[1;32m--> 926\u001b[1;33m         \"dilations\", dilations)\n\u001b[0m\u001b[0;32m    927\u001b[0m       \u001b[1;32mreturn\u001b[0m \u001b[0m_result\u001b[0m\u001b[1;33m\u001b[0m\u001b[1;33m\u001b[0m\u001b[0m\n",
      "\u001b[1;31m_FallbackException\u001b[0m: Expecting int64_t value for attr strides, got numpy.int32",
      "\nDuring handling of the above exception, another exception occurred:\n",
      "\u001b[1;31mKeyboardInterrupt\u001b[0m                         Traceback (most recent call last)",
      "\u001b[1;32m<ipython-input-84-c6839cc3926a>\u001b[0m in \u001b[0;36m<module>\u001b[1;34m\u001b[0m\n\u001b[0;32m     33\u001b[0m             metadata_ndcg = {'sim_matrix': tf.stack([ndcg_test['sim_matrix'].values[j] for j in range(len(ndcg_test))], axis=0), \n\u001b[0;32m     34\u001b[0m                              'idf_softmax': tf.stack([ndcg_test['idf_softmax'].values[j] for j in range(len(ndcg_test))], axis=0)}  \n\u001b[1;32m---> 35\u001b[1;33m             \u001b[0mndcg_test\u001b[0m\u001b[1;33m[\u001b[0m\u001b[1;34m'rel'\u001b[0m\u001b[1;33m]\u001b[0m \u001b[1;33m=\u001b[0m \u001b[0mmodel\u001b[0m\u001b[1;33m.\u001b[0m\u001b[0mpredict\u001b[0m\u001b[1;33m(\u001b[0m\u001b[0mmetadata_ndcg\u001b[0m\u001b[1;33m)\u001b[0m\u001b[1;33m.\u001b[0m\u001b[0mnumpy\u001b[0m\u001b[1;33m(\u001b[0m\u001b[1;33m)\u001b[0m\u001b[1;33m\u001b[0m\u001b[1;33m\u001b[0m\u001b[0m\n\u001b[0m\u001b[0;32m     36\u001b[0m             \u001b[0mrel_pred\u001b[0m \u001b[1;33m=\u001b[0m \u001b[0mlist\u001b[0m\u001b[1;33m(\u001b[0m\u001b[0mndcg_test\u001b[0m\u001b[1;33m.\u001b[0m\u001b[0msort_values\u001b[0m\u001b[1;33m(\u001b[0m\u001b[0mby\u001b[0m\u001b[1;33m=\u001b[0m\u001b[1;33m[\u001b[0m\u001b[1;34m'rel'\u001b[0m\u001b[1;33m]\u001b[0m\u001b[1;33m,\u001b[0m \u001b[0maxis\u001b[0m\u001b[1;33m=\u001b[0m\u001b[1;36m0\u001b[0m\u001b[1;33m,\u001b[0m \u001b[0mascending\u001b[0m\u001b[1;33m=\u001b[0m\u001b[1;32mFalse\u001b[0m\u001b[1;33m)\u001b[0m\u001b[1;33m[\u001b[0m\u001b[1;34m'median_relevance'\u001b[0m\u001b[1;33m]\u001b[0m\u001b[1;33m-\u001b[0m\u001b[1;36m1\u001b[0m\u001b[1;33m)\u001b[0m\u001b[1;33m\u001b[0m\u001b[1;33m\u001b[0m\u001b[0m\n\u001b[0;32m     37\u001b[0m             \u001b[0mndcg_sum\u001b[0m \u001b[1;33m+=\u001b[0m \u001b[0mndcg\u001b[0m\u001b[1;33m(\u001b[0m\u001b[0mrel_pred\u001b[0m\u001b[1;33m,\u001b[0m \u001b[0mp\u001b[0m\u001b[1;33m=\u001b[0m\u001b[0mn\u001b[0m\u001b[1;33m,\u001b[0m \u001b[0mform\u001b[0m\u001b[1;33m=\u001b[0m\u001b[1;34m\"exp\"\u001b[0m\u001b[1;33m)\u001b[0m\u001b[1;33m\u001b[0m\u001b[1;33m\u001b[0m\u001b[0m\n",
      "\u001b[1;32m<ipython-input-24-8c7fbdaf94ac>\u001b[0m in \u001b[0;36mpredict\u001b[1;34m(self, inputs)\u001b[0m\n\u001b[0;32m     17\u001b[0m         \u001b[0msim_matrix\u001b[0m \u001b[1;33m=\u001b[0m \u001b[0minputs\u001b[0m\u001b[1;33m[\u001b[0m\u001b[1;34m'sim_matrix'\u001b[0m\u001b[1;33m]\u001b[0m\u001b[1;33m\u001b[0m\u001b[1;33m\u001b[0m\u001b[0m\n\u001b[0;32m     18\u001b[0m         \u001b[0midf_softmax\u001b[0m \u001b[1;33m=\u001b[0m \u001b[0minputs\u001b[0m\u001b[1;33m[\u001b[0m\u001b[1;34m'idf_softmax'\u001b[0m\u001b[1;33m]\u001b[0m\u001b[1;33m\u001b[0m\u001b[1;33m\u001b[0m\u001b[0m\n\u001b[1;32m---> 19\u001b[1;33m         \u001b[0mrel\u001b[0m \u001b[1;33m=\u001b[0m \u001b[0mself\u001b[0m\u001b[1;33m.\u001b[0m\u001b[0mPaccr_Drmm\u001b[0m\u001b[1;33m(\u001b[0m\u001b[0msim_matrix\u001b[0m\u001b[1;33m,\u001b[0m \u001b[0midf_softmax\u001b[0m\u001b[1;33m)\u001b[0m\u001b[1;33m\u001b[0m\u001b[1;33m\u001b[0m\u001b[0m\n\u001b[0m\u001b[0;32m     20\u001b[0m         \u001b[1;32mreturn\u001b[0m \u001b[0mrel\u001b[0m\u001b[1;33m\u001b[0m\u001b[1;33m\u001b[0m\u001b[0m\n",
      "\u001b[1;32m~\\anaconda3\\lib\\site-packages\\tensorflow\\python\\keras\\engine\\base_layer.py\u001b[0m in \u001b[0;36m__call__\u001b[1;34m(self, *args, **kwargs)\u001b[0m\n\u001b[0;32m    966\u001b[0m           with base_layer_utils.autocast_context_manager(\n\u001b[0;32m    967\u001b[0m               self._compute_dtype):\n\u001b[1;32m--> 968\u001b[1;33m             \u001b[0moutputs\u001b[0m \u001b[1;33m=\u001b[0m \u001b[0mself\u001b[0m\u001b[1;33m.\u001b[0m\u001b[0mcall\u001b[0m\u001b[1;33m(\u001b[0m\u001b[0mcast_inputs\u001b[0m\u001b[1;33m,\u001b[0m \u001b[1;33m*\u001b[0m\u001b[0margs\u001b[0m\u001b[1;33m,\u001b[0m \u001b[1;33m**\u001b[0m\u001b[0mkwargs\u001b[0m\u001b[1;33m)\u001b[0m\u001b[1;33m\u001b[0m\u001b[1;33m\u001b[0m\u001b[0m\n\u001b[0m\u001b[0;32m    969\u001b[0m           \u001b[0mself\u001b[0m\u001b[1;33m.\u001b[0m\u001b[0m_handle_activity_regularization\u001b[0m\u001b[1;33m(\u001b[0m\u001b[0minputs\u001b[0m\u001b[1;33m,\u001b[0m \u001b[0moutputs\u001b[0m\u001b[1;33m)\u001b[0m\u001b[1;33m\u001b[0m\u001b[1;33m\u001b[0m\u001b[0m\n\u001b[0;32m    970\u001b[0m           \u001b[0mself\u001b[0m\u001b[1;33m.\u001b[0m\u001b[0m_set_mask_metadata\u001b[0m\u001b[1;33m(\u001b[0m\u001b[0minputs\u001b[0m\u001b[1;33m,\u001b[0m \u001b[0moutputs\u001b[0m\u001b[1;33m,\u001b[0m \u001b[0minput_masks\u001b[0m\u001b[1;33m)\u001b[0m\u001b[1;33m\u001b[0m\u001b[1;33m\u001b[0m\u001b[0m\n",
      "\u001b[1;32m<ipython-input-23-c7f60438be7f>\u001b[0m in \u001b[0;36mcall\u001b[1;34m(self, inputs, idf)\u001b[0m\n\u001b[0;32m     12\u001b[0m \u001b[1;33m\u001b[0m\u001b[0m\n\u001b[0;32m     13\u001b[0m     \u001b[1;32mdef\u001b[0m \u001b[0mcall\u001b[0m\u001b[1;33m(\u001b[0m\u001b[0mself\u001b[0m\u001b[1;33m,\u001b[0m \u001b[0minputs\u001b[0m\u001b[1;33m,\u001b[0m \u001b[0midf\u001b[0m\u001b[1;33m)\u001b[0m\u001b[1;33m:\u001b[0m\u001b[1;33m\u001b[0m\u001b[1;33m\u001b[0m\u001b[0m\n\u001b[1;32m---> 14\u001b[1;33m         \u001b[0mx\u001b[0m \u001b[1;33m=\u001b[0m \u001b[0mself\u001b[0m\u001b[1;33m.\u001b[0m\u001b[0mpaccr\u001b[0m\u001b[1;33m(\u001b[0m\u001b[0minputs\u001b[0m\u001b[1;33m,\u001b[0m \u001b[0midf\u001b[0m\u001b[1;33m)\u001b[0m\u001b[1;33m\u001b[0m\u001b[1;33m\u001b[0m\u001b[0m\n\u001b[0m\u001b[0;32m     15\u001b[0m         \u001b[0mx\u001b[0m \u001b[1;33m=\u001b[0m \u001b[0mself\u001b[0m\u001b[1;33m.\u001b[0m\u001b[0mdrmm\u001b[0m\u001b[1;33m(\u001b[0m\u001b[0mx\u001b[0m\u001b[1;33m)\u001b[0m\u001b[1;33m\u001b[0m\u001b[1;33m\u001b[0m\u001b[0m\n\u001b[0;32m     16\u001b[0m         \u001b[1;32mreturn\u001b[0m \u001b[0mx\u001b[0m\u001b[1;33m\u001b[0m\u001b[1;33m\u001b[0m\u001b[0m\n",
      "\u001b[1;32m~\\anaconda3\\lib\\site-packages\\tensorflow\\python\\keras\\engine\\base_layer.py\u001b[0m in \u001b[0;36m__call__\u001b[1;34m(self, *args, **kwargs)\u001b[0m\n\u001b[0;32m    966\u001b[0m           with base_layer_utils.autocast_context_manager(\n\u001b[0;32m    967\u001b[0m               self._compute_dtype):\n\u001b[1;32m--> 968\u001b[1;33m             \u001b[0moutputs\u001b[0m \u001b[1;33m=\u001b[0m \u001b[0mself\u001b[0m\u001b[1;33m.\u001b[0m\u001b[0mcall\u001b[0m\u001b[1;33m(\u001b[0m\u001b[0mcast_inputs\u001b[0m\u001b[1;33m,\u001b[0m \u001b[1;33m*\u001b[0m\u001b[0margs\u001b[0m\u001b[1;33m,\u001b[0m \u001b[1;33m**\u001b[0m\u001b[0mkwargs\u001b[0m\u001b[1;33m)\u001b[0m\u001b[1;33m\u001b[0m\u001b[1;33m\u001b[0m\u001b[0m\n\u001b[0m\u001b[0;32m    969\u001b[0m           \u001b[0mself\u001b[0m\u001b[1;33m.\u001b[0m\u001b[0m_handle_activity_regularization\u001b[0m\u001b[1;33m(\u001b[0m\u001b[0minputs\u001b[0m\u001b[1;33m,\u001b[0m \u001b[0moutputs\u001b[0m\u001b[1;33m)\u001b[0m\u001b[1;33m\u001b[0m\u001b[1;33m\u001b[0m\u001b[0m\n\u001b[0;32m    970\u001b[0m           \u001b[0mself\u001b[0m\u001b[1;33m.\u001b[0m\u001b[0m_set_mask_metadata\u001b[0m\u001b[1;33m(\u001b[0m\u001b[0minputs\u001b[0m\u001b[1;33m,\u001b[0m \u001b[0moutputs\u001b[0m\u001b[1;33m,\u001b[0m \u001b[0minput_masks\u001b[0m\u001b[1;33m)\u001b[0m\u001b[1;33m\u001b[0m\u001b[1;33m\u001b[0m\u001b[0m\n",
      "\u001b[1;32m<ipython-input-21-87e6005037e2>\u001b[0m in \u001b[0;36mcall\u001b[1;34m(self, inputs, idf)\u001b[0m\n\u001b[0;32m     14\u001b[0m \u001b[1;33m\u001b[0m\u001b[0m\n\u001b[0;32m     15\u001b[0m     \u001b[1;32mdef\u001b[0m \u001b[0mcall\u001b[0m\u001b[1;33m(\u001b[0m\u001b[0mself\u001b[0m\u001b[1;33m,\u001b[0m \u001b[0minputs\u001b[0m\u001b[1;33m,\u001b[0m \u001b[0midf\u001b[0m\u001b[1;33m)\u001b[0m\u001b[1;33m:\u001b[0m\u001b[1;33m\u001b[0m\u001b[1;33m\u001b[0m\u001b[0m\n\u001b[1;32m---> 16\u001b[1;33m         \u001b[0mx\u001b[0m \u001b[1;33m=\u001b[0m \u001b[0mself\u001b[0m\u001b[1;33m.\u001b[0m\u001b[0mconv_stack\u001b[0m\u001b[1;33m(\u001b[0m\u001b[0minputs\u001b[0m\u001b[1;33m)\u001b[0m\u001b[1;33m\u001b[0m\u001b[1;33m\u001b[0m\u001b[0m\n\u001b[0m\u001b[0;32m     17\u001b[0m         \u001b[0mx\u001b[0m \u001b[1;33m=\u001b[0m \u001b[0mself\u001b[0m\u001b[1;33m.\u001b[0m\u001b[0mdim_wise_max_pooling\u001b[0m\u001b[1;33m(\u001b[0m\u001b[0mx\u001b[0m\u001b[1;33m)\u001b[0m\u001b[1;33m\u001b[0m\u001b[1;33m\u001b[0m\u001b[0m\n\u001b[0;32m     18\u001b[0m         \u001b[0mx\u001b[0m \u001b[1;33m=\u001b[0m \u001b[0mself\u001b[0m\u001b[1;33m.\u001b[0m\u001b[0mrow_wise_max_pooling\u001b[0m\u001b[1;33m(\u001b[0m\u001b[0mx\u001b[0m\u001b[1;33m)\u001b[0m\u001b[1;33m\u001b[0m\u001b[1;33m\u001b[0m\u001b[0m\n",
      "\u001b[1;32m~\\anaconda3\\lib\\site-packages\\tensorflow\\python\\keras\\engine\\base_layer.py\u001b[0m in \u001b[0;36m__call__\u001b[1;34m(self, *args, **kwargs)\u001b[0m\n\u001b[0;32m    966\u001b[0m           with base_layer_utils.autocast_context_manager(\n\u001b[0;32m    967\u001b[0m               self._compute_dtype):\n\u001b[1;32m--> 968\u001b[1;33m             \u001b[0moutputs\u001b[0m \u001b[1;33m=\u001b[0m \u001b[0mself\u001b[0m\u001b[1;33m.\u001b[0m\u001b[0mcall\u001b[0m\u001b[1;33m(\u001b[0m\u001b[0mcast_inputs\u001b[0m\u001b[1;33m,\u001b[0m \u001b[1;33m*\u001b[0m\u001b[0margs\u001b[0m\u001b[1;33m,\u001b[0m \u001b[1;33m**\u001b[0m\u001b[0mkwargs\u001b[0m\u001b[1;33m)\u001b[0m\u001b[1;33m\u001b[0m\u001b[1;33m\u001b[0m\u001b[0m\n\u001b[0m\u001b[0;32m    969\u001b[0m           \u001b[0mself\u001b[0m\u001b[1;33m.\u001b[0m\u001b[0m_handle_activity_regularization\u001b[0m\u001b[1;33m(\u001b[0m\u001b[0minputs\u001b[0m\u001b[1;33m,\u001b[0m \u001b[0moutputs\u001b[0m\u001b[1;33m)\u001b[0m\u001b[1;33m\u001b[0m\u001b[1;33m\u001b[0m\u001b[0m\n\u001b[0;32m    970\u001b[0m           \u001b[0mself\u001b[0m\u001b[1;33m.\u001b[0m\u001b[0m_set_mask_metadata\u001b[0m\u001b[1;33m(\u001b[0m\u001b[0minputs\u001b[0m\u001b[1;33m,\u001b[0m \u001b[0moutputs\u001b[0m\u001b[1;33m,\u001b[0m \u001b[0minput_masks\u001b[0m\u001b[1;33m)\u001b[0m\u001b[1;33m\u001b[0m\u001b[1;33m\u001b[0m\u001b[0m\n",
      "\u001b[1;32m<ipython-input-17-8f48f6e737cb>\u001b[0m in \u001b[0;36mcall\u001b[1;34m(self, inputs)\u001b[0m\n\u001b[0;32m     13\u001b[0m         \u001b[0mx\u001b[0m \u001b[1;33m=\u001b[0m \u001b[1;33m{\u001b[0m\u001b[1;33m}\u001b[0m\u001b[1;33m\u001b[0m\u001b[1;33m\u001b[0m\u001b[0m\n\u001b[0;32m     14\u001b[0m         \u001b[1;32mfor\u001b[0m \u001b[0mi\u001b[0m \u001b[1;32min\u001b[0m \u001b[0mrange\u001b[0m\u001b[1;33m(\u001b[0m\u001b[1;36m2\u001b[0m\u001b[1;33m,\u001b[0m \u001b[0mself\u001b[0m\u001b[1;33m.\u001b[0m\u001b[0mlg\u001b[0m\u001b[1;33m+\u001b[0m\u001b[1;36m1\u001b[0m\u001b[1;33m)\u001b[0m\u001b[1;33m:\u001b[0m\u001b[1;33m\u001b[0m\u001b[1;33m\u001b[0m\u001b[0m\n\u001b[1;32m---> 15\u001b[1;33m             \u001b[0mx\u001b[0m\u001b[1;33m[\u001b[0m\u001b[0mi\u001b[0m\u001b[1;33m]\u001b[0m \u001b[1;33m=\u001b[0m \u001b[0mself\u001b[0m\u001b[1;33m.\u001b[0m\u001b[0mconv_dict\u001b[0m\u001b[1;33m[\u001b[0m\u001b[0mi\u001b[0m\u001b[1;33m]\u001b[0m\u001b[1;33m(\u001b[0m\u001b[0minputs\u001b[0m\u001b[1;33m)\u001b[0m\u001b[1;33m\u001b[0m\u001b[1;33m\u001b[0m\u001b[0m\n\u001b[0m\u001b[0;32m     16\u001b[0m         \u001b[1;32mreturn\u001b[0m \u001b[0mtf\u001b[0m\u001b[1;33m.\u001b[0m\u001b[0mkeras\u001b[0m\u001b[1;33m.\u001b[0m\u001b[0mlayers\u001b[0m\u001b[1;33m.\u001b[0m\u001b[0mconcatenate\u001b[0m\u001b[1;33m(\u001b[0m\u001b[1;33m[\u001b[0m\u001b[0mx_1\u001b[0m\u001b[1;33m]\u001b[0m \u001b[1;33m+\u001b[0m \u001b[1;33m[\u001b[0m\u001b[0mx\u001b[0m\u001b[1;33m[\u001b[0m\u001b[0mk\u001b[0m\u001b[1;33m]\u001b[0m \u001b[1;32mfor\u001b[0m \u001b[0mk\u001b[0m \u001b[1;32min\u001b[0m \u001b[0mx\u001b[0m\u001b[1;33m]\u001b[0m\u001b[1;33m)\u001b[0m\u001b[1;33m\u001b[0m\u001b[1;33m\u001b[0m\u001b[0m\n",
      "\u001b[1;32m~\\anaconda3\\lib\\site-packages\\tensorflow\\python\\keras\\engine\\base_layer.py\u001b[0m in \u001b[0;36m__call__\u001b[1;34m(self, *args, **kwargs)\u001b[0m\n\u001b[0;32m    966\u001b[0m           with base_layer_utils.autocast_context_manager(\n\u001b[0;32m    967\u001b[0m               self._compute_dtype):\n\u001b[1;32m--> 968\u001b[1;33m             \u001b[0moutputs\u001b[0m \u001b[1;33m=\u001b[0m \u001b[0mself\u001b[0m\u001b[1;33m.\u001b[0m\u001b[0mcall\u001b[0m\u001b[1;33m(\u001b[0m\u001b[0mcast_inputs\u001b[0m\u001b[1;33m,\u001b[0m \u001b[1;33m*\u001b[0m\u001b[0margs\u001b[0m\u001b[1;33m,\u001b[0m \u001b[1;33m**\u001b[0m\u001b[0mkwargs\u001b[0m\u001b[1;33m)\u001b[0m\u001b[1;33m\u001b[0m\u001b[1;33m\u001b[0m\u001b[0m\n\u001b[0m\u001b[0;32m    969\u001b[0m           \u001b[0mself\u001b[0m\u001b[1;33m.\u001b[0m\u001b[0m_handle_activity_regularization\u001b[0m\u001b[1;33m(\u001b[0m\u001b[0minputs\u001b[0m\u001b[1;33m,\u001b[0m \u001b[0moutputs\u001b[0m\u001b[1;33m)\u001b[0m\u001b[1;33m\u001b[0m\u001b[1;33m\u001b[0m\u001b[0m\n\u001b[0;32m    970\u001b[0m           \u001b[0mself\u001b[0m\u001b[1;33m.\u001b[0m\u001b[0m_set_mask_metadata\u001b[0m\u001b[1;33m(\u001b[0m\u001b[0minputs\u001b[0m\u001b[1;33m,\u001b[0m \u001b[0moutputs\u001b[0m\u001b[1;33m,\u001b[0m \u001b[0minput_masks\u001b[0m\u001b[1;33m)\u001b[0m\u001b[1;33m\u001b[0m\u001b[1;33m\u001b[0m\u001b[0m\n",
      "\u001b[1;32m~\\anaconda3\\lib\\site-packages\\tensorflow\\python\\keras\\layers\\convolutional.py\u001b[0m in \u001b[0;36mcall\u001b[1;34m(self, inputs)\u001b[0m\n\u001b[0;32m    205\u001b[0m       \u001b[0minputs\u001b[0m \u001b[1;33m=\u001b[0m \u001b[0marray_ops\u001b[0m\u001b[1;33m.\u001b[0m\u001b[0mpad\u001b[0m\u001b[1;33m(\u001b[0m\u001b[0minputs\u001b[0m\u001b[1;33m,\u001b[0m \u001b[0mself\u001b[0m\u001b[1;33m.\u001b[0m\u001b[0m_compute_causal_padding\u001b[0m\u001b[1;33m(\u001b[0m\u001b[1;33m)\u001b[0m\u001b[1;33m)\u001b[0m\u001b[1;33m\u001b[0m\u001b[1;33m\u001b[0m\u001b[0m\n\u001b[0;32m    206\u001b[0m \u001b[1;33m\u001b[0m\u001b[0m\n\u001b[1;32m--> 207\u001b[1;33m     \u001b[0moutputs\u001b[0m \u001b[1;33m=\u001b[0m \u001b[0mself\u001b[0m\u001b[1;33m.\u001b[0m\u001b[0m_convolution_op\u001b[0m\u001b[1;33m(\u001b[0m\u001b[0minputs\u001b[0m\u001b[1;33m,\u001b[0m \u001b[0mself\u001b[0m\u001b[1;33m.\u001b[0m\u001b[0mkernel\u001b[0m\u001b[1;33m)\u001b[0m\u001b[1;33m\u001b[0m\u001b[1;33m\u001b[0m\u001b[0m\n\u001b[0m\u001b[0;32m    208\u001b[0m \u001b[1;33m\u001b[0m\u001b[0m\n\u001b[0;32m    209\u001b[0m     \u001b[1;32mif\u001b[0m \u001b[0mself\u001b[0m\u001b[1;33m.\u001b[0m\u001b[0muse_bias\u001b[0m\u001b[1;33m:\u001b[0m\u001b[1;33m\u001b[0m\u001b[1;33m\u001b[0m\u001b[0m\n",
      "\u001b[1;32m~\\anaconda3\\lib\\site-packages\\tensorflow\\python\\ops\\nn_ops.py\u001b[0m in \u001b[0;36m__call__\u001b[1;34m(self, inp, filter)\u001b[0m\n\u001b[0;32m   1104\u001b[0m           call_from_convolution=False)\n\u001b[0;32m   1105\u001b[0m     \u001b[1;32melse\u001b[0m\u001b[1;33m:\u001b[0m\u001b[1;33m\u001b[0m\u001b[1;33m\u001b[0m\u001b[0m\n\u001b[1;32m-> 1106\u001b[1;33m       \u001b[1;32mreturn\u001b[0m \u001b[0mself\u001b[0m\u001b[1;33m.\u001b[0m\u001b[0mconv_op\u001b[0m\u001b[1;33m(\u001b[0m\u001b[0minp\u001b[0m\u001b[1;33m,\u001b[0m \u001b[0mfilter\u001b[0m\u001b[1;33m)\u001b[0m\u001b[1;33m\u001b[0m\u001b[1;33m\u001b[0m\u001b[0m\n\u001b[0m\u001b[0;32m   1107\u001b[0m \u001b[1;33m\u001b[0m\u001b[0m\n\u001b[0;32m   1108\u001b[0m \u001b[1;33m\u001b[0m\u001b[0m\n",
      "\u001b[1;32m~\\anaconda3\\lib\\site-packages\\tensorflow\\python\\ops\\nn_ops.py\u001b[0m in \u001b[0;36m__call__\u001b[1;34m(self, inp, filter)\u001b[0m\n\u001b[0;32m    636\u001b[0m \u001b[1;33m\u001b[0m\u001b[0m\n\u001b[0;32m    637\u001b[0m   \u001b[1;32mdef\u001b[0m \u001b[0m__call__\u001b[0m\u001b[1;33m(\u001b[0m\u001b[0mself\u001b[0m\u001b[1;33m,\u001b[0m \u001b[0minp\u001b[0m\u001b[1;33m,\u001b[0m \u001b[0mfilter\u001b[0m\u001b[1;33m)\u001b[0m\u001b[1;33m:\u001b[0m  \u001b[1;31m# pylint: disable=redefined-builtin\u001b[0m\u001b[1;33m\u001b[0m\u001b[1;33m\u001b[0m\u001b[0m\n\u001b[1;32m--> 638\u001b[1;33m     \u001b[1;32mreturn\u001b[0m \u001b[0mself\u001b[0m\u001b[1;33m.\u001b[0m\u001b[0mcall\u001b[0m\u001b[1;33m(\u001b[0m\u001b[0minp\u001b[0m\u001b[1;33m,\u001b[0m \u001b[0mfilter\u001b[0m\u001b[1;33m)\u001b[0m\u001b[1;33m\u001b[0m\u001b[1;33m\u001b[0m\u001b[0m\n\u001b[0m\u001b[0;32m    639\u001b[0m \u001b[1;33m\u001b[0m\u001b[0m\n\u001b[0;32m    640\u001b[0m \u001b[1;33m\u001b[0m\u001b[0m\n",
      "\u001b[1;32m~\\anaconda3\\lib\\site-packages\\tensorflow\\python\\ops\\nn_ops.py\u001b[0m in \u001b[0;36m__call__\u001b[1;34m(self, inp, filter)\u001b[0m\n\u001b[0;32m    235\u001b[0m         \u001b[0mpadding\u001b[0m\u001b[1;33m=\u001b[0m\u001b[0mself\u001b[0m\u001b[1;33m.\u001b[0m\u001b[0mpadding\u001b[0m\u001b[1;33m,\u001b[0m\u001b[1;33m\u001b[0m\u001b[1;33m\u001b[0m\u001b[0m\n\u001b[0;32m    236\u001b[0m         \u001b[0mdata_format\u001b[0m\u001b[1;33m=\u001b[0m\u001b[0mself\u001b[0m\u001b[1;33m.\u001b[0m\u001b[0mdata_format\u001b[0m\u001b[1;33m,\u001b[0m\u001b[1;33m\u001b[0m\u001b[1;33m\u001b[0m\u001b[0m\n\u001b[1;32m--> 237\u001b[1;33m         name=self.name)\n\u001b[0m\u001b[0;32m    238\u001b[0m \u001b[1;33m\u001b[0m\u001b[0m\n\u001b[0;32m    239\u001b[0m \u001b[1;33m\u001b[0m\u001b[0m\n",
      "\u001b[1;32m~\\anaconda3\\lib\\site-packages\\tensorflow\\python\\ops\\nn_ops.py\u001b[0m in \u001b[0;36mconv2d\u001b[1;34m(input, filter, strides, padding, use_cudnn_on_gpu, data_format, dilations, name, filters)\u001b[0m\n\u001b[0;32m   2012\u001b[0m                            \u001b[0mdata_format\u001b[0m\u001b[1;33m=\u001b[0m\u001b[0mdata_format\u001b[0m\u001b[1;33m,\u001b[0m\u001b[1;33m\u001b[0m\u001b[1;33m\u001b[0m\u001b[0m\n\u001b[0;32m   2013\u001b[0m                            \u001b[0mdilations\u001b[0m\u001b[1;33m=\u001b[0m\u001b[0mdilations\u001b[0m\u001b[1;33m,\u001b[0m\u001b[1;33m\u001b[0m\u001b[1;33m\u001b[0m\u001b[0m\n\u001b[1;32m-> 2014\u001b[1;33m                            name=name)\n\u001b[0m\u001b[0;32m   2015\u001b[0m \u001b[1;33m\u001b[0m\u001b[0m\n\u001b[0;32m   2016\u001b[0m \u001b[1;33m\u001b[0m\u001b[0m\n",
      "\u001b[1;32m~\\anaconda3\\lib\\site-packages\\tensorflow\\python\\ops\\gen_nn_ops.py\u001b[0m in \u001b[0;36mconv2d\u001b[1;34m(input, filter, strides, padding, use_cudnn_on_gpu, explicit_paddings, data_format, dilations, name)\u001b[0m\n\u001b[0;32m    931\u001b[0m             \u001b[0minput\u001b[0m\u001b[1;33m,\u001b[0m \u001b[0mfilter\u001b[0m\u001b[1;33m,\u001b[0m \u001b[0mstrides\u001b[0m\u001b[1;33m=\u001b[0m\u001b[0mstrides\u001b[0m\u001b[1;33m,\u001b[0m \u001b[0muse_cudnn_on_gpu\u001b[0m\u001b[1;33m=\u001b[0m\u001b[0muse_cudnn_on_gpu\u001b[0m\u001b[1;33m,\u001b[0m\u001b[1;33m\u001b[0m\u001b[1;33m\u001b[0m\u001b[0m\n\u001b[0;32m    932\u001b[0m             \u001b[0mpadding\u001b[0m\u001b[1;33m=\u001b[0m\u001b[0mpadding\u001b[0m\u001b[1;33m,\u001b[0m \u001b[0mexplicit_paddings\u001b[0m\u001b[1;33m=\u001b[0m\u001b[0mexplicit_paddings\u001b[0m\u001b[1;33m,\u001b[0m\u001b[1;33m\u001b[0m\u001b[1;33m\u001b[0m\u001b[0m\n\u001b[1;32m--> 933\u001b[1;33m             data_format=data_format, dilations=dilations, name=name, ctx=_ctx)\n\u001b[0m\u001b[0;32m    934\u001b[0m       \u001b[1;32mexcept\u001b[0m \u001b[0m_core\u001b[0m\u001b[1;33m.\u001b[0m\u001b[0m_SymbolicException\u001b[0m\u001b[1;33m:\u001b[0m\u001b[1;33m\u001b[0m\u001b[1;33m\u001b[0m\u001b[0m\n\u001b[0;32m    935\u001b[0m         \u001b[1;32mpass\u001b[0m  \u001b[1;31m# Add nodes to the TensorFlow graph.\u001b[0m\u001b[1;33m\u001b[0m\u001b[1;33m\u001b[0m\u001b[0m\n",
      "\u001b[1;32m~\\anaconda3\\lib\\site-packages\\tensorflow\\python\\ops\\gen_nn_ops.py\u001b[0m in \u001b[0;36mconv2d_eager_fallback\u001b[1;34m(input, filter, strides, padding, use_cudnn_on_gpu, explicit_paddings, data_format, dilations, name, ctx)\u001b[0m\n\u001b[0;32m   1020\u001b[0m   explicit_paddings, \"data_format\", data_format, \"dilations\", dilations)\n\u001b[0;32m   1021\u001b[0m   _result = _execute.execute(b\"Conv2D\", 1, inputs=_inputs_flat, attrs=_attrs,\n\u001b[1;32m-> 1022\u001b[1;33m                              ctx=ctx, name=name)\n\u001b[0m\u001b[0;32m   1023\u001b[0m   \u001b[1;32mif\u001b[0m \u001b[0m_execute\u001b[0m\u001b[1;33m.\u001b[0m\u001b[0mmust_record_gradient\u001b[0m\u001b[1;33m(\u001b[0m\u001b[1;33m)\u001b[0m\u001b[1;33m:\u001b[0m\u001b[1;33m\u001b[0m\u001b[1;33m\u001b[0m\u001b[0m\n\u001b[0;32m   1024\u001b[0m     _execute.record_gradient(\n",
      "\u001b[1;32m~\\anaconda3\\lib\\site-packages\\tensorflow\\python\\eager\\execute.py\u001b[0m in \u001b[0;36mquick_execute\u001b[1;34m(op_name, num_outputs, inputs, attrs, ctx, name)\u001b[0m\n\u001b[0;32m     58\u001b[0m     \u001b[0mctx\u001b[0m\u001b[1;33m.\u001b[0m\u001b[0mensure_initialized\u001b[0m\u001b[1;33m(\u001b[0m\u001b[1;33m)\u001b[0m\u001b[1;33m\u001b[0m\u001b[1;33m\u001b[0m\u001b[0m\n\u001b[0;32m     59\u001b[0m     tensors = pywrap_tfe.TFE_Py_Execute(ctx._handle, device_name, op_name,\n\u001b[1;32m---> 60\u001b[1;33m                                         inputs, attrs, num_outputs)\n\u001b[0m\u001b[0;32m     61\u001b[0m   \u001b[1;32mexcept\u001b[0m \u001b[0mcore\u001b[0m\u001b[1;33m.\u001b[0m\u001b[0m_NotOkStatusException\u001b[0m \u001b[1;32mas\u001b[0m \u001b[0me\u001b[0m\u001b[1;33m:\u001b[0m\u001b[1;33m\u001b[0m\u001b[1;33m\u001b[0m\u001b[0m\n\u001b[0;32m     62\u001b[0m     \u001b[1;32mif\u001b[0m \u001b[0mname\u001b[0m \u001b[1;32mis\u001b[0m \u001b[1;32mnot\u001b[0m \u001b[1;32mNone\u001b[0m\u001b[1;33m:\u001b[0m\u001b[1;33m\u001b[0m\u001b[1;33m\u001b[0m\u001b[0m\n",
      "\u001b[1;31mKeyboardInterrupt\u001b[0m: "
     ]
    }
   ],
   "source": [
    "loss_sum = 0\n",
    "ndcg_sum = 0\n",
    "step_history = []\n",
    "loss_history = []\n",
    "loss_history_dev = []\n",
    "ndcg_history = []\n",
    "\n",
    "start = time.time()\n",
    "for step, batch_train in enumerate(dataset):\n",
    "    \n",
    "    with tf.GradientTape() as tape:\n",
    "        logits = model(batch_train)\n",
    "        loss_value = Pairwise_ranking_loss(y_true=None, y_pred=logits)\n",
    "        loss_sum += loss_value \n",
    "        \n",
    "        if step == 0:\n",
    "            loss_history_dev.append(Pairwise_ranking_loss(y_true=None, y_pred=model(dev_set)))\n",
    "            \n",
    "    grads = tape.gradient(loss_value, model.trainable_weights)\n",
    "    optimizer.apply_gradients(zip(grads, model.trainable_weights))\n",
    "\n",
    "    if step % print_step == 0:\n",
    "        current_loss_average = float(loss_sum)/print_step\n",
    "        if step ==0:\n",
    "            current_loss_average = loss_sum\n",
    "\n",
    "        logits_dev = model(dev_set)\n",
    "        current_loss_average_dev = Pairwise_ranking_loss(y_true=None, y_pred=logits_dev)\n",
    "        \n",
    "            \n",
    "        for q in dev_q:\n",
    "            ndcg_test = test[test['query_preprocessed'] == q]\n",
    "            metadata_ndcg = {'sim_matrix': tf.stack([ndcg_test['sim_matrix'].values[j] for j in range(len(ndcg_test))], axis=0), \n",
    "                             'idf_softmax': tf.stack([ndcg_test['idf_softmax'].values[j] for j in range(len(ndcg_test))], axis=0)}  \n",
    "            ndcg_test['rel'] = model.predict(metadata_ndcg).numpy()\n",
    "            rel_pred = list(ndcg_test.sort_values(by=['rel'], axis=0, ascending=False)['median_relevance']-1)\n",
    "            ndcg_sum += ndcg(rel_pred, p=n, form=\"exp\")\n",
    "        current_ndcg_average = ndcg_sum/len(dev_q)\n",
    "        \n",
    "        step_history.append(step)\n",
    "        loss_history.append(current_loss_average)\n",
    "        loss_history_dev.append(current_loss_average_dev)\n",
    "        ndcg_history.append(current_ndcg_average)\n",
    "        \n",
    "        print(\"Training loss at step %d: %.5f, dev_loss : %.5f, nDCG@20 : %.5f\"% (step, \n",
    "                                                                  current_loss_average, \n",
    "                                                                  current_loss_average_dev,\n",
    "                                                                  current_ndcg_average))\n",
    "        print(\"Seen so far: %s train samples, learning rate: %.4f\" % ((step + 1) * batchs, learning_rate))\n",
    "        ndcg_sum = 0\n",
    "        loss_sum = 0\n",
    "        start = time.time()\n",
    "        \n",
    "#     if current_ndcg_average > 0.862 or step==120:\n",
    "#         break\n",
    "    \n",
    "    if step % 500 == 0:\n",
    "        learning_rate *= .1\n",
    "        optimizer = tf.keras.optimizers.Adagrad(learning_rate=learning_rate)"
   ]
  },
  {
   "cell_type": "code",
   "execution_count": 87,
   "metadata": {},
   "outputs": [
    {
     "data": {
      "image/png": "[encoded data removed]",
      "text/plain": [
       "<Figure size 720x360 with 2 Axes>"
      ]
     },
     "metadata": {
      "needs_background": "light"
     },
     "output_type": "display_data"
    }
   ],
   "source": [
    "fig, ax1 = plt.subplots(figsize=(10,5))\n",
    "\n",
    "color = 'tab:red'\n",
    "ax1.set_xlabel('step')\n",
    "ax1.set_ylabel('loss')\n",
    "ax1.plot(step_history, loss_history, color='r', label='train loss')\n",
    "ax1.plot(step_history, loss_history_dev[:-1], color='g', label='dev loss')\n",
    "# ax1.set_ylim(0.8, 1.1)\n",
    "ax1.legend(loc=2)\n",
    "\n",
    "\n",
    "ax2 = ax1.twinx() \n",
    "\n",
    "color = 'tab:blue'\n",
    "ax2.set_ylabel('nDCG@20')  \n",
    "ax2.plot(step_history, ndcg_history, color=color, label='nDCG@20')\n",
    "ax2.legend(loc=1)\n",
    "# ax2.set_ylim(0.87, 0.94)\n",
    "plt.show()"
   ]
  },
  {
   "cell_type": "code",
   "execution_count": 135,
   "metadata": {},
   "outputs": [
    {
     "data": {
      "text/html": [
       "<div>\n",
       "<style scoped>\n",
       "    .dataframe tbody tr th:only-of-type {\n",
       "        vertical-align: middle;\n",
       "    }\n",
       "\n",
       "    .dataframe tbody tr th {\n",
       "        vertical-align: top;\n",
       "    }\n",
       "\n",
       "    .dataframe thead th {\n",
       "        text-align: right;\n",
       "    }\n",
       "</style>\n",
       "<table border=\"1\" class=\"dataframe\">\n",
       "  <thead>\n",
       "    <tr style=\"text-align: right;\">\n",
       "      <th></th>\n",
       "      <th>query</th>\n",
       "      <th>product_title</th>\n",
       "      <th>median_relevance</th>\n",
       "      <th>rel</th>\n",
       "    </tr>\n",
       "  </thead>\n",
       "  <tbody>\n",
       "    <tr>\n",
       "      <th>4425</th>\n",
       "      <td>nike flip flops</td>\n",
       "      <td>Nike Aqua Motion Girls Flip Flops - Little Kids/Big Kids</td>\n",
       "      <td>4</td>\n",
       "      <td>7.834347</td>\n",
       "    </tr>\n",
       "    <tr>\n",
       "      <th>7602</th>\n",
       "      <td>nike flip flops</td>\n",
       "      <td>Women's Nike 'SolarSoft 11' Flip Flop</td>\n",
       "      <td>4</td>\n",
       "      <td>7.709078</td>\n",
       "    </tr>\n",
       "    <tr>\n",
       "      <th>6627</th>\n",
       "      <td>nike flip flops</td>\n",
       "      <td>Women's Nike 'Flex Motion' Flip Flop</td>\n",
       "      <td>4</td>\n",
       "      <td>7.705331</td>\n",
       "    </tr>\n",
       "    <tr>\n",
       "      <th>841</th>\n",
       "      <td>nike flip flops</td>\n",
       "      <td>Women's Nike 'SolarSoft 11' Flip Flop, Size 8 M - Black</td>\n",
       "      <td>4</td>\n",
       "      <td>7.663935</td>\n",
       "    </tr>\n",
       "    <tr>\n",
       "      <th>2601</th>\n",
       "      <td>nike flip flops</td>\n",
       "      <td>Women's Nike 'SolarSoft 11' Flip Flop, Size 6 M - Black</td>\n",
       "      <td>4</td>\n",
       "      <td>7.663935</td>\n",
       "    </tr>\n",
       "    <tr>\n",
       "      <th>6738</th>\n",
       "      <td>nike flip flops</td>\n",
       "      <td>Women's C9 by Champion Lindie Flip Flop Sandals - Assorted Colors</td>\n",
       "      <td>2</td>\n",
       "      <td>7.148888</td>\n",
       "    </tr>\n",
       "    <tr>\n",
       "      <th>8157</th>\n",
       "      <td>nike flip flops</td>\n",
       "      <td>OP Women's Eyelit EVA Flip Flop</td>\n",
       "      <td>2</td>\n",
       "      <td>7.069069</td>\n",
       "    </tr>\n",
       "    <tr>\n",
       "      <th>4361</th>\n",
       "      <td>nike flip flops</td>\n",
       "      <td>Nike Girls' Celso Girl Thong Sandals from Finish Line</td>\n",
       "      <td>4</td>\n",
       "      <td>7.035944</td>\n",
       "    </tr>\n",
       "    <tr>\n",
       "      <th>4095</th>\n",
       "      <td>nike flip flops</td>\n",
       "      <td>Girls Hester Flip Flop Sandals - Grey/Fuchsia</td>\n",
       "      <td>4</td>\n",
       "      <td>7.021328</td>\n",
       "    </tr>\n",
       "    <tr>\n",
       "      <th>3989</th>\n",
       "      <td>nike flip flops</td>\n",
       "      <td>Nike Women's Celso Girl Thong Sandals from Finish Line</td>\n",
       "      <td>4</td>\n",
       "      <td>6.910518</td>\n",
       "    </tr>\n",
       "    <tr>\n",
       "      <th>8808</th>\n",
       "      <td>nike flip flops</td>\n",
       "      <td>Nike SolarSoft Thong 2 Sandal - Obsidian</td>\n",
       "      <td>4</td>\n",
       "      <td>6.895847</td>\n",
       "    </tr>\n",
       "    <tr>\n",
       "      <th>290</th>\n",
       "      <td>nike flip flops</td>\n",
       "      <td>Women's Letty Flip Flop Sandals</td>\n",
       "      <td>3</td>\n",
       "      <td>6.775216</td>\n",
       "    </tr>\n",
       "    <tr>\n",
       "      <th>9237</th>\n",
       "      <td>nike flip flops</td>\n",
       "      <td>Disney Frozen Toddler Girl's Beach Flip-flop Sandal</td>\n",
       "      <td>3</td>\n",
       "      <td>6.733804</td>\n",
       "    </tr>\n",
       "    <tr>\n",
       "      <th>2246</th>\n",
       "      <td>nike flip flops</td>\n",
       "      <td>Nike Women's SolarSoft Thong Ii Sandals from Finish Line</td>\n",
       "      <td>4</td>\n",
       "      <td>6.729203</td>\n",
       "    </tr>\n",
       "    <tr>\n",
       "      <th>8007</th>\n",
       "      <td>nike flip flops</td>\n",
       "      <td>Disney Frozen Girls Flip Flop Sandals - Blue</td>\n",
       "      <td>2</td>\n",
       "      <td>6.727272</td>\n",
       "    </tr>\n",
       "    <tr>\n",
       "      <th>3096</th>\n",
       "      <td>nike flip flops</td>\n",
       "      <td>OP Girl's Woven Beach Flip Flop</td>\n",
       "      <td>3</td>\n",
       "      <td>6.725204</td>\n",
       "    </tr>\n",
       "    <tr>\n",
       "      <th>9599</th>\n",
       "      <td>nike flip flops</td>\n",
       "      <td>Women's Leonie Flip Flop Sandals - Assorted Colors</td>\n",
       "      <td>2</td>\n",
       "      <td>6.722407</td>\n",
       "    </tr>\n",
       "    <tr>\n",
       "      <th>3572</th>\n",
       "      <td>nike flip flops</td>\n",
       "      <td>Girl's Circo Hailey Floral Print Flip Flop Sandals - Pink</td>\n",
       "      <td>2</td>\n",
       "      <td>6.719026</td>\n",
       "    </tr>\n",
       "    <tr>\n",
       "      <th>1364</th>\n",
       "      <td>nike flip flops</td>\n",
       "      <td>Women's Beach Printed Flip Flop Sandal</td>\n",
       "      <td>2</td>\n",
       "      <td>6.703801</td>\n",
       "    </tr>\n",
       "    <tr>\n",
       "      <th>5675</th>\n",
       "      <td>nike flip flops</td>\n",
       "      <td>Toddler Boys' Skull Print Flip-flop</td>\n",
       "      <td>2</td>\n",
       "      <td>6.686049</td>\n",
       "    </tr>\n",
       "  </tbody>\n",
       "</table>\n",
       "</div>"
      ],
      "text/plain": [
       "                query  \\\n",
       "4425  nike flip flops   \n",
       "7602  nike flip flops   \n",
       "6627  nike flip flops   \n",
       "841   nike flip flops   \n",
       "2601  nike flip flops   \n",
       "6738  nike flip flops   \n",
       "8157  nike flip flops   \n",
       "4361  nike flip flops   \n",
       "4095  nike flip flops   \n",
       "3989  nike flip flops   \n",
       "8808  nike flip flops   \n",
       "290   nike flip flops   \n",
       "9237  nike flip flops   \n",
       "2246  nike flip flops   \n",
       "8007  nike flip flops   \n",
       "3096  nike flip flops   \n",
       "9599  nike flip flops   \n",
       "3572  nike flip flops   \n",
       "1364  nike flip flops   \n",
       "5675  nike flip flops   \n",
       "\n",
       "                                                          product_title  \\\n",
       "4425           Nike Aqua Motion Girls Flip Flops - Little Kids/Big Kids   \n",
       "7602                              Women's Nike 'SolarSoft 11' Flip Flop   \n",
       "6627                               Women's Nike 'Flex Motion' Flip Flop   \n",
       "841             Women's Nike 'SolarSoft 11' Flip Flop, Size 8 M - Black   \n",
       "2601            Women's Nike 'SolarSoft 11' Flip Flop, Size 6 M - Black   \n",
       "6738  Women's C9 by Champion Lindie Flip Flop Sandals - Assorted Colors   \n",
       "8157                                    OP Women's Eyelit EVA Flip Flop   \n",
       "4361              Nike Girls' Celso Girl Thong Sandals from Finish Line   \n",
       "4095                      Girls Hester Flip Flop Sandals - Grey/Fuchsia   \n",
       "3989             Nike Women's Celso Girl Thong Sandals from Finish Line   \n",
       "8808                           Nike SolarSoft Thong 2 Sandal - Obsidian   \n",
       "290                                     Women's Letty Flip Flop Sandals   \n",
       "9237                Disney Frozen Toddler Girl's Beach Flip-flop Sandal   \n",
       "2246           Nike Women's SolarSoft Thong Ii Sandals from Finish Line   \n",
       "8007                       Disney Frozen Girls Flip Flop Sandals - Blue   \n",
       "3096                                    OP Girl's Woven Beach Flip Flop   \n",
       "9599                 Women's Leonie Flip Flop Sandals - Assorted Colors   \n",
       "3572          Girl's Circo Hailey Floral Print Flip Flop Sandals - Pink   \n",
       "1364                             Women's Beach Printed Flip Flop Sandal   \n",
       "5675                                Toddler Boys' Skull Print Flip-flop   \n",
       "\n",
       "      median_relevance       rel  \n",
       "4425                 4  7.834347  \n",
       "7602                 4  7.709078  \n",
       "6627                 4  7.705331  \n",
       "841                  4  7.663935  \n",
       "2601                 4  7.663935  \n",
       "6738                 2  7.148888  \n",
       "8157                 2  7.069069  \n",
       "4361                 4  7.035944  \n",
       "4095                 4  7.021328  \n",
       "3989                 4  6.910518  \n",
       "8808                 4  6.895847  \n",
       "290                  3  6.775216  \n",
       "9237                 3  6.733804  \n",
       "2246                 4  6.729203  \n",
       "8007                 2  6.727272  \n",
       "3096                 3  6.725204  \n",
       "9599                 2  6.722407  \n",
       "3572                 2  6.719026  \n",
       "1364                 2  6.703801  \n",
       "5675                 2  6.686049  "
      ]
     },
     "execution_count": 135,
     "metadata": {},
     "output_type": "execute_result"
    }
   ],
   "source": [
    "ndcg_test = test[test['query_preprocessed'] == 'nike flip flop']\n",
    "\n",
    "metadata_ndcg = {'sim_matrix': tf.stack([ndcg_test['sim_matrix'].values[j] for j in range(len(ndcg_test))], axis=0), \n",
    "                 'idf_softmax': tf.stack([ndcg_test['idf_softmax'].values[j] for j in range(len(ndcg_test))], axis=0)}  \n",
    "\n",
    "ndcg_test.insert(5, 'rel', model.predict(metadata_ndcg).numpy(), True)\n",
    "\n",
    "ndcg_test.sort_values(by=['rel'], axis=0, ascending=False)[['query', 'product_title', 'median_relevance', 'rel']].head(20)"
   ]
  },
  {
   "cell_type": "code",
   "execution_count": null,
   "metadata": {},
   "outputs": [],
   "source": []
  }
 ],
 "metadata": {
  "kernelspec": {
   "display_name": "Python 3",
   "language": "python",
   "name": "python3"
  },
  "language_info": {
   "codemirror_mode": {
    "name": "ipython",
    "version": 3
   },
   "file_extension": ".py",
   "mimetype": "text/x-python",
   "name": "python",
   "nbconvert_exporter": "python",
   "pygments_lexer": "ipython3",
   "version": "3.7.6"
  },
  "toc": {
   "base_numbering": 1,
   "nav_menu": {},
   "number_sections": true,
   "sideBar": true,
   "skip_h1_title": false,
   "title_cell": "Table of Contents",
   "title_sidebar": "Contents",
   "toc_cell": false,
   "toc_position": {},
   "toc_section_display": true,
   "toc_window_display": false
  },
  "varInspector": {
   "cols": {
    "lenName": 16,
    "lenType": 16,
    "lenVar": 40
   },
   "kernels_config": {
    "python": {
     "delete_cmd_postfix": "",
     "delete_cmd_prefix": "del ",
     "library": "var_list.py",
     "varRefreshCmd": "print(var_dic_list())"
    },
    "r": {
     "delete_cmd_postfix": ") ",
     "delete_cmd_prefix": "rm(",
     "library": "var_list.r",
     "varRefreshCmd": "cat(var_dic_list()) "
    }
   },
   "types_to_exclude": [
    "module",
    "function",
    "builtin_function_or_method",
    "instance",
    "_Feature"
   ],
   "window_display": false
  }
 },
 "nbformat": 4,
 "nbformat_minor": 4
}
