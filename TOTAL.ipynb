{
 "cells": [
  {
   "cell_type": "code",
   "execution_count": 4,
   "metadata": {},
   "outputs": [
    {
     "ename": "ModuleNotFoundError",
     "evalue": "No module named 'model'",
     "output_type": "error",
     "traceback": [
      "\u001b[1;31m---------------------------------------------------------------------------\u001b[0m",
      "\u001b[1;31mModuleNotFoundError\u001b[0m                       Traceback (most recent call last)",
      "\u001b[1;32m<ipython-input-4-25ea84c16cca>\u001b[0m in \u001b[0;36m<module>\u001b[1;34m\u001b[0m\n\u001b[0;32m      6\u001b[0m \u001b[1;33m\u001b[0m\u001b[0m\n\u001b[0;32m      7\u001b[0m \u001b[1;32mfrom\u001b[0m \u001b[0mast\u001b[0m \u001b[1;32mimport\u001b[0m \u001b[0mliteral_eval\u001b[0m\u001b[1;33m\u001b[0m\u001b[1;33m\u001b[0m\u001b[0m\n\u001b[1;32m----> 8\u001b[1;33m \u001b[1;32mfrom\u001b[0m \u001b[0mmodel\u001b[0m\u001b[1;33m.\u001b[0m\u001b[0mloss\u001b[0m \u001b[1;32mimport\u001b[0m \u001b[0mPairwise_ranking_loss\u001b[0m\u001b[1;33m\u001b[0m\u001b[1;33m\u001b[0m\u001b[0m\n\u001b[0m\u001b[0;32m      9\u001b[0m \u001b[1;32mfrom\u001b[0m \u001b[0mmodel\u001b[0m\u001b[1;33m.\u001b[0m\u001b[0mdrmm\u001b[0m \u001b[1;32mimport\u001b[0m \u001b[0mGen_DRMM_Model\u001b[0m\u001b[1;33m\u001b[0m\u001b[1;33m\u001b[0m\u001b[0m\n\u001b[0;32m     10\u001b[0m \u001b[1;32mfrom\u001b[0m \u001b[0mmodel\u001b[0m\u001b[1;33m.\u001b[0m\u001b[0mpacrr\u001b[0m \u001b[1;32mimport\u001b[0m \u001b[0mGen_PACRR_Model\u001b[0m\u001b[1;33m\u001b[0m\u001b[1;33m\u001b[0m\u001b[0m\n",
      "\u001b[1;31mModuleNotFoundError\u001b[0m: No module named 'model'"
     ]
    }
   ],
   "source": [
    "import random\n",
    "import numpy as np\n",
    "import pandas as pd\n",
    "import tensorflow as tf\n",
    "import matplotlib.pyplot as plt\n",
    "\n",
    "from ast import literal_eval\n",
    "from model.loss import Pairwise_ranking_loss\n",
    "from model.drmm import Gen_DRMM_Model\n",
    "from model.pacrr import Gen_PACRR_Model\n",
    "from model.pacrr_drmm import Gen_PACRR_DRMM_Model\n",
    "from model.callback import LossHistory, _metric\n",
    "\n",
    "from utility.utility import ndcg, mAP_score, highlight, history_plot\n",
    "from IPython.core.display import display, HTML\n",
    "\n",
    "pd.options.mode.chained_assignment = None\n",
    "\n",
    "display(HTML(\"<style>.container { width:90% !important; }</style>\"))\n",
    "pd.set_option('display.max_columns', 100)\n",
    "pd.set_option('display.max_colwidth', 99)\n",
    "pd.set_option('display.max_rows', 50)\n",
    "\n",
    "%matplotlib inline"
   ]
  },
  {
   "cell_type": "code",
   "execution_count": 2,
   "metadata": {},
   "outputs": [],
   "source": [
    "df = pd.read_csv('./data/paccr_drmm_all.csv', converters={\"positive_hist\": literal_eval,\n",
    "                                                          \"negative_hist\": literal_eval,\n",
    "                                                          \"query_idf\": literal_eval,\n",
    "                                                          \"negative_sim_matrix\": literal_eval,\n",
    "                                                          \"positive_sim_matrix\": literal_eval,\n",
    "                                                          \"idf_softmax\": literal_eval})\n",
    "\n",
    "\n",
    "df = df[['query_preprocessed', 'positive_hist', 'negative_hist', 'query_idf', 'negative_sim_matrix', 'positive_sim_matrix', 'idf_softmax']]"
   ]
  },
  {
   "cell_type": "code",
   "execution_count": 3,
   "metadata": {},
   "outputs": [],
   "source": [
    "test = pd.read_csv('./data/paccr_drmm_all_test.csv', converters={\"hist\": literal_eval,\n",
    "                                                                 \"query_idf\": literal_eval,\n",
    "                                                                 \"sim_matrix\": literal_eval,\n",
    "                                                                 \"idf_softmax\": literal_eval})\n",
    "test['binary_relevance'] = test['median_relevance'].apply(lambda x: 0 if x <= 2 else 1)"
   ]
  },
  {
   "cell_type": "code",
   "execution_count": 4,
   "metadata": {},
   "outputs": [],
   "source": [
    "dev_q = set(random.sample(list(df['query_preprocessed'].unique()), 40))\n",
    "train_q = set(df['query_preprocessed'].unique()) - dev_q"
   ]
  },
  {
   "cell_type": "code",
   "execution_count": 5,
   "metadata": {},
   "outputs": [],
   "source": [
    "train = df[df['query_preprocessed'].isin(train_q)]\n",
    "dev = df[df['query_preprocessed'].isin(dev_q)]"
   ]
  },
  {
   "cell_type": "code",
   "execution_count": 6,
   "metadata": {},
   "outputs": [],
   "source": [
    "metadata = {'negative_sim_matrix': tf.constant(train['negative_sim_matrix'].tolist(), dtype=tf.float32), \n",
    "            'positive_sim_matrix': tf.constant(train['positive_sim_matrix'].tolist(), dtype=tf.float32),\n",
    "            'idf_softmax': tf.constant(train['idf_softmax'].tolist(), dtype=tf.float32),\n",
    "            'query_idf': tf.ragged.constant(train['query_idf'], dtype=tf.float32, ragged_rank=1),\n",
    "            'positive_hist': tf.ragged.constant(train['positive_hist'], dtype=tf.float32, ragged_rank=1),\n",
    "            'negative_hist': tf.ragged.constant(train['negative_hist'], dtype=tf.float32, ragged_rank=1)}"
   ]
  },
  {
   "cell_type": "code",
   "execution_count": 7,
   "metadata": {},
   "outputs": [],
   "source": [
    "metadata_dev = {'negative_sim_matrix': tf.constant(dev['negative_sim_matrix'].tolist(), dtype=tf.float32),\n",
    "                'positive_sim_matrix': tf.constant(dev['positive_sim_matrix'].tolist(), dtype=tf.float32),\n",
    "                'idf_softmax': tf.constant(dev['idf_softmax'].tolist(), dtype=tf.float32),\n",
    "                'query_idf': tf.ragged.constant(dev['query_idf'], dtype=tf.float32, ragged_rank=1),\n",
    "                'positive_hist': tf.ragged.constant(dev['positive_hist'], dtype=tf.float32, ragged_rank=1),\n",
    "                'negative_hist': tf.ragged.constant(dev['negative_hist'], dtype=tf.float32, ragged_rank=1)}"
   ]
  },
  {
   "cell_type": "code",
   "execution_count": 8,
   "metadata": {},
   "outputs": [],
   "source": [
    "firstk = 8\n",
    "lq = 6\n",
    "lg = 5\n",
    "nf = 32\n",
    "ns = 2"
   ]
  },
  {
   "cell_type": "code",
   "execution_count": 9,
   "metadata": {},
   "outputs": [
    {
     "name": "stdout",
     "output_type": "stream",
     "text": [
      "Epoch 1/100\n"
     ]
    },
    {
     "name": "stderr",
     "output_type": "stream",
     "text": [
      "C:\\Users\\kwon\\anaconda3\\lib\\site-packages\\tensorflow\\python\\framework\\indexed_slices.py:432: UserWarning: Converting sparse IndexedSlices to a dense Tensor of unknown shape. This may consume a large amount of memory.\n",
      "  \"Converting sparse IndexedSlices to a dense Tensor of unknown shape. \"\n"
     ]
    },
    {
     "name": "stdout",
     "output_type": "stream",
     "text": [
      "333/334 [============================>.] - ETA: 0s - loss: 0.9998 - val_ndcg: 0.7777 - val_mAP: 0.8148\n",
      "334/334 [==============================] - 30s 90ms/step - loss: 0.9998 - val_loss: 0.9997\n",
      "Epoch 2/100\n",
      "334/334 [==============================] - ETA: 0s - loss: 0.9998 - val_ndcg: 0.7817 - val_mAP: 0.8186\n",
      "334/334 [==============================] - 20s 61ms/step - loss: 0.9998 - val_loss: 0.9996\n",
      "Epoch 3/100\n",
      "333/334 [============================>.] - ETA: 0s - loss: 0.9997 - val_ndcg: 0.7859 - val_mAP: 0.8218\n",
      "334/334 [==============================] - 20s 59ms/step - loss: 0.9997 - val_loss: 0.9996\n",
      "Epoch 4/100\n",
      "334/334 [==============================] - ETA: 0s - loss: 0.9996 - val_ndcg: 0.7897 - val_mAP: 0.8263\n",
      "334/334 [==============================] - 20s 60ms/step - loss: 0.9996 - val_loss: 0.9994\n",
      "Epoch 5/100\n",
      "334/334 [==============================] - ETA: 0s - loss: 0.9995 - val_ndcg: 0.7944 - val_mAP: 0.8307\n",
      "334/334 [==============================] - 20s 59ms/step - loss: 0.9995 - val_loss: 0.9993\n",
      "Epoch 6/100\n",
      "334/334 [==============================] - ETA: 0s - loss: 0.9993 - val_ndcg: 0.7997 - val_mAP: 0.8338\n",
      "334/334 [==============================] - 20s 59ms/step - loss: 0.9993 - val_loss: 0.9991\n",
      "Epoch 7/100\n",
      "334/334 [==============================] - ETA: 0s - loss: 0.9991 - val_ndcg: 0.8029 - val_mAP: 0.8367\n",
      "334/334 [==============================] - 20s 61ms/step - loss: 0.9991 - val_loss: 0.9988\n",
      "Epoch 8/100\n",
      "333/334 [============================>.] - ETA: 0s - loss: 0.9988- ETA: 0s - loss: 0 - val_ndcg: 0.8058 - val_mAP: 0.8394\n",
      "334/334 [==============================] - 20s 59ms/step - loss: 0.9988 - val_loss: 0.9985\n",
      "Epoch 9/100\n",
      "334/334 [==============================] - ETA: 0s - loss: 0.9984 - val_ndcg: 0.8090 - val_mAP: 0.8425\n",
      "334/334 [==============================] - 20s 59ms/step - loss: 0.9984 - val_loss: 0.9980\n",
      "Epoch 10/100\n",
      "334/334 [==============================] - ETA: 0s - loss: 0.9978 - val_ndcg: 0.8121 - val_mAP: 0.8453\n",
      "334/334 [==============================] - 21s 63ms/step - loss: 0.9978 - val_loss: 0.9972\n",
      "Epoch 11/100\n",
      "334/334 [==============================] - ETA: 0s - loss: 0.9970 - val_ndcg: 0.8147 - val_mAP: 0.8475\n",
      "334/334 [==============================] - 34s 101ms/step - loss: 0.9970 - val_loss: 0.9961\n",
      "Epoch 12/100\n",
      "334/334 [==============================] - ETA: 0s - loss: 0.9956 - val_ndcg: 0.8170 - val_mAP: 0.8492\n",
      "334/334 [==============================] - 26s 78ms/step - loss: 0.9956 - val_loss: 0.9943\n",
      "Epoch 13/100\n",
      "332/334 [============================>.] - ETA: 0s - loss: 0.9934 - val_ndcg: 0.8190 - val_mAP: 0.8512\n",
      "334/334 [==============================] - 21s 63ms/step - loss: 0.9934 - val_loss: 0.9913\n",
      "Epoch 14/100\n",
      "334/334 [==============================] - ETA: 0s - loss: 0.9894 - val_ndcg: 0.8198 - val_mAP: 0.8526\n",
      "334/334 [==============================] - 21s 62ms/step - loss: 0.9894 - val_loss: 0.9859\n",
      "Epoch 15/100\n",
      "334/334 [==============================] - ETA: 0s - loss: 0.9817 - val_ndcg: 0.8226 - val_mAP: 0.8542\n",
      "334/334 [==============================] - 21s 64ms/step - loss: 0.9817 - val_loss: 0.9752\n",
      "Epoch 16/100\n",
      "334/334 [==============================] - ETA: 0s - loss: 0.9652 - val_ndcg: 0.8243 - val_mAP: 0.8559\n",
      "334/334 [==============================] - 20s 61ms/step - loss: 0.9652 - val_loss: 0.9516\n",
      "Epoch 17/100\n",
      "331/334 [============================>.] - ETA: 0s - loss: 0.9267 - val_ndcg: 0.8250 - val_mAP: 0.8556\n",
      "334/334 [==============================] - 20s 60ms/step - loss: 0.9264 - val_loss: 0.8955\n",
      "Epoch 18/100\n",
      "334/334 [==============================] - ETA: 0s - loss: 0.8452 - val_ndcg: 0.8274 - val_mAP: 0.8569\n",
      "334/334 [==============================] - 21s 64ms/step - loss: 0.8452 - val_loss: 0.8229\n",
      "Epoch 19/100\n",
      "332/334 [============================>.] - ETA: 0s - loss: 0.7797 - val_ndcg: 0.8306 - val_mAP: 0.8603\n",
      "334/334 [==============================] - 21s 62ms/step - loss: 0.7799 - val_loss: 0.7979\n",
      "Epoch 20/100\n",
      "333/334 [============================>.] - ETA: 0s - loss: 0.7548 - val_ndcg: 0.8316 - val_mAP: 0.8608\n",
      "334/334 [==============================] - 21s 62ms/step - loss: 0.7550 - val_loss: 0.7894\n",
      "Epoch 21/100\n",
      "329/334 [============================>.] - ETA: 0s - loss: 0.7437 - val_ndcg: 0.8314 - val_mAP: 0.8611\n",
      "334/334 [==============================] - 21s 62ms/step - loss: 0.7436 - val_loss: 0.7859\n",
      "Epoch 22/100\n",
      "328/334 [============================>.] - ETA: 0s - loss: 0.7375 - val_ndcg: 0.8307 - val_mAP: 0.8603\n",
      "334/334 [==============================] - 21s 63ms/step - loss: 0.7372 - val_loss: 0.7849\n",
      "Epoch 23/100\n",
      "331/334 [============================>.] - ETA: 0s - loss: 0.7337 - val_ndcg: 0.8299 - val_mAP: 0.8601\n",
      "334/334 [==============================] - 20s 61ms/step - loss: 0.7334 - val_loss: 0.7847\n",
      "Epoch 24/100\n",
      "330/334 [============================>.] - ETA: 0s - loss: 0.7310 - val_ndcg: 0.8295 - val_mAP: 0.8599\n",
      "334/334 [==============================] - 20s 61ms/step - loss: 0.7311 - val_loss: 0.7849\n",
      "Epoch 25/100\n",
      "332/334 [============================>.] - ETA: 0s - loss: 0.7293- ETA: 0s - - val_ndcg: 0.8302 - val_mAP: 0.8607\n",
      "334/334 [==============================] - 22s 66ms/step - loss: 0.7295 - val_loss: 0.7854\n",
      "Epoch 26/100\n",
      "334/334 [==============================] - ETA: 0s - loss: 0.7283 - val_ndcg: 0.8310 - val_mAP: 0.8615\n",
      "334/334 [==============================] - 21s 61ms/step - loss: 0.7283 - val_loss: 0.7859\n",
      "Epoch 27/100\n",
      "334/334 [==============================] - ETA: 0s - loss: 0.7276 - val_ndcg: 0.8299 - val_mAP: 0.8601\n",
      "334/334 [==============================] - 21s 64ms/step - loss: 0.7276 - val_loss: 0.7863\n"
     ]
    },
    {
     "data": {
      "text/plain": [
       "<tensorflow.python.keras.callbacks.History at 0x1960cf72648>"
      ]
     },
     "execution_count": 9,
     "metadata": {},
     "output_type": "execute_result"
    }
   ],
   "source": [
    "drmm = Gen_DRMM_Model()\n",
    "\n",
    "drmm.compile(optimizer=tf.keras.optimizers.Adagrad(learning_rate=.1),\n",
    "             loss=Pairwise_ranking_loss)\n",
    "\n",
    "history_drmm = LossHistory()\n",
    "drmm_metric = _metric(test)\n",
    "\n",
    "total_epoch_count = 100\n",
    "batch_size = 256\n",
    "drmm.fit(x=metadata, y=tf.constant([0.]*len(train)),\n",
    "         validation_data=(metadata_dev, tf.constant([0.]*len(dev))),\n",
    "         shuffle=True,\n",
    "         epochs=total_epoch_count,\n",
    "         batch_size=batch_size,\n",
    "         callbacks=[tf.keras.callbacks.EarlyStopping(monitor='val_loss', patience=4, restore_best_weights=True),\n",
    "                    history_drmm, drmm_metric])"
   ]
  },
  {
   "cell_type": "code",
   "execution_count": 11,
   "metadata": {},
   "outputs": [],
   "source": [
    "history_plot(history_drmm, drmm_metric, batch_size, df=train)"
   ]
  },
  {
   "cell_type": "code",
   "execution_count": null,
   "metadata": {},
   "outputs": [],
   "source": [
    "pacrr = Gen_PACRR_Model(firstk, lq, lg, nf, ns)\n",
    "\n",
    "pacrr.compile(optimizer=tf.keras.optimizers.Adagrad(learning_rate=.1),\n",
    "              loss=Pairwise_ranking_loss)\n",
    "\n",
    "history_pacrr = LossHistory()\n",
    "pacrr_metric = _metric(test)\n",
    "total_epoch_count = 30\n",
    "batch_size=128\n",
    "pacrr.fit(x=metadata, y=tf.constant([0.]*len(train)), \n",
    "          validation_data=(metadata_dev, tf.constant([0.]*len(dev))),\n",
    "          shuffle=True,\n",
    "          epochs=total_epoch_count,\n",
    "          batch_size=batch_size,\n",
    "          callbacks=[tf.keras.callbacks.EarlyStopping(monitor='val_loss', patience=4, restore_best_weights=True),\n",
    "                     history_pacrr, pacrr_metric])"
   ]
  },
  {
   "cell_type": "code",
   "execution_count": null,
   "metadata": {},
   "outputs": [],
   "source": [
    "history_plot(history_pacrr, pacrr_metric, batch_size, df=train)"
   ]
  },
  {
   "cell_type": "code",
   "execution_count": null,
   "metadata": {
    "scrolled": false
   },
   "outputs": [],
   "source": [
    "pacrr_drmm = Gen_PACRR_DRMM_Model(firstk, lq, lg, nf, ns)\n",
    "\n",
    "pacrr_drmm.compile(optimizer=tf.keras.optimizers.Adagrad(learning_rate=.1),\n",
    "                   loss=Pairwise_ranking_loss)\n",
    "\n",
    "history_pacrr_drmm = LossHistory()\n",
    "pacrr_drmm_metric = _metric(test)\n",
    "total_epoch_count = 30\n",
    "batch_size=128\n",
    "pacrr_drmm.fit(x=metadata, y=tf.constant([0.]*len(train)),\n",
    "               validation_data=(metadata_dev, tf.constant([0.]*len(dev))),\n",
    "               shuffle=True,\n",
    "               epochs=total_epoch_count,\n",
    "               batch_size=batch_size,\n",
    "               callbacks=[tf.keras.callbacks.EarlyStopping(monitor='val_loss', patience=4, restore_best_weights=True),\n",
    "                          history_pacrr_drmm, pacrr_drmm_metric])"
   ]
  },
  {
   "cell_type": "code",
   "execution_count": null,
   "metadata": {},
   "outputs": [],
   "source": [
    "history_plot(history_pacrr_drmm, pacrr_drmm_metric, batch_size, df=train)"
   ]
  },
  {
   "cell_type": "code",
   "execution_count": null,
   "metadata": {},
   "outputs": [],
   "source": [
    "# ndcg_test = test[test['query'] == 'acoustic guitar clamp'].head(20)\n",
    "ndcg_test = test[test['query_preprocessed'] == random.sample(dev_q, 1)[0]]\n",
    "\n",
    "metadata_ndcg = {'negative_sim_matrix' : tf.constant(ndcg_test['sim_matrix'].tolist(), dtype=tf.float32),\n",
    "                 'positive_sim_matrix' : tf.constant(ndcg_test['sim_matrix'].tolist(), dtype=tf.float32),\n",
    "                 'idf_softmax'         : tf.constant(ndcg_test['idf_softmax'].tolist(), dtype=tf.float32),\n",
    "                 'query_idf'           : tf.ragged.constant(ndcg_test['query_idf'], dtype=tf.float32, ragged_rank=1),\n",
    "                 'positive_hist'       : tf.ragged.constant(ndcg_test['hist'], dtype=tf.float32, ragged_rank=1),\n",
    "                 'negative_hist'       : tf.ragged.constant(ndcg_test['hist'], dtype=tf.float32, ragged_rank=1)}\n",
    "\n",
    "ndcg_test.insert(5, 'rel_drmm', drmm.predict(metadata_ndcg)[:len(ndcg_test)], True)\n",
    "ndcg_test.insert(5, 'rel_pacrr', pacrr.predict(metadata_ndcg)[:len(ndcg_test)], True)\n",
    "ndcg_test.insert(5, 'rel_pacrr_drmm', pacrr_drmm.predict(metadata_ndcg)[:len(ndcg_test)], True)\n",
    "\n",
    "pacrr_drmm_pred = ndcg_test.sort_values(by=['rel_pacrr_drmm'], axis=0, ascending=False)[['query', 'product_title', 'median_relevance', 'rel_pacrr_drmm', 'rel_pacrr', 'rel_drmm']]\n",
    "pacrr_drmm_pred.style.apply(highlight, axis=1).set_properties(subset=['query', \"product_title\"], **{'text-align': 'left'}).hide_index()"
   ]
  },
  {
   "cell_type": "code",
   "execution_count": null,
   "metadata": {},
   "outputs": [],
   "source": [
    "pacrr_pred = ndcg_test.sort_values(by=['rel_pacrr'], axis=0, ascending=False)[['query', 'product_title', 'median_relevance', 'rel_pacrr_drmm', 'rel_pacrr', 'rel_drmm']]\n",
    "pacrr_pred.style.apply(highlight, axis=1).set_properties(subset=['query', \"product_title\"], **{'text-align': 'left'}).hide_index()"
   ]
  },
  {
   "cell_type": "code",
   "execution_count": null,
   "metadata": {},
   "outputs": [],
   "source": [
    "drmm_pred = ndcg_test.sort_values(by=['rel_drmm'], axis=0, ascending=False)[['query', 'product_title', 'median_relevance', 'rel_pacrr_drmm', 'rel_pacrr', 'rel_drmm']]\n",
    "drmm_pred.style.apply(highlight, axis=1).set_properties(subset=['query', \"product_title\"], **{'text-align': 'left'}).hide_index()"
   ]
  }
 ],
 "metadata": {
  "kernelspec": {
   "display_name": "Python 3",
   "language": "python",
   "name": "python3"
  },
  "language_info": {
   "codemirror_mode": {
    "name": "ipython",
    "version": 3
   },
   "file_extension": ".py",
   "mimetype": "text/x-python",
   "name": "python",
   "nbconvert_exporter": "python",
   "pygments_lexer": "ipython3",
   "version": "3.7.6"
  },
  "toc": {
   "base_numbering": 1,
   "nav_menu": {},
   "number_sections": true,
   "sideBar": true,
   "skip_h1_title": false,
   "title_cell": "Table of Contents",
   "title_sidebar": "Contents",
   "toc_cell": false,
   "toc_position": {},
   "toc_section_display": true,
   "toc_window_display": false
  },
  "varInspector": {
   "cols": {
    "lenName": 16,
    "lenType": 16,
    "lenVar": 40
   },
   "kernels_config": {
    "python": {
     "delete_cmd_postfix": "",
     "delete_cmd_prefix": "del ",
     "library": "var_list.py",
     "varRefreshCmd": "print(var_dic_list())"
    },
    "r": {
     "delete_cmd_postfix": ") ",
     "delete_cmd_prefix": "rm(",
     "library": "var_list.r",
     "varRefreshCmd": "cat(var_dic_list()) "
    }
   },
   "types_to_exclude": [
    "module",
    "function",
    "builtin_function_or_method",
    "instance",
    "_Feature"
   ],
   "window_display": false
  }
 },
 "nbformat": 4,
 "nbformat_minor": 4
}
